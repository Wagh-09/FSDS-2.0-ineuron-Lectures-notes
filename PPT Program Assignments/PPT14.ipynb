





<!DOCTYPE html>
<html lang="en" data-color-mode="auto" data-light-theme="light" data-dark-theme="dark"  data-a11y-animated-images="system">
  <head>
    <meta charset="utf-8">
  <link rel="dns-prefetch" href="https://github.githubassets.com">
  <link rel="dns-prefetch" href="https://avatars.githubusercontent.com">
  <link rel="dns-prefetch" href="https://github-cloud.s3.amazonaws.com">
  <link rel="dns-prefetch" href="https://user-images.githubusercontent.com/">
  <link rel="preconnect" href="https://github.githubassets.com" crossorigin>
  <link rel="preconnect" href="https://avatars.githubusercontent.com">

  


  <link crossorigin="anonymous" media="all" rel="stylesheet" href="https://github.githubassets.com/assets/light-8cafbcbd78f4.css" /><link crossorigin="anonymous" media="all" rel="stylesheet" href="https://github.githubassets.com/assets/dark-31dc14e38457.css" /><link data-color-theme="dark_dimmed" crossorigin="anonymous" media="all" rel="stylesheet" data-href="https://github.githubassets.com/assets/dark_dimmed-71414d661fe2.css" /><link data-color-theme="dark_high_contrast" crossorigin="anonymous" media="all" rel="stylesheet" data-href="https://github.githubassets.com/assets/dark_high_contrast-ba96c7f1d660.css" /><link data-color-theme="dark_colorblind" crossorigin="anonymous" media="all" rel="stylesheet" data-href="https://github.githubassets.com/assets/dark_colorblind-7471c22cdb6a.css" /><link data-color-theme="light_colorblind" crossorigin="anonymous" media="all" rel="stylesheet" data-href="https://github.githubassets.com/assets/light_colorblind-80180bed15ed.css" /><link data-color-theme="light_high_contrast" crossorigin="anonymous" media="all" rel="stylesheet" data-href="https://github.githubassets.com/assets/light_high_contrast-e89b9cdecb75.css" /><link data-color-theme="light_tritanopia" crossorigin="anonymous" media="all" rel="stylesheet" data-href="https://github.githubassets.com/assets/light_tritanopia-77f15e9154df.css" /><link data-color-theme="dark_tritanopia" crossorigin="anonymous" media="all" rel="stylesheet" data-href="https://github.githubassets.com/assets/dark_tritanopia-f598f8dd18ae.css" />
  
    <link crossorigin="anonymous" media="all" rel="stylesheet" href="https://github.githubassets.com/assets/primer-primitives-fb1d51d1ef66.css" />
    <link crossorigin="anonymous" media="all" rel="stylesheet" href="https://github.githubassets.com/assets/primer-05fec56eb582.css" />
    <link crossorigin="anonymous" media="all" rel="stylesheet" href="https://github.githubassets.com/assets/global-280e28c4e8be.css" />
    <link crossorigin="anonymous" media="all" rel="stylesheet" href="https://github.githubassets.com/assets/github-21dc4e5af19d.css" />
  <link crossorigin="anonymous" media="all" rel="stylesheet" href="https://github.githubassets.com/assets/code-ca6467096a82.css" />

  

  <script type="application/json" id="client-env">{"locale":"en","featureFlags":["failbot_handle_non_errors","fix_react_title","geojson_azure_maps","image_metric_tracking","turbo_experiment_risky","use_scroll_restoration"]}</script>
<script crossorigin="anonymous" defer="defer" type="application/javascript" src="https://github.githubassets.com/assets/wp-runtime-0f48a76eff4d.js"></script>
<script crossorigin="anonymous" defer="defer" type="application/javascript" src="https://github.githubassets.com/assets/vendors-node_modules_dompurify_dist_purify_js-64d590970fa6.js"></script>
<script crossorigin="anonymous" defer="defer" type="application/javascript" src="https://github.githubassets.com/assets/vendors-node_modules_stacktrace-parser_dist_stack-trace-parser_esm_js-node_modules_github_bro-a4c183-ae93d3fba59c.js"></script>
<script crossorigin="anonymous" defer="defer" type="application/javascript" src="https://github.githubassets.com/assets/ui_packages_soft-nav_soft-nav_ts-db8b037dfa8f.js"></script>
<script crossorigin="anonymous" defer="defer" type="application/javascript" src="https://github.githubassets.com/assets/environment-c2140938ffde.js"></script>
<script crossorigin="anonymous" defer="defer" type="application/javascript" src="https://github.githubassets.com/assets/vendors-node_modules_github_selector-observer_dist_index_esm_js-2646a2c533e3.js"></script>
<script crossorigin="anonymous" defer="defer" type="application/javascript" src="https://github.githubassets.com/assets/vendors-node_modules_primer_behaviors_dist_esm_focus-zone_js-d55308df5023.js"></script>
<script crossorigin="anonymous" defer="defer" type="application/javascript" src="https://github.githubassets.com/assets/vendors-node_modules_github_relative-time-element_dist_index_js-99e288659d4f.js"></script>
<script crossorigin="anonymous" defer="defer" type="application/javascript" src="https://github.githubassets.com/assets/vendors-node_modules_fzy_js_index_js-node_modules_github_markdown-toolbar-element_dist_index_js-d2119e75298d.js"></script>
<script crossorigin="anonymous" defer="defer" type="application/javascript" src="https://github.githubassets.com/assets/vendors-node_modules_delegated-events_dist_index_js-node_modules_github_auto-complete-element-5b3870-9b38c0812424.js"></script>
<script crossorigin="anonymous" defer="defer" type="application/javascript" src="https://github.githubassets.com/assets/vendors-node_modules_github_filter-input-element_dist_index_js-node_modules_github_remote-inp-8873b7-5771678648e0.js"></script>
<script crossorigin="anonymous" defer="defer" type="application/javascript" src="https://github.githubassets.com/assets/vendors-node_modules_github_file-attachment-element_dist_index_js-node_modules_github_text-ex-3415a8-7ecc10fb88d0.js"></script>
<script crossorigin="anonymous" defer="defer" type="application/javascript" src="https://github.githubassets.com/assets/vendors-node_modules_primer_view-components_app_components_primer_primer_js-node_modules_gith-e7a1e2-0c753046063c.js"></script>
<script crossorigin="anonymous" defer="defer" type="application/javascript" src="https://github.githubassets.com/assets/github-elements-82e8d1a2fb81.js"></script>
<script crossorigin="anonymous" defer="defer" type="application/javascript" src="https://github.githubassets.com/assets/element-registry-0c082928b31c.js"></script>
<script crossorigin="anonymous" defer="defer" type="application/javascript" src="https://github.githubassets.com/assets/vendors-node_modules_lit-html_lit-html_js-9d9fe1859ce5.js"></script>
<script crossorigin="anonymous" defer="defer" type="application/javascript" src="https://github.githubassets.com/assets/vendors-node_modules_github_hydro-analytics-client_dist_analytics-client_js-node_modules_gith-f3aee1-fd3c22610e40.js"></script>
<script crossorigin="anonymous" defer="defer" type="application/javascript" src="https://github.githubassets.com/assets/vendors-node_modules_morphdom_dist_morphdom-esm_js-b1fdd7158cf0.js"></script>
<script crossorigin="anonymous" defer="defer" type="application/javascript" src="https://github.githubassets.com/assets/vendors-node_modules_github_mini-throttle_dist_index_js-node_modules_github_alive-client_dist-bf5aa2-424aa982deef.js"></script>
<script crossorigin="anonymous" defer="defer" type="application/javascript" src="https://github.githubassets.com/assets/vendors-node_modules_github_turbo_dist_turbo_es2017-esm_js-1f4793023fcd.js"></script>
<script crossorigin="anonymous" defer="defer" type="application/javascript" src="https://github.githubassets.com/assets/vendors-node_modules_github_remote-form_dist_index_js-node_modules_scroll-anchoring_dist_scro-52dc4b-e1e33bfc0b7e.js"></script>
<script crossorigin="anonymous" defer="defer" type="application/javascript" src="https://github.githubassets.com/assets/vendors-node_modules_color-convert_index_js-35b3ae68c408.js"></script>
<script crossorigin="anonymous" defer="defer" type="application/javascript" src="https://github.githubassets.com/assets/vendors-node_modules_github_paste-markdown_dist_index_esm_js-node_modules_github_quote-select-7a8e2b-f036384374ea.js"></script>
<script crossorigin="anonymous" defer="defer" type="application/javascript" src="https://github.githubassets.com/assets/app_assets_modules_github_updatable-content_ts-126aeb5c22c9.js"></script>
<script crossorigin="anonymous" defer="defer" type="application/javascript" src="https://github.githubassets.com/assets/app_assets_modules_github_behaviors_task-list_ts-app_assets_modules_github_onfocus_ts-app_ass-079b43-c46fa3ecf26e.js"></script>
<script crossorigin="anonymous" defer="defer" type="application/javascript" src="https://github.githubassets.com/assets/app_assets_modules_github_sticky-scroll-into-view_ts-050ad6637d58.js"></script>
<script crossorigin="anonymous" defer="defer" type="application/javascript" src="https://github.githubassets.com/assets/app_assets_modules_github_blob-anchor_ts-app_assets_modules_github_cookies_ts-app_assets_modu-4c025d-23cbb87a0af9.js"></script>
<script crossorigin="anonymous" defer="defer" type="application/javascript" src="https://github.githubassets.com/assets/app_assets_modules_github_behaviors_commenting_edit_ts-app_assets_modules_github_behaviors_ht-83c235-f22ac6b94445.js"></script>
<script crossorigin="anonymous" defer="defer" type="application/javascript" src="https://github.githubassets.com/assets/app_assets_modules_github_behaviors_ajax-error_ts-app_assets_modules_github_behaviors_include-2e2258-113626c1b575.js"></script>
<script crossorigin="anonymous" defer="defer" type="application/javascript" src="https://github.githubassets.com/assets/behaviors-2e6589c2abc8.js"></script>
<script crossorigin="anonymous" defer="defer" type="application/javascript" src="https://github.githubassets.com/assets/vendors-node_modules_delegated-events_dist_index_js-node_modules_github_catalyst_lib_index_js-06ff531-fe0b8ccc90a5.js"></script>
<script crossorigin="anonymous" defer="defer" type="application/javascript" src="https://github.githubassets.com/assets/notifications-global-f57687007bfc.js"></script>
<script crossorigin="anonymous" defer="defer" type="application/javascript" src="https://github.githubassets.com/assets/code-menu-edcbb51ff424.js"></script>
  
  <script crossorigin="anonymous" defer="defer" type="application/javascript" src="https://github.githubassets.com/assets/react-lib-210c4b5934c3.js"></script>
<script crossorigin="anonymous" defer="defer" type="application/javascript" src="https://github.githubassets.com/assets/vendors-node_modules_primer_octicons-react_dist_index_esm_js-node_modules_primer_react_lib-es-4edbf7-5ec044a77573.js"></script>
<script crossorigin="anonymous" defer="defer" type="application/javascript" src="https://github.githubassets.com/assets/vendors-node_modules_primer_react_lib-esm_Button_index_js-de75df76800b.js"></script>
<script crossorigin="anonymous" defer="defer" type="application/javascript" src="https://github.githubassets.com/assets/vendors-node_modules_primer_react_lib-esm_ActionList_index_js-cf279ec390fe.js"></script>
<script crossorigin="anonymous" defer="defer" type="application/javascript" src="https://github.githubassets.com/assets/vendors-node_modules_primer_react_lib-esm_Overlay_Overlay_js-node_modules_primer_react_lib-es-c25505-7256d09cc6de.js"></script>
<script crossorigin="anonymous" defer="defer" type="application/javascript" src="https://github.githubassets.com/assets/vendors-node_modules_primer_react_lib-esm_TextInput_TextInput_js-bda16ad5f5c0.js"></script>
<script crossorigin="anonymous" defer="defer" type="application/javascript" src="https://github.githubassets.com/assets/vendors-node_modules_primer_react_lib-esm_ActionMenu_js-fb2356b308cf.js"></script>
<script crossorigin="anonymous" defer="defer" type="application/javascript" src="https://github.githubassets.com/assets/vendors-node_modules_primer_behaviors_dist_esm_scroll-into-view_js-node_modules_primer_react_-04bb1b-f1078ffd63d6.js"></script>
<script crossorigin="anonymous" defer="defer" type="application/javascript" src="https://github.githubassets.com/assets/vendors-node_modules_primer_react_lib-esm_FormControl_FormControl_js-3ec7b5d8c7d7.js"></script>
<script crossorigin="anonymous" defer="defer" type="application/javascript" src="https://github.githubassets.com/assets/vendors-node_modules_react-router-dom_dist_index_js-4a785319b497.js"></script>
<script crossorigin="anonymous" defer="defer" type="application/javascript" src="https://github.githubassets.com/assets/vendors-node_modules_primer_react_lib-esm_Heading_Heading_js-node_modules_primer_react_lib-es-20c766-3952b4d6d547.js"></script>
<script crossorigin="anonymous" defer="defer" type="application/javascript" src="https://github.githubassets.com/assets/vendors-node_modules_primer_react_lib-esm_Dialog_ConfirmationDialog_js-a160e95ee1e8.js"></script>
<script crossorigin="anonymous" defer="defer" type="application/javascript" src="https://github.githubassets.com/assets/vendors-node_modules_primer_react_lib-esm_Dialog_js-node_modules_primer_react_lib-esm_TabNav_-8321f5-f6c3aa4bc5a3.js"></script>
<script crossorigin="anonymous" defer="defer" type="application/javascript" src="https://github.githubassets.com/assets/vendors-node_modules_primer_react_lib-esm_TreeView_TreeView_js-2d5a3fb3b8ec.js"></script>
<script crossorigin="anonymous" defer="defer" type="application/javascript" src="https://github.githubassets.com/assets/vendors-node_modules_primer_react_lib-esm_Label_Label_js-node_modules_primer_react_lib-esm_Na-46dd9b-87cea263d02a.js"></script>
<script crossorigin="anonymous" defer="defer" type="application/javascript" src="https://github.githubassets.com/assets/vendors-node_modules_primer_react_lib-esm_AvatarStack_AvatarStack_js-node_modules_primer_reac-0b4173-d8ba3894d9e9.js"></script>
<script crossorigin="anonymous" defer="defer" type="application/javascript" src="https://github.githubassets.com/assets/vendors-node_modules_primer_react_lib-esm_Avatar_Avatar_js-node_modules_primer_react_lib-esm_-df8a0c-dd641d38ef01.js"></script>
<script crossorigin="anonymous" defer="defer" type="application/javascript" src="https://github.githubassets.com/assets/ui_packages_react-core_create-browser-history_ts-ui_packages_react-core_deferred-registry_ts--ebbb92-50880bdc5744.js"></script>
<script crossorigin="anonymous" defer="defer" type="application/javascript" src="https://github.githubassets.com/assets/ui_packages_react-core_register-app_ts-93cc6fb20bd5.js"></script>
<script crossorigin="anonymous" defer="defer" type="application/javascript" src="https://github.githubassets.com/assets/ui_packages_ref-selector_RefSelector_tsx-ui_packages_safe-html_SafeHTML_tsx-5e5aa97558ac.js"></script>
<script crossorigin="anonymous" defer="defer" type="application/javascript" src="https://github.githubassets.com/assets/app_assets_modules_blackbird-monolith_utilities_append-and-focus-search-bar_ts-app_assets_mod-a1e934-d2871ae49f44.js"></script>
<script crossorigin="anonymous" defer="defer" type="application/javascript" src="https://github.githubassets.com/assets/ui_packages_trusted-types-policies_policy_ts-ui_packages_trusted-types_trusted-types_ts-app_a-af1c83-5ac8c5dd1d3a.js"></script>
<script crossorigin="anonymous" defer="defer" type="application/javascript" src="https://github.githubassets.com/assets/react-code-view-69c93727396c.js"></script>


  <title>INeuron_FSDS_2.0_Assignment/PPt program/PPT14.ipynb at main · Saurabh8734/INeuron_FSDS_2.0_Assignment</title>



  <meta name="route-pattern" content="/:user_id/:repository/blob/*name(/*path)">

    
  <meta name="current-catalog-service-hash" content="82c569b93da5c18ed649ebd4c2c79437db4611a6a1373e805a3cb001c64130b7">


  <meta name="request-id" content="F17A:322E02:DE49DD:FAB4D6:64C52E78" data-turbo-transient="true" /><meta name="html-safe-nonce" content="a4e3a89f141b9f9aaba7f46e028c1145fbe074c38e19f2e6c19929495159cb9b" data-turbo-transient="true" /><meta name="visitor-payload" content="eyJyZWZlcnJlciI6Imh0dHBzOi8vZ2l0aHViLmNvbS9TYXVyYWJoODczNC9JTmV1cm9uX0ZTRFNfMi4wX0Fzc2lnbm1lbnQvdHJlZS9tYWluL1BQdCUyMHByb2dyYW0iLCJyZXF1ZXN0X2lkIjoiRjE3QTozMjJFMDI6REU0OUREOkZBQjRENjo2NEM1MkU3OCIsInZpc2l0b3JfaWQiOiIxMDc1NDI2ODQwMTM5ODc0ODUzIiwicmVnaW9uX2VkZ2UiOiJjZW50cmFsaW5kaWEiLCJyZWdpb25fcmVuZGVyIjoiaWFkIn0=" data-turbo-transient="true" /><meta name="visitor-hmac" content="cfbcc4c408064ef0127ebfe4087b6f9bed63eb355d0daa8ff5ddaaa62478651a" data-turbo-transient="true" />


    <meta name="hovercard-subject-tag" content="repository:649990404" data-turbo-transient>


  <meta name="github-keyboard-shortcuts" content="repository,source-code,file-tree" data-turbo-transient="true" />
  

  <meta name="selected-link" value="repo_source" data-turbo-transient>
  <link rel="assets" href="https://github.githubassets.com/">

    <meta name="google-site-verification" content="c1kuD-K2HIVF635lypcsWPoD4kilo5-jA_wBFyT4uMY">
  <meta name="google-site-verification" content="KT5gs8h0wvaagLKAVWq8bbeNwnZZK1r1XQysX3xurLU">
  <meta name="google-site-verification" content="ZzhVyEFwb7w3e0-uOTltm8Jsck2F5StVihD0exw2fsA">
  <meta name="google-site-verification" content="GXs5KoUUkNCoaAZn7wPN-t01Pywp9M3sEjnt_3_ZWPc">
  <meta name="google-site-verification" content="Apib7-x98H0j5cPqHWwSMm6dNU4GmODRoqxLiDzdx9I">

<meta name="octolytics-url" content="https://collector.github.com/github/collect" /><meta name="octolytics-actor-id" content="102730587" /><meta name="octolytics-actor-login" content="Wagh-09" /><meta name="octolytics-actor-hash" content="d91962694399b84fb48f3d88df53e1dc98b55cae4e5868727ab85f9cac462089" />

  <meta name="analytics-location" content="/&lt;user-name&gt;/&lt;repo-name&gt;/blob/show" data-turbo-transient="true" />

  




  

    <meta name="user-login" content="Wagh-09">

  <link rel="sudo-modal" href="/sessions/sudo_modal">

    <meta name="viewport" content="width=device-width">
    
      <meta name="description" content="Contribute to Saurabh8734/INeuron_FSDS_2.0_Assignment development by creating an account on GitHub.">
      <link rel="search" type="application/opensearchdescription+xml" href="/opensearch.xml" title="GitHub">
    <link rel="fluid-icon" href="https://github.com/fluidicon.png" title="GitHub">
    <meta property="fb:app_id" content="1401488693436528">
    <meta name="apple-itunes-app" content="app-id=1477376905, app-argument=https://github.com/Saurabh8734/INeuron_FSDS_2.0_Assignment/blob/main/PPt%20program/PPT14.ipynb" />
      <meta name="twitter:image:src" content="https://opengraph.githubassets.com/d1aede0b450c3250af84fdd22f3819b73faee541c0162803fcc2fb95746661d6/Saurabh8734/INeuron_FSDS_2.0_Assignment" /><meta name="twitter:site" content="@github" /><meta name="twitter:card" content="summary_large_image" /><meta name="twitter:title" content="INeuron_FSDS_2.0_Assignment/PPt program/PPT14.ipynb at main · Saurabh8734/INeuron_FSDS_2.0_Assignment" /><meta name="twitter:description" content="Contribute to Saurabh8734/INeuron_FSDS_2.0_Assignment development by creating an account on GitHub." />
      <meta property="og:image" content="https://opengraph.githubassets.com/d1aede0b450c3250af84fdd22f3819b73faee541c0162803fcc2fb95746661d6/Saurabh8734/INeuron_FSDS_2.0_Assignment" /><meta property="og:image:alt" content="Contribute to Saurabh8734/INeuron_FSDS_2.0_Assignment development by creating an account on GitHub." /><meta property="og:image:width" content="1200" /><meta property="og:image:height" content="600" /><meta property="og:site_name" content="GitHub" /><meta property="og:type" content="object" /><meta property="og:title" content="INeuron_FSDS_2.0_Assignment/PPt program/PPT14.ipynb at main · Saurabh8734/INeuron_FSDS_2.0_Assignment" /><meta property="og:url" content="https://github.com/Saurabh8734/INeuron_FSDS_2.0_Assignment/blob/main/PPt%20program/PPT14.ipynb" /><meta property="og:description" content="Contribute to Saurabh8734/INeuron_FSDS_2.0_Assignment development by creating an account on GitHub." />
      

      <link rel="shared-web-socket" href="wss://alive.github.com/_sockets/u/102730587/ws?session=eyJ2IjoiVjMiLCJ1IjoxMDI3MzA1ODcsInMiOjExNDcxODc0NTUsImMiOjMyMDk1MzA2NDAsInQiOjE2OTA2NDQwOTV9--7fc86b28979881dcafe64454c08d6be75e2d3b613ebb568e761736f64f5d84b5" data-refresh-url="/_alive" data-session-id="c1b93836c4f78fc15b97723ee73d04b4cf79ff8c1a84bd57de4fdea544750f5e">
      <link rel="shared-web-socket-src" href="/assets-cdn/worker/socket-worker-71e98f781d79.js">


        <meta name="hostname" content="github.com">


      <meta name="keyboard-shortcuts-preference" content="all">

        <meta name="expected-hostname" content="github.com">

    <meta name="enabled-features" content="FAILBOT_HANDLE_NON_ERRORS,FIX_REACT_TITLE,GEOJSON_AZURE_MAPS,IMAGE_METRIC_TRACKING,TURBO_EXPERIMENT_RISKY,USE_SCROLL_RESTORATION">


  <meta http-equiv="x-pjax-version" content="bff9c82c6d9fb8c530904eff7fc761f4bf902e9759b3db2df9d809195392657f" data-turbo-track="reload">
  <meta http-equiv="x-pjax-csp-version" content="d578db686ab50f6f79f53006983acd122464dfeec8531d38fe12d520f9cbf1bc" data-turbo-track="reload">
  <meta http-equiv="x-pjax-css-version" content="47de9ea4ba354274ad6fb00f07b40f43b45df955eb0f7b9cfe16932b5e192042" data-turbo-track="reload">
  <meta http-equiv="x-pjax-js-version" content="4d5a2418a199e3045de8ae6ac1589b63c6c717cf8ef9cd729700392a567c0089" data-turbo-track="reload">

  <meta name="turbo-cache-control" content="no-preview" data-turbo-transient="">

      <meta name="turbo-cache-control" content="no-cache" data-turbo-transient>
    <meta data-hydrostats="publish">

  <meta name="go-import" content="github.com/Saurabh8734/INeuron_FSDS_2.0_Assignment git https://github.com/Saurabh8734/INeuron_FSDS_2.0_Assignment.git">

  <meta name="octolytics-dimension-user_id" content="103086244" /><meta name="octolytics-dimension-user_login" content="Saurabh8734" /><meta name="octolytics-dimension-repository_id" content="649990404" /><meta name="octolytics-dimension-repository_nwo" content="Saurabh8734/INeuron_FSDS_2.0_Assignment" /><meta name="octolytics-dimension-repository_public" content="true" /><meta name="octolytics-dimension-repository_is_fork" content="false" /><meta name="octolytics-dimension-repository_network_root_id" content="649990404" /><meta name="octolytics-dimension-repository_network_root_nwo" content="Saurabh8734/INeuron_FSDS_2.0_Assignment" />



  <meta name="turbo-body-classes" content="logged-in env-production page-responsive">


  <meta name="browser-stats-url" content="https://api.github.com/_private/browser/stats">

  <meta name="browser-errors-url" content="https://api.github.com/_private/browser/errors">

  <meta name="browser-optimizely-client-errors-url" content="https://api.github.com/_private/browser/optimizely_client/errors">

  <link rel="mask-icon" href="https://github.githubassets.com/pinned-octocat.svg" color="#000000">
  <link rel="alternate icon" class="js-site-favicon" type="image/png" href="https://github.githubassets.com/favicons/favicon.png">
  <link rel="icon" class="js-site-favicon" type="image/svg+xml" href="https://github.githubassets.com/favicons/favicon.svg">

<meta name="theme-color" content="#1e2327">
<meta name="color-scheme" content="light dark" />


  <link rel="manifest" href="/manifest.json" crossOrigin="use-credentials">

  </head>

  <body class="logged-in env-production page-responsive" style="word-wrap: break-word;">
    <div data-turbo-body class="logged-in env-production page-responsive" style="word-wrap: break-word;">
      


    <div class="position-relative js-header-wrapper ">
      <a href="#start-of-content" class="p-3 color-bg-accent-emphasis color-fg-on-emphasis show-on-focus js-skip-to-content">Skip to content</a>
      <span data-view-component="true" class="progress-pjax-loader Progress position-fixed width-full">
    <span style="width: 0%;" data-view-component="true" class="Progress-item progress-pjax-loader-bar left-0 top-0 color-bg-accent-emphasis"></span>
</span>      
      


      

        <script crossorigin="anonymous" defer="defer" type="application/javascript" src="https://github.githubassets.com/assets/vendors-node_modules_allex_crc32_lib_crc32_esm_js-node_modules_github_clipboard-copy-element_-2da1d5-ca2e742c29fb.js"></script>
<script crossorigin="anonymous" defer="defer" type="application/javascript" src="https://github.githubassets.com/assets/app_assets_modules_github_command-palette_items_help-item_ts-app_assets_modules_github_comman-48ad9d-8ba961365e27.js"></script>
<script crossorigin="anonymous" defer="defer" type="application/javascript" src="https://github.githubassets.com/assets/command-palette-afa8aec97e66.js"></script>

            <header class="AppHeader">
    <div class="AppHeader-globalBar pb-2 js-global-bar">
      <div class="AppHeader-globalBar-start">
          <deferred-side-panel data-url="/_side-panels/global">
  <include-fragment data-target="deferred-side-panel.fragment">
      
  <button aria-label="Open global navigation menu" data-action="click:deferred-side-panel#loadPanel click:deferred-side-panel#panelOpened" data-show-dialog-id="dialog-94f951cd-ca66-455e-982a-07f6df51e718" id="dialog-show-dialog-94f951cd-ca66-455e-982a-07f6df51e718" type="button" data-view-component="true" class="Button Button--iconOnly Button--secondary Button--medium AppHeader-button color-bg-transparent p-0 color-fg-muted">    <svg aria-hidden="true" height="16" viewBox="0 0 16 16" version="1.1" width="16" data-view-component="true" class="octicon octicon-three-bars Button-visual">
    <path d="M1 2.75A.75.75 0 0 1 1.75 2h12.5a.75.75 0 0 1 0 1.5H1.75A.75.75 0 0 1 1 2.75Zm0 5A.75.75 0 0 1 1.75 7h12.5a.75.75 0 0 1 0 1.5H1.75A.75.75 0 0 1 1 7.75ZM1.75 12h12.5a.75.75 0 0 1 0 1.5H1.75a.75.75 0 0 1 0-1.5Z"></path>
</svg>
</button>  

<div class="Overlay--hidden Overlay-backdrop--side Overlay-backdrop--placement-left" data-modal-dialog-overlay>
  <modal-dialog data-target="deferred-side-panel.panel" role="dialog" id="dialog-94f951cd-ca66-455e-982a-07f6df51e718" aria-modal="true" aria-disabled="true" aria-describedby="dialog-94f951cd-ca66-455e-982a-07f6df51e718-title dialog-94f951cd-ca66-455e-982a-07f6df51e718-description" data-view-component="true" class="Overlay Overlay-whenNarrow Overlay--size-small-portrait Overlay--motion-scaleFade SidePanel">
    <div styles="flex-direction: row;" data-view-component="true" class="Overlay-header">
  <div class="Overlay-headerContentWrap">
    <div class="Overlay-titleWrap">
      <h1 class="Overlay-title sr-only" id="dialog-94f951cd-ca66-455e-982a-07f6df51e718-title">
        Global navigation
      </h1>
            <div data-view-component="true" class="d-flex">
      <div data-view-component="true" class="AppHeader-logo position-relative">
        <svg aria-hidden="true" height="24" viewBox="0 0 16 16" version="1.1" width="24" data-view-component="true" class="octicon octicon-mark-github">
    <path d="M8 0c4.42 0 8 3.58 8 8a8.013 8.013 0 0 1-5.45 7.59c-.4.08-.55-.17-.55-.38 0-.27.01-1.13.01-2.2 0-.75-.25-1.23-.54-1.48 1.78-.2 3.65-.88 3.65-3.95 0-.88-.31-1.59-.82-2.15.08-.2.36-1.02-.08-2.12 0 0-.67-.22-2.2.82-.64-.18-1.32-.27-2-.27-.68 0-1.36.09-2 .27-1.53-1.03-2.2-.82-2.2-.82-.44 1.1-.16 1.92-.08 2.12-.51.56-.82 1.28-.82 2.15 0 3.06 1.86 3.75 3.64 3.95-.23.2-.44.55-.51 1.07-.46.21-1.61.55-2.33-.66-.15-.24-.6-.83-1.23-.82-.67.01-.27.38.01.53.34.19.73.9.82 1.13.16.45.68 1.31 2.69.94 0 .67.01 1.3.01 1.49 0 .21-.15.45-.55.38A7.995 7.995 0 0 1 0 8c0-4.42 3.58-8 8-8Z"></path>
</svg>
</div></div>
    </div>
    <div class="Overlay-actionWrap">
      <button data-close-dialog-id="dialog-94f951cd-ca66-455e-982a-07f6df51e718" aria-label="Close" type="button" data-view-component="true" class="close-button Overlay-closeButton"><svg aria-hidden="true" height="16" viewBox="0 0 16 16" version="1.1" width="16" data-view-component="true" class="octicon octicon-x">
    <path d="M3.72 3.72a.75.75 0 0 1 1.06 0L8 6.94l3.22-3.22a.749.749 0 0 1 1.275.326.749.749 0 0 1-.215.734L9.06 8l3.22 3.22a.749.749 0 0 1-.326 1.275.749.749 0 0 1-.734-.215L8 9.06l-3.22 3.22a.751.751 0 0 1-1.042-.018.751.751 0 0 1-.018-1.042L6.94 8 3.72 4.78a.75.75 0 0 1 0-1.06Z"></path>
</svg></button>
    </div>
  </div>
</div>
      <div data-view-component="true" class="Overlay-body d-flex flex-column height-full px-2">      <nav aria-label="Site navigation" data-view-component="true" class="ActionList">
  
  <nav-list>
    <ul data-view-component="true" class="ActionListWrap">
        
          
<li item_id="general" data-item-id="" data-targets="nav-list.items" data-view-component="true" class="ActionListItem">
    
    <a data-hotkey="g d" hydro-click="{&quot;event_type&quot;:&quot;global_header.user_menu_dropdown.click&quot;,&quot;payload&quot;:{&quot;request_url&quot;:&quot;https://github.com/Saurabh8734/INeuron_FSDS_2.0_Assignment/blob/main/PPt%20program/PPT14.ipynb&quot;,&quot;target&quot;:&quot;HOME&quot;,&quot;originating_url&quot;:&quot;https://github.com/Saurabh8734/INeuron_FSDS_2.0_Assignment/blob/main/PPt%20program/PPT14.ipynb&quot;,&quot;user_id&quot;:102730587}}" hydro-click-hmac="fee8398bfad4d5932d14745b487a115b4397ac52318f6e3fe17ee4fbfb381e6b" id="item-f836825a-ad56-49d9-b694-47417c2a6e02" href="/dashboard" data-view-component="true" class="ActionListContent ActionListContent--visual16">
        <span class="ActionListItem-visual ActionListItem-visual--leading">
          <svg aria-hidden="true" height="16" viewBox="0 0 16 16" version="1.1" width="16" data-view-component="true" class="octicon octicon-home">
    <path d="M6.906.664a1.749 1.749 0 0 1 2.187 0l5.25 4.2c.415.332.657.835.657 1.367v7.019A1.75 1.75 0 0 1 13.25 15h-3.5a.75.75 0 0 1-.75-.75V9H7v5.25a.75.75 0 0 1-.75.75h-3.5A1.75 1.75 0 0 1 1 13.25V6.23c0-.531.242-1.034.657-1.366l5.25-4.2Zm1.25 1.171a.25.25 0 0 0-.312 0l-5.25 4.2a.25.25 0 0 0-.094.196v7.019c0 .138.112.25.25.25H5.5V8.25a.75.75 0 0 1 .75-.75h3.5a.75.75 0 0 1 .75.75v5.25h2.75a.25.25 0 0 0 .25-.25V6.23a.25.25 0 0 0-.094-.195Z"></path>
</svg>
        </span>
      
        <span data-view-component="true" class="ActionListItem-label">
          Home
</span></a>
  
  
</li>

        
          
<li item_id="personal_info" data-item-id="" data-targets="nav-list.items" data-view-component="true" class="ActionListItem">
    
    <a data-hotkey="g i" hydro-click="{&quot;event_type&quot;:&quot;global_header.user_menu_dropdown.click&quot;,&quot;payload&quot;:{&quot;request_url&quot;:&quot;https://github.com/Saurabh8734/INeuron_FSDS_2.0_Assignment/blob/main/PPt%20program/PPT14.ipynb&quot;,&quot;target&quot;:&quot;ISSUES&quot;,&quot;originating_url&quot;:&quot;https://github.com/Saurabh8734/INeuron_FSDS_2.0_Assignment/blob/main/PPt%20program/PPT14.ipynb&quot;,&quot;user_id&quot;:102730587}}" hydro-click-hmac="9a6d4356e9bb21f69204852724f979514b266138d5c693144f2720387600f05b" id="item-c72affe4-f7cf-4b00-b6cb-23c9aaa2914a" href="/issues" data-view-component="true" class="ActionListContent ActionListContent--visual16">
        <span class="ActionListItem-visual ActionListItem-visual--leading">
          <svg aria-hidden="true" height="16" viewBox="0 0 16 16" version="1.1" width="16" data-view-component="true" class="octicon octicon-issue-opened">
    <path d="M8 9.5a1.5 1.5 0 1 0 0-3 1.5 1.5 0 0 0 0 3Z"></path><path d="M8 0a8 8 0 1 1 0 16A8 8 0 0 1 8 0ZM1.5 8a6.5 6.5 0 1 0 13 0 6.5 6.5 0 0 0-13 0Z"></path>
</svg>
        </span>
      
        <span data-view-component="true" class="ActionListItem-label">
          Issues
</span></a>
  
  
</li>

        
          
<li item_id="password" data-item-id="" data-targets="nav-list.items" data-view-component="true" class="ActionListItem">
    
    <a data-hotkey="g p" hydro-click="{&quot;event_type&quot;:&quot;global_header.user_menu_dropdown.click&quot;,&quot;payload&quot;:{&quot;request_url&quot;:&quot;https://github.com/Saurabh8734/INeuron_FSDS_2.0_Assignment/blob/main/PPt%20program/PPT14.ipynb&quot;,&quot;target&quot;:&quot;PULL_REQUESTS&quot;,&quot;originating_url&quot;:&quot;https://github.com/Saurabh8734/INeuron_FSDS_2.0_Assignment/blob/main/PPt%20program/PPT14.ipynb&quot;,&quot;user_id&quot;:102730587}}" hydro-click-hmac="c45f895dbd877ddeed72f8fbe326c21f191f584a7c4d2f6c4bc868b990328f95" id="item-b72fbaaa-f123-4f29-a605-3ba6eba35c9f" href="/pulls" data-view-component="true" class="ActionListContent ActionListContent--visual16">
        <span class="ActionListItem-visual ActionListItem-visual--leading">
          <svg aria-hidden="true" height="16" viewBox="0 0 16 16" version="1.1" width="16" data-view-component="true" class="octicon octicon-git-pull-request">
    <path d="M1.5 3.25a2.25 2.25 0 1 1 3 2.122v5.256a2.251 2.251 0 1 1-1.5 0V5.372A2.25 2.25 0 0 1 1.5 3.25Zm5.677-.177L9.573.677A.25.25 0 0 1 10 .854V2.5h1A2.5 2.5 0 0 1 13.5 5v5.628a2.251 2.251 0 1 1-1.5 0V5a1 1 0 0 0-1-1h-1v1.646a.25.25 0 0 1-.427.177L7.177 3.427a.25.25 0 0 1 0-.354ZM3.75 2.5a.75.75 0 1 0 0 1.5.75.75 0 0 0 0-1.5Zm0 9.5a.75.75 0 1 0 0 1.5.75.75 0 0 0 0-1.5Zm8.25.75a.75.75 0 1 0 1.5 0 .75.75 0 0 0-1.5 0Z"></path>
</svg>
        </span>
      
        <span data-view-component="true" class="ActionListItem-label">
          Pull requests
</span></a>
  
  
</li>

        
          
<li item_id="billing" data-item-id="" data-targets="nav-list.items" data-view-component="true" class="ActionListItem">
    
    <a hydro-click="{&quot;event_type&quot;:&quot;global_header.user_menu_dropdown.click&quot;,&quot;payload&quot;:{&quot;request_url&quot;:&quot;https://github.com/Saurabh8734/INeuron_FSDS_2.0_Assignment/blob/main/PPt%20program/PPT14.ipynb&quot;,&quot;target&quot;:&quot;DISCUSSIONS&quot;,&quot;originating_url&quot;:&quot;https://github.com/Saurabh8734/INeuron_FSDS_2.0_Assignment/blob/main/PPt%20program/PPT14.ipynb&quot;,&quot;user_id&quot;:102730587}}" hydro-click-hmac="0e2078f8c5be5529cac1d0ce3906619ed295c946d66ae59979c4ac45ca03572a" id="item-dd08921f-ca1d-41f6-bb0f-46ad82d4d70e" href="/discussions" data-view-component="true" class="ActionListContent ActionListContent--visual16">
        <span class="ActionListItem-visual ActionListItem-visual--leading">
          <svg aria-hidden="true" height="16" viewBox="0 0 16 16" version="1.1" width="16" data-view-component="true" class="octicon octicon-comment-discussion">
    <path d="M1.75 1h8.5c.966 0 1.75.784 1.75 1.75v5.5A1.75 1.75 0 0 1 10.25 10H7.061l-2.574 2.573A1.458 1.458 0 0 1 2 11.543V10h-.25A1.75 1.75 0 0 1 0 8.25v-5.5C0 1.784.784 1 1.75 1ZM1.5 2.75v5.5c0 .138.112.25.25.25h1a.75.75 0 0 1 .75.75v2.19l2.72-2.72a.749.749 0 0 1 .53-.22h3.5a.25.25 0 0 0 .25-.25v-5.5a.25.25 0 0 0-.25-.25h-8.5a.25.25 0 0 0-.25.25Zm13 2a.25.25 0 0 0-.25-.25h-.5a.75.75 0 0 1 0-1.5h.5c.966 0 1.75.784 1.75 1.75v5.5A1.75 1.75 0 0 1 14.25 12H14v1.543a1.458 1.458 0 0 1-2.487 1.03L9.22 12.28a.749.749 0 0 1 .326-1.275.749.749 0 0 1 .734.215l2.22 2.22v-2.19a.75.75 0 0 1 .75-.75h1a.25.25 0 0 0 .25-.25Z"></path>
</svg>
        </span>
      
        <span data-view-component="true" class="ActionListItem-label">
          Discussions
</span></a>
  
  
</li>

</ul>  </nav-list>
</nav>

      <div data-view-component="true" class="my-3 d-flex flex-justify-center height-full">
        <svg style="box-sizing: content-box; color: var(--color-icon-primary);" width="16" height="16" viewBox="0 0 16 16" fill="none" data-view-component="true" class="anim-rotate">
  <circle cx="8" cy="8" r="7" stroke="currentColor" stroke-opacity="0.25" stroke-width="2" vector-effect="non-scaling-stroke" />
  <path d="M15 8a7.002 7.002 0 00-7-7" stroke="currentColor" stroke-width="2" stroke-linecap="round" vector-effect="non-scaling-stroke" />
</svg>
</div>
</div>
      <div data-view-component="true" class="Overlay-footer Overlay-footer--alignEnd d-block pt-0">      <li role="presentation" aria-hidden="true" data-view-component="true" class="ActionList-sectionDivider mt-0 mb-1"></li>

        <nav aria-label="Additional navigation" data-view-component="true" class="ActionList px-0 flex-1">
  
  <nav-list>
    <ul data-view-component="true" class="ActionListWrap">
        
          
<li item_id="general" data-item-id="" data-targets="nav-list.items" data-view-component="true" class="ActionListItem">
    
    <a hydro-click="{&quot;event_type&quot;:&quot;global_header.user_menu_dropdown.click&quot;,&quot;payload&quot;:{&quot;request_url&quot;:&quot;https://github.com/Saurabh8734/INeuron_FSDS_2.0_Assignment/blob/main/PPt%20program/PPT14.ipynb&quot;,&quot;target&quot;:&quot;EXPLORE&quot;,&quot;originating_url&quot;:&quot;https://github.com/Saurabh8734/INeuron_FSDS_2.0_Assignment/blob/main/PPt%20program/PPT14.ipynb&quot;,&quot;user_id&quot;:102730587}}" hydro-click-hmac="a6321c45ff1a242eed3c8aae9ebc6cf206cbace08c14df52ca80285ddbae2965" id="item-ff8b875b-afc6-40b1-84c0-a010f398bbde" href="/explore" data-view-component="true" class="ActionListContent ActionListContent--visual16">
        <span class="ActionListItem-visual ActionListItem-visual--leading">
          <svg aria-hidden="true" height="16" viewBox="0 0 16 16" version="1.1" width="16" data-view-component="true" class="octicon octicon-telescope">
    <path d="M14.184 1.143v-.001l1.422 2.464a1.75 1.75 0 0 1-.757 2.451L3.104 11.713a1.75 1.75 0 0 1-2.275-.702l-.447-.775a1.75 1.75 0 0 1 .53-2.32L11.682.573a1.748 1.748 0 0 1 2.502.57Zm-4.709 9.32h-.001l2.644 3.863a.75.75 0 1 1-1.238.848l-1.881-2.75v2.826a.75.75 0 0 1-1.5 0v-2.826l-1.881 2.75a.75.75 0 1 1-1.238-.848l2.049-2.992a.746.746 0 0 1 .293-.253l1.809-.87a.749.749 0 0 1 .944.252ZM9.436 3.92h-.001l-4.97 3.39.942 1.63 5.42-2.61Zm3.091-2.108h.001l-1.85 1.26 1.505 2.605 2.016-.97a.247.247 0 0 0 .13-.151.247.247 0 0 0-.022-.199l-1.422-2.464a.253.253 0 0 0-.161-.119.254.254 0 0 0-.197.038ZM1.756 9.157a.25.25 0 0 0-.075.33l.447.775a.25.25 0 0 0 .325.1l1.598-.769-.83-1.436-1.465 1Z"></path>
</svg>
        </span>
      
        <span data-view-component="true" class="ActionListItem-label">
          Explore
</span></a>
  
  
</li>

        
          
<li item_id="general" data-item-id="" data-targets="nav-list.items" data-view-component="true" class="ActionListItem">
    
    <a hydro-click="{&quot;event_type&quot;:&quot;global_header.user_menu_dropdown.click&quot;,&quot;payload&quot;:{&quot;request_url&quot;:&quot;https://github.com/Saurabh8734/INeuron_FSDS_2.0_Assignment/blob/main/PPt%20program/PPT14.ipynb&quot;,&quot;target&quot;:&quot;MARKETPLACE&quot;,&quot;originating_url&quot;:&quot;https://github.com/Saurabh8734/INeuron_FSDS_2.0_Assignment/blob/main/PPt%20program/PPT14.ipynb&quot;,&quot;user_id&quot;:102730587}}" hydro-click-hmac="4b54feae09afe4a358a2bb95f37e8e07baaf99a05b2d85805653b832d805bd65" id="item-3a8d5a7a-04c6-40c7-b1ba-7070b8dd93c6" href="/marketplace" data-view-component="true" class="ActionListContent ActionListContent--visual16">
        <span class="ActionListItem-visual ActionListItem-visual--leading">
          <svg aria-hidden="true" height="16" viewBox="0 0 16 16" version="1.1" width="16" data-view-component="true" class="octicon octicon-gift">
    <path d="M2 2.75A2.75 2.75 0 0 1 4.75 0c.983 0 1.873.42 2.57 1.232.268.318.497.668.68 1.042.183-.375.411-.725.68-1.044C9.376.42 10.266 0 11.25 0a2.75 2.75 0 0 1 2.45 4h.55c.966 0 1.75.784 1.75 1.75v2c0 .698-.409 1.301-1 1.582v4.918A1.75 1.75 0 0 1 13.25 16H2.75A1.75 1.75 0 0 1 1 14.25V9.332C.409 9.05 0 8.448 0 7.75v-2C0 4.784.784 4 1.75 4h.55c-.192-.375-.3-.8-.3-1.25ZM7.25 9.5H2.5v4.75c0 .138.112.25.25.25h4.5Zm1.5 0v5h4.5a.25.25 0 0 0 .25-.25V9.5Zm0-4V8h5.5a.25.25 0 0 0 .25-.25v-2a.25.25 0 0 0-.25-.25Zm-7 0a.25.25 0 0 0-.25.25v2c0 .138.112.25.25.25h5.5V5.5h-5.5Zm3-4a1.25 1.25 0 0 0 0 2.5h2.309c-.233-.818-.542-1.401-.878-1.793-.43-.502-.915-.707-1.431-.707ZM8.941 4h2.309a1.25 1.25 0 0 0 0-2.5c-.516 0-1 .205-1.43.707-.337.392-.646.975-.879 1.793Z"></path>
</svg>
        </span>
      
        <span data-view-component="true" class="ActionListItem-label">
          Marketplace
</span></a>
  
  
</li>

        
          
<li item_id="feedback" data-item-id="" data-targets="nav-list.items" data-view-component="true" class="ActionListItem">
    
    <a id="item-19f8ee2a-8935-4716-af88-6ffc46892c23" href="https://gh.io/navigation-update" data-view-component="true" class="ActionListContent ActionListContent--visual16">
        <span class="ActionListItem-visual ActionListItem-visual--leading">
          <svg aria-hidden="true" height="16" viewBox="0 0 16 16" version="1.1" width="16" data-view-component="true" class="octicon octicon-comment-discussion">
    <path d="M1.75 1h8.5c.966 0 1.75.784 1.75 1.75v5.5A1.75 1.75 0 0 1 10.25 10H7.061l-2.574 2.573A1.458 1.458 0 0 1 2 11.543V10h-.25A1.75 1.75 0 0 1 0 8.25v-5.5C0 1.784.784 1 1.75 1ZM1.5 2.75v5.5c0 .138.112.25.25.25h1a.75.75 0 0 1 .75.75v2.19l2.72-2.72a.749.749 0 0 1 .53-.22h3.5a.25.25 0 0 0 .25-.25v-5.5a.25.25 0 0 0-.25-.25h-8.5a.25.25 0 0 0-.25.25Zm13 2a.25.25 0 0 0-.25-.25h-.5a.75.75 0 0 1 0-1.5h.5c.966 0 1.75.784 1.75 1.75v5.5A1.75 1.75 0 0 1 14.25 12H14v1.543a1.458 1.458 0 0 1-2.487 1.03L9.22 12.28a.749.749 0 0 1 .326-1.275.749.749 0 0 1 .734.215l2.22 2.22v-2.19a.75.75 0 0 1 .75-.75h1a.25.25 0 0 0 .25-.25Z"></path>
</svg>
        </span>
      
        <span data-view-component="true" class="ActionListItem-label">
          Give new navigation feedback
</span>        <span class="ActionListItem-visual ActionListItem-visual--trailing">
          <span title="Beta" data-view-component="true" class="Counter color-bg-default color-border-success-emphasis color-fg-success">Beta</span>
        </span>
</a>
  
  
</li>

</ul>  </nav-list>
</nav>

      <div data-view-component="true" class="px-2">      <p class="color-fg-subtle text-small text-light">&copy; 2023 GitHub, Inc.</p>

      <div data-view-component="true" class="d-flex text-small text-light">
          <a target="_blank" href="/about" data-view-component="true" class="Link no-underline mr-2">About</a>
          <a target="_blank" href="https://github.blog" data-view-component="true" class="Link no-underline mr-2">Blog</a>
          <a target="_blank" href="https://docs.github.com/site-policy/github-terms/github-terms-of-service" data-view-component="true" class="Link no-underline mr-2">Terms</a>
          <a target="_blank" href="https://docs.github.com/site-policy/privacy-policies/github-privacy-statement" data-view-component="true" class="Link no-underline mr-2">Privacy</a>
          <a target="_blank" href="/security" data-view-component="true" class="Link no-underline mr-2">Security</a>
        <a target="_blank" href="https://www.githubstatus.com/" data-view-component="true" class="Link no-underline mr-3">Status</a>
</div></div>
</div>
</modal-dialog></div>

  </include-fragment>
</deferred-side-panel>

        <a
          class="AppHeader-logo ml-2"
          href="https://github.com/"
          data-hotkey="g d"
          aria-label="Homepage "
          data-turbo="false"
          data-analytics-event="{&quot;category&quot;:&quot;Header&quot;,&quot;action&quot;:&quot;go to dashboard&quot;,&quot;label&quot;:&quot;icon:logo&quot;}"
        >
          <svg height="32" aria-hidden="true" viewBox="0 0 16 16" version="1.1" width="32" data-view-component="true" class="octicon octicon-mark-github v-align-middle color-fg-default">
    <path d="M8 0c4.42 0 8 3.58 8 8a8.013 8.013 0 0 1-5.45 7.59c-.4.08-.55-.17-.55-.38 0-.27.01-1.13.01-2.2 0-.75-.25-1.23-.54-1.48 1.78-.2 3.65-.88 3.65-3.95 0-.88-.31-1.59-.82-2.15.08-.2.36-1.02-.08-2.12 0 0-.67-.22-2.2.82-.64-.18-1.32-.27-2-.27-.68 0-1.36.09-2 .27-1.53-1.03-2.2-.82-2.2-.82-.44 1.1-.16 1.92-.08 2.12-.51.56-.82 1.28-.82 2.15 0 3.06 1.86 3.75 3.64 3.95-.23.2-.44.55-.51 1.07-.46.21-1.61.55-2.33-.66-.15-.24-.6-.83-1.23-.82-.67.01-.27.38.01.53.34.19.73.9.82 1.13.16.45.68 1.31 2.69.94 0 .67.01 1.3.01 1.49 0 .21-.15.45-.55.38A7.995 7.995 0 0 1 0 8c0-4.42 3.58-8 8-8Z"></path>
</svg>
        </a>

          <div class="AppHeader-context" >
  <div class="AppHeader-context-compact">
        <button aria-expanded="false" aria-haspopup="dialog" aria-label="Page context: Saurabh8734 / INeuron_FSDS_2.0_Assignment" id="dialog-show-context-region-dialog" data-show-dialog-id="context-region-dialog" type="button" data-view-component="true" class="AppHeader-context-compact-trigger Truncate Button--secondary Button--medium Button box-shadow-none">    <span class="Button-content">
      <span class="Button-label"><span class="AppHeader-context-compact-lead">
                <span class="AppHeader-context-compact-parentItem">Saurabh8734</span>
                <span class="AppHeader-context-compact-separator">&nbsp;/</span>

            </span>

            <strong class="AppHeader-context-compact-mainItem d-flex flex-items-center Truncate" >
  <span class="Truncate-text ">INeuron_FSDS_2.0_Assignment</span>

</strong></span>
    </span>
</button>  

<div class="Overlay--hidden Overlay-backdrop--center" data-modal-dialog-overlay>
  <modal-dialog role="dialog" id="context-region-dialog" aria-modal="true" aria-disabled="true" aria-describedby="context-region-dialog-title context-region-dialog-description" data-view-component="true" class="Overlay Overlay-whenNarrow Overlay--size-medium Overlay--motion-scaleFade">
    <div data-view-component="true" class="Overlay-header">
  <div class="Overlay-headerContentWrap">
    <div class="Overlay-titleWrap">
      <h1 class="Overlay-title " id="context-region-dialog-title">
        Navigate back to
      </h1>
    </div>
    <div class="Overlay-actionWrap">
      <button data-close-dialog-id="context-region-dialog" aria-label="Close" type="button" data-view-component="true" class="close-button Overlay-closeButton"><svg aria-hidden="true" height="16" viewBox="0 0 16 16" version="1.1" width="16" data-view-component="true" class="octicon octicon-x">
    <path d="M3.72 3.72a.75.75 0 0 1 1.06 0L8 6.94l3.22-3.22a.749.749 0 0 1 1.275.326.749.749 0 0 1-.215.734L9.06 8l3.22 3.22a.749.749 0 0 1-.326 1.275.749.749 0 0 1-.734-.215L8 9.06l-3.22 3.22a.751.751 0 0 1-1.042-.018.751.751 0 0 1-.018-1.042L6.94 8 3.72 4.78a.75.75 0 0 1 0-1.06Z"></path>
</svg></button>
    </div>
  </div>
</div>
      <div data-view-component="true" class="Overlay-body">          <ul role="list" class="list-style-none" >
    <li>
      <a data-analytics-event="{&quot;category&quot;:&quot;SiteHeaderComponent&quot;,&quot;action&quot;:&quot;context_region_crumb&quot;,&quot;label&quot;:&quot;Saurabh8734&quot;,&quot;screen_size&quot;:&quot;compact&quot;}" href="/Saurabh8734" data-view-component="true" class="Link--primary Truncate d-flex flex-items-center py-1">
        <span class="AppHeader-context-item-label Truncate-text ">
          Saurabh8734
        </span>

</a>
    </li>
    <li>
      <a data-analytics-event="{&quot;category&quot;:&quot;SiteHeaderComponent&quot;,&quot;action&quot;:&quot;context_region_crumb&quot;,&quot;label&quot;:&quot;INeuron_FSDS_2.0_Assignment&quot;,&quot;screen_size&quot;:&quot;compact&quot;}" href="/Saurabh8734/INeuron_FSDS_2.0_Assignment" data-view-component="true" class="Link--primary Truncate d-flex flex-items-center py-1">
        <span class="AppHeader-context-item-label Truncate-text ">
          INeuron_FSDS_2.0_Assignment
        </span>

</a>
    </li>
</ul>

</div>
      
</modal-dialog></div>
  </div>

  <div class="AppHeader-context-full">
    <nav role="navigation" aria-label="Page context">
      <ul role="list" class="list-style-none" >
    <li>
      <a data-analytics-event="{&quot;category&quot;:&quot;SiteHeaderComponent&quot;,&quot;action&quot;:&quot;context_region_crumb&quot;,&quot;label&quot;:&quot;Saurabh8734&quot;,&quot;screen_size&quot;:&quot;full&quot;}" data-hovercard-type="user" data-hovercard-url="/users/Saurabh8734/hovercard" data-octo-click="hovercard-link-click" data-octo-dimensions="link_type:self" href="/Saurabh8734" data-view-component="true" class="AppHeader-context-item">
        <span class="AppHeader-context-item-label  ">
          Saurabh8734
        </span>

</a>
        <span class="AppHeader-context-item-separator">/</span>
    </li>
    <li>
      <a data-analytics-event="{&quot;category&quot;:&quot;SiteHeaderComponent&quot;,&quot;action&quot;:&quot;context_region_crumb&quot;,&quot;label&quot;:&quot;INeuron_FSDS_2.0_Assignment&quot;,&quot;screen_size&quot;:&quot;full&quot;}" href="/Saurabh8734/INeuron_FSDS_2.0_Assignment" data-view-component="true" class="AppHeader-context-item">
        <span class="AppHeader-context-item-label  ">
          INeuron_FSDS_2.0_Assignment
        </span>

</a>
    </li>
</ul>

    </nav>
  </div>
</div>

      </div>
      <div class="AppHeader-globalBar-end">
          <div class="AppHeader-search" >
              


<qbsearch-input class="search-input" data-scope="repo:Saurabh8734/INeuron_FSDS_2.0_Assignment" data-custom-scopes-path="/search/custom_scopes" data-delete-custom-scopes-csrf="Q8kWMKgXtEb1KqbT9aWzXAmLkvPF6f6pxo_jRMFdaC-fiuPq89mfTzu3g4bkeP72s100x8m5UKNFKEzG_5D5eg" data-max-custom-scopes="10" data-header-redesign-enabled="true" data-initial-value="" data-blackbird-suggestions-path="/search/suggestions" data-jump-to-suggestions-path="/_graphql/GetSuggestedNavigationDestinations" data-current-repository="Saurabh8734/INeuron_FSDS_2.0_Assignment" data-current-org="" data-current-owner="Saurabh8734" data-logged-in="true">
  <div
    class="search-input-container search-with-dialog position-relative d-flex flex-row flex-items-center height-auto color-bg-transparent border-0 color-fg-subtle mx-0"
    data-action="click:qbsearch-input#searchInputContainerClicked"
  >
      
            <button type="button" data-action="click:qbsearch-input#handleExpand" class="AppHeader-button AppHeader-search-whenNarrow" aria-label="Search or jump to…" aria-expanded="false" aria-haspopup="dialog">
            <svg aria-hidden="true" height="16" viewBox="0 0 16 16" version="1.1" width="16" data-view-component="true" class="octicon octicon-search">
    <path d="M10.68 11.74a6 6 0 0 1-7.922-8.982 6 6 0 0 1 8.982 7.922l3.04 3.04a.749.749 0 0 1-.326 1.275.749.749 0 0 1-.734-.215ZM11.5 7a4.499 4.499 0 1 0-8.997 0A4.499 4.499 0 0 0 11.5 7Z"></path>
</svg>
          </button>


<div class="AppHeader-search-whenRegular">
  <div class="AppHeader-search-wrap AppHeader-search-wrap--hasTrailing">
    <div class="AppHeader-search-control">
      <label
        for="AppHeader-searchInput"
        aria-label="Search or jump to…"
        class="AppHeader-search-visual--leading"
      >
        <svg aria-hidden="true" height="16" viewBox="0 0 16 16" version="1.1" width="16" data-view-component="true" class="octicon octicon-search">
    <path d="M10.68 11.74a6 6 0 0 1-7.922-8.982 6 6 0 0 1 8.982 7.922l3.04 3.04a.749.749 0 0 1-.326 1.275.749.749 0 0 1-.734-.215ZM11.5 7a4.499 4.499 0 1 0-8.997 0A4.499 4.499 0 0 0 11.5 7Z"></path>
</svg>
      </label>

                <button
            type="button"
            data-target="qbsearch-input.inputButton"
            data-action="click:qbsearch-input#handleExpand"
            class="AppHeader-searchButton form-control input-contrast text-left color-fg-subtle no-wrap"
            data-hotkey="s,/"
          >
            <div class="overflow-hidden">
              <span data-target="qbsearch-input.inputButtonText">
                  Type <kbd class="AppHeader-search-kbd">/</kbd> to search
              </span>
            </div>
          </button>

    </div>


      <button type="button" id="AppHeader-commandPalette-button" class="AppHeader-search-action--trailing js-activate-command-palette" data-analytics-event="{&quot;category&quot;:&quot;SiteHeaderComponent&quot;,&quot;action&quot;:&quot;command_palette&quot;,&quot;label&quot;:&quot;open command palette&quot;}">
        <svg aria-hidden="true" height="16" viewBox="0 0 16 16" version="1.1" width="16" data-view-component="true" class="octicon octicon-command-palette">
    <path d="m6.354 8.04-4.773 4.773a.75.75 0 1 0 1.061 1.06L7.945 8.57a.75.75 0 0 0 0-1.06L2.642 2.206a.75.75 0 0 0-1.06 1.061L6.353 8.04ZM8.75 11.5a.75.75 0 0 0 0 1.5h5.5a.75.75 0 0 0 0-1.5h-5.5Z"></path>
</svg>
      </button>

      <tool-tip id="tooltip-7b764933-6f53-4240-86e8-92f5de82b9d3" for="AppHeader-commandPalette-button" popover="manual" data-direction="s" data-type="label" data-view-component="true" class="sr-only position-absolute">Command palette</tool-tip>
  </div>
</div>

    <input type="hidden" name="type" class="js-site-search-type-field">

    
<div class="Overlay--hidden " data-modal-dialog-overlay>
  <modal-dialog data-action="close:qbsearch-input#handleClose cancel:qbsearch-input#handleClose" data-target="qbsearch-input.searchSuggestionsDialog" role="dialog" id="search-suggestions-dialog" aria-modal="true" aria-labelledby="search-suggestions-dialog-header" data-view-component="true" class="Overlay Overlay--width-medium Overlay--height-auto">
      <h1 id="search-suggestions-dialog-header" class="sr-only">Search code, repositories, users, issues, pull requests...</h1>
    <div class="Overlay-body Overlay-body--paddingNone">
      
          <div data-view-component="true">        <div class="search-suggestions position-absolute width-full color-shadow-large border color-fg-default color-bg-default overflow-hidden d-flex flex-column query-builder-container"
          style="border-radius: 12px;"
          data-target="qbsearch-input.queryBuilderContainer"
          hidden
        >
          <!-- '"` --><!-- </textarea></xmp> --></option></form><form id="query-builder-test-form" action="" accept-charset="UTF-8" method="get">
  <query-builder data-target="qbsearch-input.queryBuilder" id="query-builder-query-builder-test" data-filter-key=":" data-view-component="true" class="QueryBuilder search-query-builder">
    <div class="FormControl FormControl--fullWidth">
      <label id="query-builder-test-label" for="query-builder-test" class="FormControl-label sr-only">
        Search
      </label>
      <div class="QueryBuilder-StyledInput width-fit" data-target="query-builder.styledInput">
          <span id="query-builder-test-leadingvisual-wrap" class="FormControl-input-leadingVisualWrap QueryBuilder-leadingVisualWrap">
            <svg aria-hidden="true" height="16" viewBox="0 0 16 16" version="1.1" width="16" data-view-component="true" class="octicon octicon-search FormControl-input-leadingVisual">
    <path d="M10.68 11.74a6 6 0 0 1-7.922-8.982 6 6 0 0 1 8.982 7.922l3.04 3.04a.749.749 0 0 1-.326 1.275.749.749 0 0 1-.734-.215ZM11.5 7a4.499 4.499 0 1 0-8.997 0A4.499 4.499 0 0 0 11.5 7Z"></path>
</svg>
          </span>
        <div data-target="query-builder.styledInputContainer" class="QueryBuilder-StyledInputContainer">
          <div
            aria-hidden="true"
            class="QueryBuilder-StyledInputContent"
            data-target="query-builder.styledInputContent"
          ></div>
          <div class="QueryBuilder-InputWrapper">
            <div aria-hidden="true" class="QueryBuilder-Sizer" data-target="query-builder.sizer"></div>
            <input id="query-builder-test" name="query-builder-test" value="" autocomplete="off" type="text" role="combobox" spellcheck="false" aria-expanded="false" data-target="query-builder.input" data-action="
          input:query-builder#inputChange
          blur:query-builder#inputBlur
          keydown:query-builder#inputKeydown
          focus:query-builder#inputFocus
        " data-view-component="true" class="FormControl-input QueryBuilder-Input FormControl-medium" />
          </div>
        </div>
          <span class="sr-only" id="query-builder-test-clear">Clear</span>
          
  <button role="button" id="query-builder-test-clear-button" aria-labelledby="query-builder-test-clear query-builder-test-label" data-target="query-builder.clearButton" data-action="
                click:query-builder#clear
                focus:query-builder#clearButtonFocus
                blur:query-builder#clearButtonBlur
              " variant="small" hidden="hidden" type="button" data-view-component="true" class="Button Button--iconOnly Button--invisible Button--medium mr-1 px-2 py-0 d-flex flex-items-center rounded-1 color-fg-muted">    <svg aria-hidden="true" height="16" viewBox="0 0 16 16" version="1.1" width="16" data-view-component="true" class="octicon octicon-x-circle-fill Button-visual">
    <path d="M2.343 13.657A8 8 0 1 1 13.658 2.343 8 8 0 0 1 2.343 13.657ZM6.03 4.97a.751.751 0 0 0-1.042.018.751.751 0 0 0-.018 1.042L6.94 8 4.97 9.97a.749.749 0 0 0 .326 1.275.749.749 0 0 0 .734-.215L8 9.06l1.97 1.97a.749.749 0 0 0 1.275-.326.749.749 0 0 0-.215-.734L9.06 8l1.97-1.97a.749.749 0 0 0-.326-1.275.749.749 0 0 0-.734.215L8 6.94Z"></path>
</svg>
</button>  

      </div>
      <template id="search-icon">
  <svg aria-hidden="true" height="16" viewBox="0 0 16 16" version="1.1" width="16" data-view-component="true" class="octicon octicon-search">
    <path d="M10.68 11.74a6 6 0 0 1-7.922-8.982 6 6 0 0 1 8.982 7.922l3.04 3.04a.749.749 0 0 1-.326 1.275.749.749 0 0 1-.734-.215ZM11.5 7a4.499 4.499 0 1 0-8.997 0A4.499 4.499 0 0 0 11.5 7Z"></path>
</svg>
</template>

<template id="code-icon">
  <svg aria-hidden="true" height="16" viewBox="0 0 16 16" version="1.1" width="16" data-view-component="true" class="octicon octicon-code">
    <path d="m11.28 3.22 4.25 4.25a.75.75 0 0 1 0 1.06l-4.25 4.25a.749.749 0 0 1-1.275-.326.749.749 0 0 1 .215-.734L13.94 8l-3.72-3.72a.749.749 0 0 1 .326-1.275.749.749 0 0 1 .734.215Zm-6.56 0a.751.751 0 0 1 1.042.018.751.751 0 0 1 .018 1.042L2.06 8l3.72 3.72a.749.749 0 0 1-.326 1.275.749.749 0 0 1-.734-.215L.47 8.53a.75.75 0 0 1 0-1.06Z"></path>
</svg>
</template>

<template id="file-code-icon">
  <svg aria-hidden="true" height="16" viewBox="0 0 16 16" version="1.1" width="16" data-view-component="true" class="octicon octicon-file-code">
    <path d="M4 1.75C4 .784 4.784 0 5.75 0h5.586c.464 0 .909.184 1.237.513l2.914 2.914c.329.328.513.773.513 1.237v8.586A1.75 1.75 0 0 1 14.25 15h-9a.75.75 0 0 1 0-1.5h9a.25.25 0 0 0 .25-.25V6h-2.75A1.75 1.75 0 0 1 10 4.25V1.5H5.75a.25.25 0 0 0-.25.25v2.5a.75.75 0 0 1-1.5 0Zm1.72 4.97a.75.75 0 0 1 1.06 0l2 2a.75.75 0 0 1 0 1.06l-2 2a.749.749 0 0 1-1.275-.326.749.749 0 0 1 .215-.734l1.47-1.47-1.47-1.47a.75.75 0 0 1 0-1.06ZM3.28 7.78 1.81 9.25l1.47 1.47a.751.751 0 0 1-.018 1.042.751.751 0 0 1-1.042.018l-2-2a.75.75 0 0 1 0-1.06l2-2a.751.751 0 0 1 1.042.018.751.751 0 0 1 .018 1.042Zm8.22-6.218V4.25c0 .138.112.25.25.25h2.688l-.011-.013-2.914-2.914-.013-.011Z"></path>
</svg>
</template>

<template id="history-icon">
  <svg aria-hidden="true" height="16" viewBox="0 0 16 16" version="1.1" width="16" data-view-component="true" class="octicon octicon-history">
    <path d="m.427 1.927 1.215 1.215a8.002 8.002 0 1 1-1.6 5.685.75.75 0 1 1 1.493-.154 6.5 6.5 0 1 0 1.18-4.458l1.358 1.358A.25.25 0 0 1 3.896 6H.25A.25.25 0 0 1 0 5.75V2.104a.25.25 0 0 1 .427-.177ZM7.75 4a.75.75 0 0 1 .75.75v2.992l2.028.812a.75.75 0 0 1-.557 1.392l-2.5-1A.751.751 0 0 1 7 8.25v-3.5A.75.75 0 0 1 7.75 4Z"></path>
</svg>
</template>

<template id="repo-icon">
  <svg aria-hidden="true" height="16" viewBox="0 0 16 16" version="1.1" width="16" data-view-component="true" class="octicon octicon-repo">
    <path d="M2 2.5A2.5 2.5 0 0 1 4.5 0h8.75a.75.75 0 0 1 .75.75v12.5a.75.75 0 0 1-.75.75h-2.5a.75.75 0 0 1 0-1.5h1.75v-2h-8a1 1 0 0 0-.714 1.7.75.75 0 1 1-1.072 1.05A2.495 2.495 0 0 1 2 11.5Zm10.5-1h-8a1 1 0 0 0-1 1v6.708A2.486 2.486 0 0 1 4.5 9h8ZM5 12.25a.25.25 0 0 1 .25-.25h3.5a.25.25 0 0 1 .25.25v3.25a.25.25 0 0 1-.4.2l-1.45-1.087a.249.249 0 0 0-.3 0L5.4 15.7a.25.25 0 0 1-.4-.2Z"></path>
</svg>
</template>

<template id="bookmark-icon">
  <svg aria-hidden="true" height="16" viewBox="0 0 16 16" version="1.1" width="16" data-view-component="true" class="octicon octicon-bookmark">
    <path d="M3 2.75C3 1.784 3.784 1 4.75 1h6.5c.966 0 1.75.784 1.75 1.75v11.5a.75.75 0 0 1-1.227.579L8 11.722l-3.773 3.107A.751.751 0 0 1 3 14.25Zm1.75-.25a.25.25 0 0 0-.25.25v9.91l3.023-2.489a.75.75 0 0 1 .954 0l3.023 2.49V2.75a.25.25 0 0 0-.25-.25Z"></path>
</svg>
</template>

<template id="plus-circle-icon">
  <svg aria-hidden="true" height="16" viewBox="0 0 16 16" version="1.1" width="16" data-view-component="true" class="octicon octicon-plus-circle">
    <path d="M8 0a8 8 0 1 1 0 16A8 8 0 0 1 8 0ZM1.5 8a6.5 6.5 0 1 0 13 0 6.5 6.5 0 0 0-13 0Zm7.25-3.25v2.5h2.5a.75.75 0 0 1 0 1.5h-2.5v2.5a.75.75 0 0 1-1.5 0v-2.5h-2.5a.75.75 0 0 1 0-1.5h2.5v-2.5a.75.75 0 0 1 1.5 0Z"></path>
</svg>
</template>

<template id="circle-icon">
  <svg aria-hidden="true" height="16" viewBox="0 0 16 16" version="1.1" width="16" data-view-component="true" class="octicon octicon-dot-fill">
    <path d="M8 4a4 4 0 1 1 0 8 4 4 0 0 1 0-8Z"></path>
</svg>
</template>

<template id="trash-icon">
  <svg aria-hidden="true" height="16" viewBox="0 0 16 16" version="1.1" width="16" data-view-component="true" class="octicon octicon-trash">
    <path d="M11 1.75V3h2.25a.75.75 0 0 1 0 1.5H2.75a.75.75 0 0 1 0-1.5H5V1.75C5 .784 5.784 0 6.75 0h2.5C10.216 0 11 .784 11 1.75ZM4.496 6.675l.66 6.6a.25.25 0 0 0 .249.225h5.19a.25.25 0 0 0 .249-.225l.66-6.6a.75.75 0 0 1 1.492.149l-.66 6.6A1.748 1.748 0 0 1 10.595 15h-5.19a1.75 1.75 0 0 1-1.741-1.575l-.66-6.6a.75.75 0 1 1 1.492-.15ZM6.5 1.75V3h3V1.75a.25.25 0 0 0-.25-.25h-2.5a.25.25 0 0 0-.25.25Z"></path>
</svg>
</template>

<template id="team-icon">
  <svg aria-hidden="true" height="16" viewBox="0 0 16 16" version="1.1" width="16" data-view-component="true" class="octicon octicon-people">
    <path d="M2 5.5a3.5 3.5 0 1 1 5.898 2.549 5.508 5.508 0 0 1 3.034 4.084.75.75 0 1 1-1.482.235 4 4 0 0 0-7.9 0 .75.75 0 0 1-1.482-.236A5.507 5.507 0 0 1 3.102 8.05 3.493 3.493 0 0 1 2 5.5ZM11 4a3.001 3.001 0 0 1 2.22 5.018 5.01 5.01 0 0 1 2.56 3.012.749.749 0 0 1-.885.954.752.752 0 0 1-.549-.514 3.507 3.507 0 0 0-2.522-2.372.75.75 0 0 1-.574-.73v-.352a.75.75 0 0 1 .416-.672A1.5 1.5 0 0 0 11 5.5.75.75 0 0 1 11 4Zm-5.5-.5a2 2 0 1 0-.001 3.999A2 2 0 0 0 5.5 3.5Z"></path>
</svg>
</template>

<template id="project-icon">
  <svg aria-hidden="true" height="16" viewBox="0 0 16 16" version="1.1" width="16" data-view-component="true" class="octicon octicon-project">
    <path d="M1.75 0h12.5C15.216 0 16 .784 16 1.75v12.5A1.75 1.75 0 0 1 14.25 16H1.75A1.75 1.75 0 0 1 0 14.25V1.75C0 .784.784 0 1.75 0ZM1.5 1.75v12.5c0 .138.112.25.25.25h12.5a.25.25 0 0 0 .25-.25V1.75a.25.25 0 0 0-.25-.25H1.75a.25.25 0 0 0-.25.25ZM11.75 3a.75.75 0 0 1 .75.75v7.5a.75.75 0 0 1-1.5 0v-7.5a.75.75 0 0 1 .75-.75Zm-8.25.75a.75.75 0 0 1 1.5 0v5.5a.75.75 0 0 1-1.5 0ZM8 3a.75.75 0 0 1 .75.75v3.5a.75.75 0 0 1-1.5 0v-3.5A.75.75 0 0 1 8 3Z"></path>
</svg>
</template>

<template id="pencil-icon">
  <svg aria-hidden="true" height="16" viewBox="0 0 16 16" version="1.1" width="16" data-view-component="true" class="octicon octicon-pencil">
    <path d="M11.013 1.427a1.75 1.75 0 0 1 2.474 0l1.086 1.086a1.75 1.75 0 0 1 0 2.474l-8.61 8.61c-.21.21-.47.364-.756.445l-3.251.93a.75.75 0 0 1-.927-.928l.929-3.25c.081-.286.235-.547.445-.758l8.61-8.61Zm.176 4.823L9.75 4.81l-6.286 6.287a.253.253 0 0 0-.064.108l-.558 1.953 1.953-.558a.253.253 0 0 0 .108-.064Zm1.238-3.763a.25.25 0 0 0-.354 0L10.811 3.75l1.439 1.44 1.263-1.263a.25.25 0 0 0 0-.354Z"></path>
</svg>
</template>

        <div class="position-relative">
                <ul
                  role="listbox"
                  class="ActionListWrap QueryBuilder-ListWrap"
                  aria-label="Suggestions"
                  data-action="
                    combobox-commit:query-builder#comboboxCommit
                    mousedown:query-builder#resultsMousedown
                  "
                  data-target="query-builder.resultsList"
                  data-persist-list=false
                  id="query-builder-test-results"
                ></ul>
        </div>
    </div>
    <div data-target="query-builder.screenReaderFeedback" aria-live="polite" aria-atomic="true" class="sr-only"></div>
</query-builder></form>
          <div class="d-flex flex-row color-fg-muted px-3 text-small color-bg-default search-feedback-prompt">
            <a target="_blank" href="https://docs.github.com/en/search-github/github-code-search/understanding-github-code-search-syntax" data-view-component="true" class="Link color-fg-accent text-normal ml-2">
              Search syntax tips
</a>            <div class="d-flex flex-1"></div>
                <button data-action="click:qbsearch-input#showFeedbackDialog" type="button" data-view-component="true" class="Button--link Button--medium Button color-fg-accent text-normal ml-2">    <span class="Button-content">
      <span class="Button-label">Give feedback</span>
    </span>
</button>  
          </div>
        </div>
</div>

    </div>
</modal-dialog></div>
  </div>
  <div data-action="click:qbsearch-input#retract" class="dark-backdrop position-fixed" hidden data-target="qbsearch-input.darkBackdrop"></div>
  <div class="color-fg-default">
    
<div class="Overlay--hidden Overlay-backdrop--center" data-modal-dialog-overlay>
  <modal-dialog data-target="qbsearch-input.feedbackDialog" data-action="close:qbsearch-input#handleDialogClose cancel:qbsearch-input#handleDialogClose" role="dialog" id="feedback-dialog" aria-modal="true" aria-disabled="true" aria-describedby="feedback-dialog-title feedback-dialog-description" data-view-component="true" class="Overlay Overlay-whenNarrow Overlay--size-medium Overlay--motion-scaleFade">
    <div data-view-component="true" class="Overlay-header">
  <div class="Overlay-headerContentWrap">
    <div class="Overlay-titleWrap">
      <h1 class="Overlay-title " id="feedback-dialog-title">
        Provide feedback
      </h1>
    </div>
    <div class="Overlay-actionWrap">
      <button data-close-dialog-id="feedback-dialog" aria-label="Close" type="button" data-view-component="true" class="close-button Overlay-closeButton"><svg aria-hidden="true" height="16" viewBox="0 0 16 16" version="1.1" width="16" data-view-component="true" class="octicon octicon-x">
    <path d="M3.72 3.72a.75.75 0 0 1 1.06 0L8 6.94l3.22-3.22a.749.749 0 0 1 1.275.326.749.749 0 0 1-.215.734L9.06 8l3.22 3.22a.749.749 0 0 1-.326 1.275.749.749 0 0 1-.734-.215L8 9.06l-3.22 3.22a.751.751 0 0 1-1.042-.018.751.751 0 0 1-.018-1.042L6.94 8 3.72 4.78a.75.75 0 0 1 0-1.06Z"></path>
</svg></button>
    </div>
  </div>
</div>
      <div data-view-component="true" class="Overlay-body">        <!-- '"` --><!-- </textarea></xmp> --></option></form><form id="code-search-feedback-form" data-turbo="false" action="/search/feedback" accept-charset="UTF-8" method="post"><input type="hidden" name="authenticity_token" value="Bjo7_gJemfyeX-o8J5uQz3iMNOG0BeqsnJVteoZ_yV0FRt1PtnL02PV4aO0f89lTcnlwQnUzxAj9JakV_1NWug" />
          <p>We read every piece of feedback, and take your input very seriously.</p>
          <textarea name="feedback" class="form-control width-full mb-2" style="height: 120px" id="feedback"></textarea>
          <input name="include_email" id="include_email" aria-label="Include my email address so I can be contacted" class="form-control mr-2" type="checkbox">
          <label for="include_email" style="font-weight: normal">Include my email address so I can be contacted</label>
</form></div>
      <div data-view-component="true" class="Overlay-footer Overlay-footer--alignEnd">          <button data-close-dialog-id="feedback-dialog" type="button" data-view-component="true" class="btn">    Cancel
</button>
          <button form="code-search-feedback-form" data-action="click:qbsearch-input#submitFeedback" type="submit" data-view-component="true" class="btn-primary btn">    Submit feedback
</button>
</div>
</modal-dialog></div>

    <custom-scopes data-target="qbsearch-input.customScopesManager">
    
<div class="Overlay--hidden Overlay-backdrop--center" data-modal-dialog-overlay>
  <modal-dialog data-target="custom-scopes.customScopesModalDialog" data-action="close:qbsearch-input#handleDialogClose cancel:qbsearch-input#handleDialogClose" role="dialog" id="custom-scopes-dialog" aria-modal="true" aria-disabled="true" aria-describedby="custom-scopes-dialog-title custom-scopes-dialog-description" data-view-component="true" class="Overlay Overlay-whenNarrow Overlay--size-medium Overlay--motion-scaleFade">
    <div data-view-component="true" class="Overlay-header Overlay-header--divided">
  <div class="Overlay-headerContentWrap">
    <div class="Overlay-titleWrap">
      <h1 class="Overlay-title " id="custom-scopes-dialog-title">
        Saved searches
      </h1>
        <h2 id="custom-scopes-dialog-description" class="Overlay-description">Use saved searches to filter your results more quickly</h2>
    </div>
    <div class="Overlay-actionWrap">
      <button data-close-dialog-id="custom-scopes-dialog" aria-label="Close" type="button" data-view-component="true" class="close-button Overlay-closeButton"><svg aria-hidden="true" height="16" viewBox="0 0 16 16" version="1.1" width="16" data-view-component="true" class="octicon octicon-x">
    <path d="M3.72 3.72a.75.75 0 0 1 1.06 0L8 6.94l3.22-3.22a.749.749 0 0 1 1.275.326.749.749 0 0 1-.215.734L9.06 8l3.22 3.22a.749.749 0 0 1-.326 1.275.749.749 0 0 1-.734-.215L8 9.06l-3.22 3.22a.751.751 0 0 1-1.042-.018.751.751 0 0 1-.018-1.042L6.94 8 3.72 4.78a.75.75 0 0 1 0-1.06Z"></path>
</svg></button>
    </div>
  </div>
</div>
      <div data-view-component="true" class="Overlay-body">        <div data-target="custom-scopes.customScopesModalDialogFlash"></div>

        <div hidden class="create-custom-scope-form" data-target="custom-scopes.createCustomScopeForm">
        <!-- '"` --><!-- </textarea></xmp> --></option></form><form id="custom-scopes-dialog-form" data-turbo="false" action="/search/custom_scopes" accept-charset="UTF-8" method="post"><input type="hidden" name="authenticity_token" value="YAgVizNUSWXOh2KDYBir90Re3SQ0zEQFuFI8G6flp619C5K4dYT3yT2w0reZv8_LNZpPhxhWVXTTPf7aQ5E0xQ" />
          <div data-target="custom-scopes.customScopesModalDialogFlash"></div>

          <input type="hidden" id="custom_scope_id" name="custom_scope_id" data-target="custom-scopes.customScopesIdField">

          <div class="form-group">
            <label for="custom_scope_name">Name</label>
            <auto-check src="/search/custom_scopes/check_name" required>
              <input
                type="text"
                name="custom_scope_name"
                id="custom_scope_name"
                data-target="custom-scopes.customScopesNameField"
                class="form-control"
                autocomplete="off"
                placeholder="github-ruby"
                required
                maxlength="50">
              <input type="hidden" value="IFHEPN_KwTx_L0zuDEzs4fWHM9FkBUa3LrSDuLddnKuuDX3eJAYwSw8anq21MBEmkEzyzkUtOAEKK8P2UHF3fQ" data-csrf="true" />
            </auto-check>
          </div>

          <div class="form-group">
            <label for="custom_scope_query">Query</label>
            <input
              type="text"
              name="custom_scope_query"
              id="custom_scope_query"
              data-target="custom-scopes.customScopesQueryField"
              class="form-control"
              autocomplete="off"
              placeholder="(repo:mona/a OR repo:mona/b) AND lang:python"
              required
              maxlength="500">
          </div>

          <p class="text-small color-fg-muted">
            To see all available qualifiers, see our <a href="https://docs.github.com/en/search-github/github-code-search/understanding-github-code-search-syntax">documentation</a>.
          </p>
</form>        </div>

        <div data-target="custom-scopes.manageCustomScopesForm">
          <div data-target="custom-scopes.list"></div>
        </div>

</div>
      <div data-view-component="true" class="Overlay-footer Overlay-footer--alignEnd Overlay-footer--divided">          <button data-action="click:custom-scopes#customScopesCancel" type="button" data-view-component="true" class="btn">    Cancel
</button>
          <button form="custom-scopes-dialog-form" data-action="click:custom-scopes#customScopesSubmit" data-target="custom-scopes.customScopesSubmitButton" type="submit" data-view-component="true" class="btn-primary btn">    Create saved search
</button>
</div>
</modal-dialog></div>
    </custom-scopes>
  </div>
</qbsearch-input><input type="hidden" value="8XfPaNOC3k5HLrL9lmDXb0He2Aghb3dXEn7DQPzLW7sPTgN6bLlPg-pg0ajUAcN-EUNefVYwdi_QDGDXQi2o3Q" data-csrf="true" class="js-data-jump-to-suggestions-path-csrf" />

          </div>

        <div class="AppHeader-actions">
          <action-menu data-select-variant="none" data-view-component="true">
  <focus-group direction="vertical" mnemonics retain>
    <div data-view-component="true" class="Button-withTooltip">  <button id="global-create-menu-button" popovertarget="global-create-menu-overlay" aria-label="Create something new" aria-controls="global-create-menu-list" aria-haspopup="true" type="button" data-view-component="true" class="AppHeader-button Button--secondary Button--small Button width-auto color-fg-muted box-shadow-none">    <span class="Button-content">
        <span class="Button-visual Button-leadingVisual">
          <svg aria-hidden="true" height="16" viewBox="0 0 16 16" version="1.1" width="16" data-view-component="true" class="octicon octicon-plus">
    <path d="M7.75 2a.75.75 0 0 1 .75.75V7h4.25a.75.75 0 0 1 0 1.5H8.5v4.25a.75.75 0 0 1-1.5 0V8.5H2.75a.75.75 0 0 1 0-1.5H7V2.75A.75.75 0 0 1 7.75 2Z"></path>
</svg>
        </span>
      <span class="Button-label"><svg aria-hidden="true" height="16" viewBox="0 0 16 16" version="1.1" width="16" data-view-component="true" class="octicon octicon-triangle-down">
    <path d="m4.427 7.427 3.396 3.396a.25.25 0 0 0 .354 0l3.396-3.396A.25.25 0 0 0 11.396 7H4.604a.25.25 0 0 0-.177.427Z"></path>
</svg></span>
    </span>
</button>  <tool-tip id="tooltip-72754f22-d121-48c7-8846-38084e1bd4d5" for="global-create-menu-button" popover="manual" data-direction="s" data-type="description" data-view-component="true" class="sr-only position-absolute">Create new...</tool-tip>
</div>

<anchored-position id="global-create-menu-overlay" anchor="global-create-menu-button" align="end" side="outside-bottom" anchor-offset="normal" popover="auto" aria-label="Menu" data-view-component="true">
  <div data-view-component="true" class="Overlay Overlay--size-auto">
    
      
        <div data-view-component="true">
  <ul aria-labelledby="global-create-menu-button" id="global-create-menu-list" role="menu" data-view-component="true" class="ActionListWrap--inset ActionListWrap">
      <li data-analytics-event="{&quot;category&quot;:&quot;SiteHeaderComponent&quot;,&quot;action&quot;:&quot;add_dropdown&quot;,&quot;label&quot;:&quot;new repository&quot;}" data-targets="action-list.items" role="none" data-view-component="true" class="ActionListItem">
    
    <a href="/new" tabindex="-1" id="item-135aed76-d743-4dd4-82c2-23c0e89ad28f" role="menuitem" data-view-component="true" class="ActionListContent ActionListContent--visual16">
        <span class="ActionListItem-visual ActionListItem-visual--leading">
          <svg aria-hidden="true" height="16" viewBox="0 0 16 16" version="1.1" width="16" data-view-component="true" class="octicon octicon-repo">
    <path d="M2 2.5A2.5 2.5 0 0 1 4.5 0h8.75a.75.75 0 0 1 .75.75v12.5a.75.75 0 0 1-.75.75h-2.5a.75.75 0 0 1 0-1.5h1.75v-2h-8a1 1 0 0 0-.714 1.7.75.75 0 1 1-1.072 1.05A2.495 2.495 0 0 1 2 11.5Zm10.5-1h-8a1 1 0 0 0-1 1v6.708A2.486 2.486 0 0 1 4.5 9h8ZM5 12.25a.25.25 0 0 1 .25-.25h3.5a.25.25 0 0 1 .25.25v3.25a.25.25 0 0 1-.4.2l-1.45-1.087a.249.249 0 0 0-.3 0L5.4 15.7a.25.25 0 0 1-.4-.2Z"></path>
</svg>
        </span>
      
        <span data-view-component="true" class="ActionListItem-label">
              New repository

</span></a>
  
  
</li>
      <li data-analytics-event="{&quot;category&quot;:&quot;SiteHeaderComponent&quot;,&quot;action&quot;:&quot;add_dropdown&quot;,&quot;label&quot;:&quot;import repository&quot;}" data-targets="action-list.items" role="none" data-view-component="true" class="ActionListItem">
    
    <a href="/new/import" tabindex="-1" id="item-e58ada32-52d3-4125-a5c3-e9e9742009aa" role="menuitem" data-view-component="true" class="ActionListContent ActionListContent--visual16">
        <span class="ActionListItem-visual ActionListItem-visual--leading">
          <svg aria-hidden="true" height="16" viewBox="0 0 16 16" version="1.1" width="16" data-view-component="true" class="octicon octicon-repo-push">
    <path d="M1 2.5A2.5 2.5 0 0 1 3.5 0h8.75a.75.75 0 0 1 .75.75v3.5a.75.75 0 0 1-1.5 0V1.5h-8a1 1 0 0 0-1 1v6.708A2.493 2.493 0 0 1 3.5 9h3.25a.75.75 0 0 1 0 1.5H3.5a1 1 0 0 0 0 2h5.75a.75.75 0 0 1 0 1.5H3.5A2.5 2.5 0 0 1 1 11.5Zm13.23 7.79h-.001l-1.224-1.224v6.184a.75.75 0 0 1-1.5 0V9.066L10.28 10.29a.75.75 0 0 1-1.06-1.061l2.505-2.504a.75.75 0 0 1 1.06 0L15.29 9.23a.751.751 0 0 1-.018 1.042.751.751 0 0 1-1.042.018Z"></path>
</svg>
        </span>
      
        <span data-view-component="true" class="ActionListItem-label">
                Import repository

</span></a>
  
  
</li>
      <li role="presentation" aria-hidden="true" data-view-component="true" class="ActionList-sectionDivider"></li>
      <li data-analytics-event="{&quot;category&quot;:&quot;SiteHeaderComponent&quot;,&quot;action&quot;:&quot;add_dropdown&quot;,&quot;label&quot;:&quot;new codespace&quot;}" data-targets="action-list.items" role="none" data-view-component="true" class="ActionListItem">
    
    <a href="/codespaces/new" tabindex="-1" id="item-a1be7c75-1e44-41b8-aa01-39dbedff3d05" role="menuitem" data-view-component="true" class="ActionListContent ActionListContent--visual16">
        <span class="ActionListItem-visual ActionListItem-visual--leading">
          <svg aria-hidden="true" height="16" viewBox="0 0 16 16" version="1.1" width="16" data-view-component="true" class="octicon octicon-codespaces">
    <path d="M0 11.25c0-.966.784-1.75 1.75-1.75h12.5c.966 0 1.75.784 1.75 1.75v3A1.75 1.75 0 0 1 14.25 16H1.75A1.75 1.75 0 0 1 0 14.25Zm2-9.5C2 .784 2.784 0 3.75 0h8.5C13.216 0 14 .784 14 1.75v5a1.75 1.75 0 0 1-1.75 1.75h-8.5A1.75 1.75 0 0 1 2 6.75Zm1.75-.25a.25.25 0 0 0-.25.25v5c0 .138.112.25.25.25h8.5a.25.25 0 0 0 .25-.25v-5a.25.25 0 0 0-.25-.25Zm-2 9.5a.25.25 0 0 0-.25.25v3c0 .138.112.25.25.25h12.5a.25.25 0 0 0 .25-.25v-3a.25.25 0 0 0-.25-.25Z"></path><path d="M7 12.75a.75.75 0 0 1 .75-.75h4.5a.75.75 0 0 1 0 1.5h-4.5a.75.75 0 0 1-.75-.75Zm-4 0a.75.75 0 0 1 .75-.75h.5a.75.75 0 0 1 0 1.5h-.5a.75.75 0 0 1-.75-.75Z"></path>
</svg>
        </span>
      
        <span data-view-component="true" class="ActionListItem-label">
                New codespace

</span></a>
  
  
</li>
      <li data-analytics-event="{&quot;category&quot;:&quot;SiteHeaderComponent&quot;,&quot;action&quot;:&quot;add_dropdown&quot;,&quot;label&quot;:&quot;new gist&quot;}" data-targets="action-list.items" role="none" data-view-component="true" class="ActionListItem">
    
    <a href="https://gist.github.com/" tabindex="-1" id="item-f6d6ef94-56a4-4759-a831-ed4fad20feec" role="menuitem" data-view-component="true" class="ActionListContent ActionListContent--visual16">
        <span class="ActionListItem-visual ActionListItem-visual--leading">
          <svg aria-hidden="true" height="16" viewBox="0 0 16 16" version="1.1" width="16" data-view-component="true" class="octicon octicon-code">
    <path d="m11.28 3.22 4.25 4.25a.75.75 0 0 1 0 1.06l-4.25 4.25a.749.749 0 0 1-1.275-.326.749.749 0 0 1 .215-.734L13.94 8l-3.72-3.72a.749.749 0 0 1 .326-1.275.749.749 0 0 1 .734.215Zm-6.56 0a.751.751 0 0 1 1.042.018.751.751 0 0 1 .018 1.042L2.06 8l3.72 3.72a.749.749 0 0 1-.326 1.275.749.749 0 0 1-.734-.215L.47 8.53a.75.75 0 0 1 0-1.06Z"></path>
</svg>
        </span>
      
        <span data-view-component="true" class="ActionListItem-label">
              New gist

</span></a>
  
  
</li>
      <li role="presentation" aria-hidden="true" data-view-component="true" class="ActionList-sectionDivider"></li>
      <li data-analytics-event="{&quot;category&quot;:&quot;SiteHeaderComponent&quot;,&quot;action&quot;:&quot;add_dropdown&quot;,&quot;label&quot;:&quot;new organization&quot;}" data-targets="action-list.items" role="none" data-view-component="true" class="ActionListItem">
    
    <a href="/account/organizations/new" tabindex="-1" id="item-58540034-e3ab-4653-9ab0-747f06261ebc" role="menuitem" data-view-component="true" class="ActionListContent ActionListContent--visual16">
        <span class="ActionListItem-visual ActionListItem-visual--leading">
          <svg aria-hidden="true" height="16" viewBox="0 0 16 16" version="1.1" width="16" data-view-component="true" class="octicon octicon-organization">
    <path d="M1.75 16A1.75 1.75 0 0 1 0 14.25V1.75C0 .784.784 0 1.75 0h8.5C11.216 0 12 .784 12 1.75v12.5c0 .085-.006.168-.018.25h2.268a.25.25 0 0 0 .25-.25V8.285a.25.25 0 0 0-.111-.208l-1.055-.703a.749.749 0 1 1 .832-1.248l1.055.703c.487.325.779.871.779 1.456v5.965A1.75 1.75 0 0 1 14.25 16h-3.5a.766.766 0 0 1-.197-.026c-.099.017-.2.026-.303.026h-3a.75.75 0 0 1-.75-.75V14h-1v1.25a.75.75 0 0 1-.75.75Zm-.25-1.75c0 .138.112.25.25.25H4v-1.25a.75.75 0 0 1 .75-.75h2.5a.75.75 0 0 1 .75.75v1.25h2.25a.25.25 0 0 0 .25-.25V1.75a.25.25 0 0 0-.25-.25h-8.5a.25.25 0 0 0-.25.25ZM3.75 6h.5a.75.75 0 0 1 0 1.5h-.5a.75.75 0 0 1 0-1.5ZM3 3.75A.75.75 0 0 1 3.75 3h.5a.75.75 0 0 1 0 1.5h-.5A.75.75 0 0 1 3 3.75Zm4 3A.75.75 0 0 1 7.75 6h.5a.75.75 0 0 1 0 1.5h-.5A.75.75 0 0 1 7 6.75ZM7.75 3h.5a.75.75 0 0 1 0 1.5h-.5a.75.75 0 0 1 0-1.5ZM3 9.75A.75.75 0 0 1 3.75 9h.5a.75.75 0 0 1 0 1.5h-.5A.75.75 0 0 1 3 9.75ZM7.75 9h.5a.75.75 0 0 1 0 1.5h-.5a.75.75 0 0 1 0-1.5Z"></path>
</svg>
        </span>
      
        <span data-view-component="true" class="ActionListItem-label">
                New organization

</span></a>
  
  
</li>
</ul>  
</div>

</div></anchored-position>  </focus-group>
</action-menu>

          <div data-view-component="true" class="Button-withTooltip">
  <a href="/issues" id="icon-button-1e457c75-6e15-457e-bf04-a0e159e4072a" data-view-component="true" class="Button Button--iconOnly Button--secondary Button--medium AppHeader-button color-fg-muted">    <svg aria-hidden="true" height="16" viewBox="0 0 16 16" version="1.1" width="16" data-view-component="true" class="octicon octicon-issue-opened Button-visual">
    <path d="M8 9.5a1.5 1.5 0 1 0 0-3 1.5 1.5 0 0 0 0 3Z"></path><path d="M8 0a8 8 0 1 1 0 16A8 8 0 0 1 8 0ZM1.5 8a6.5 6.5 0 1 0 13 0 6.5 6.5 0 0 0-13 0Z"></path>
</svg>
</a>  <tool-tip id="tooltip-fbf08f37-4fb2-411a-bd27-d9c4f4971a49" for="icon-button-1e457c75-6e15-457e-bf04-a0e159e4072a" popover="manual" data-direction="s" data-type="label" data-view-component="true" class="sr-only position-absolute">Issues</tool-tip>
</div>
          <div data-view-component="true" class="Button-withTooltip">
  <a href="/pulls" id="icon-button-62d47acc-6cfc-481e-9ca2-caa124204237" data-view-component="true" class="Button Button--iconOnly Button--secondary Button--medium AppHeader-button color-fg-muted">    <svg aria-hidden="true" height="16" viewBox="0 0 16 16" version="1.1" width="16" data-view-component="true" class="octicon octicon-git-pull-request Button-visual">
    <path d="M1.5 3.25a2.25 2.25 0 1 1 3 2.122v5.256a2.251 2.251 0 1 1-1.5 0V5.372A2.25 2.25 0 0 1 1.5 3.25Zm5.677-.177L9.573.677A.25.25 0 0 1 10 .854V2.5h1A2.5 2.5 0 0 1 13.5 5v5.628a2.251 2.251 0 1 1-1.5 0V5a1 1 0 0 0-1-1h-1v1.646a.25.25 0 0 1-.427.177L7.177 3.427a.25.25 0 0 1 0-.354ZM3.75 2.5a.75.75 0 1 0 0 1.5.75.75 0 0 0 0-1.5Zm0 9.5a.75.75 0 1 0 0 1.5.75.75 0 0 0 0-1.5Zm8.25.75a.75.75 0 1 0 1.5 0 .75.75 0 0 0-1.5 0Z"></path>
</svg>
</a>  <tool-tip id="tooltip-bebd1e18-dc7b-46af-90b2-da3702cb537c" for="icon-button-62d47acc-6cfc-481e-9ca2-caa124204237" popover="manual" data-direction="s" data-type="label" data-view-component="true" class="sr-only position-absolute">Pull requests</tool-tip>
</div>
        </div>

        <div class="mr-0">
          

<notification-indicator data-channel="eyJjIjoibm90aWZpY2F0aW9uLWNoYW5nZWQ6MTAyNzMwNTg3IiwidCI6MTY5MDY0NDA5NX0=--79230f8707e3bdc990f0fab54bc2934537fc7f2dd7be575f67da35efa693145c" data-indicator-mode="none" data-tooltip-global="You have unread notifications" data-tooltip-unavailable="Notifications are unavailable at the moment." data-tooltip-none="You have no unread notifications" data-header-redesign-enabled="true" data-fetch-indicator-src="/notifications/indicator" data-fetch-indicator-enabled="true" data-view-component="true" class="js-socket-channel">
  <a id="AppHeader-notifications-button" href="/notifications"
    class="AppHeader-button"

    style="width:32px;height:32px;"

    data-hotkey="g n"
    data-target="notification-indicator.link"
    aria-label="Notifications"

      data-analytics-event="{&quot;category&quot;:&quot;SiteHeaderComponent&quot;,&quot;action&quot;:&quot;notifications&quot;,&quot;label&quot;:null}"
  >

    <span
      data-target="notification-indicator.badge"
      class="mail-status unread d-none" hidden>
    </span>

      <svg aria-hidden="true" height="16" viewBox="0 0 16 16" version="1.1" width="16" data-view-component="true" class="octicon octicon-inbox color-fg-muted mr-0">
    <path d="M2.8 2.06A1.75 1.75 0 0 1 4.41 1h7.18c.7 0 1.333.417 1.61 1.06l2.74 6.395c.04.093.06.194.06.295v4.5A1.75 1.75 0 0 1 14.25 15H1.75A1.75 1.75 0 0 1 0 13.25v-4.5c0-.101.02-.202.06-.295Zm1.61.44a.25.25 0 0 0-.23.152L1.887 8H4.75a.75.75 0 0 1 .6.3L6.625 10h2.75l1.275-1.7a.75.75 0 0 1 .6-.3h2.863L11.82 2.652a.25.25 0 0 0-.23-.152Zm10.09 7h-2.875l-1.275 1.7a.75.75 0 0 1-.6.3h-3.5a.75.75 0 0 1-.6-.3L4.375 9.5H1.5v3.75c0 .138.112.25.25.25h12.5a.25.25 0 0 0 .25-.25Z"></path>
</svg>
  </a>

    <tool-tip data-target="notification-indicator.tooltip" id="tooltip-6786ad36-63fb-4a0e-bccb-0bd40876abad" for="AppHeader-notifications-button" popover="manual" data-direction="s" data-type="description" data-view-component="true" class="sr-only position-absolute">Notifications</tool-tip>
</notification-indicator>
        </div>

        

        <div class="AppHeader-user">
          <deferred-side-panel data-url="/_side-panels/user?memex_enabled=true&amp;repository=INeuron_FSDS_2.0_Assignment&amp;user=Wagh-09&amp;user_can_create_organizations=true&amp;user_id=102730587">
  <include-fragment data-target="deferred-side-panel.fragment">
      <user-drawer-side-panel>
      <button aria-label="Open user account menu" data-action="click:deferred-side-panel#loadPanel click:deferred-side-panel#panelOpened" data-show-dialog-id="dialog-7eebf4a7-c7a1-4f00-8e10-97adf016007b" id="dialog-show-dialog-7eebf4a7-c7a1-4f00-8e10-97adf016007b" type="button" data-view-component="true" class="AppHeader-logo Button--invisible Button--medium Button Button--invisible-noVisuals color-bg-transparent p-0">    <span class="Button-content">
      <span class="Button-label"><img src="https://avatars.githubusercontent.com/u/102730587?v=4" alt="" size="32" height="32" width="32" data-view-component="true" class="avatar circle" /></span>
    </span>
</button>  

<div class="Overlay--hidden Overlay-backdrop--side Overlay-backdrop--placement-right" data-modal-dialog-overlay>
  <modal-dialog data-target="deferred-side-panel.panel" role="dialog" id="dialog-7eebf4a7-c7a1-4f00-8e10-97adf016007b" aria-modal="true" aria-disabled="true" aria-describedby="dialog-7eebf4a7-c7a1-4f00-8e10-97adf016007b-title dialog-7eebf4a7-c7a1-4f00-8e10-97adf016007b-description" data-view-component="true" class="Overlay Overlay-whenNarrow Overlay--size-small-portrait Overlay--motion-scaleFade SidePanel">
    <div styles="flex-direction: row;" data-view-component="true" class="Overlay-header">
  <div class="Overlay-headerContentWrap">
    <div class="Overlay-titleWrap">
      <h1 class="Overlay-title sr-only" id="dialog-7eebf4a7-c7a1-4f00-8e10-97adf016007b-title">
        Account menu
      </h1>
            <div data-view-component="true" class="d-flex">
      <div data-view-component="true" class="AppHeader-logo position-relative">
        <img src="https://avatars.githubusercontent.com/u/102730587?v=4" alt="" size="32" height="32" width="32" data-view-component="true" class="avatar circle" />
</div>        <div data-view-component="true" class="d-flex width-full">        <div data-view-component="true" class="lh-condensed d-flex flex-column flex-justify-center ml-2 f5 mr-auto">
          <span data-view-component="true" class="Truncate d-block text-bold">
    <span data-view-component="true" class="Truncate-text">
            Wagh-09
</span>
</span>          <span data-view-component="true" class="Truncate d-block color-fg-subtle">
    <span data-view-component="true" class="Truncate-text">
            Kirti Wagh
</span>
</span></div>
</div>
</div>
    </div>
    <div class="Overlay-actionWrap">
      <button data-close-dialog-id="dialog-7eebf4a7-c7a1-4f00-8e10-97adf016007b" aria-label="Close" type="button" data-view-component="true" class="close-button Overlay-closeButton"><svg aria-hidden="true" height="16" viewBox="0 0 16 16" version="1.1" width="16" data-view-component="true" class="octicon octicon-x">
    <path d="M3.72 3.72a.75.75 0 0 1 1.06 0L8 6.94l3.22-3.22a.749.749 0 0 1 1.275.326.749.749 0 0 1-.215.734L9.06 8l3.22 3.22a.749.749 0 0 1-.326 1.275.749.749 0 0 1-.734-.215L8 9.06l-3.22 3.22a.751.751 0 0 1-1.042-.018.751.751 0 0 1-.018-1.042L6.94 8 3.72 4.78a.75.75 0 0 1 0-1.06Z"></path>
</svg></button>
    </div>
  </div>
</div>
      <div data-view-component="true" class="Overlay-body d-flex flex-column height-full px-2">      <nav aria-label="User navigation" data-view-component="true" class="ActionList">
  
  <nav-list>
    <ul data-view-component="true" class="ActionListWrap">
        
          
<li data-item-id="" data-targets="nav-list.items" data-view-component="true" class="ActionListItem">
    
    <button id="item-3c5f53cd-9e31-470f-a69a-20f3c69ccbbd" type="button" data-view-component="true" class="ActionListContent ActionListContent--visual16">
        <span class="ActionListItem-visual ActionListItem-visual--leading">
          <span data-view-component="true" class="d-flex flex-items-center">    <svg style="box-sizing: content-box; color: var(--color-icon-primary);" width="16" height="16" viewBox="0 0 16 16" fill="none" data-view-component="true" class="anim-rotate">
  <circle cx="8" cy="8" r="7" stroke="currentColor" stroke-opacity="0.25" stroke-width="2" vector-effect="non-scaling-stroke" />
  <path d="M15 8a7.002 7.002 0 00-7-7" stroke="currentColor" stroke-width="2" stroke-linecap="round" vector-effect="non-scaling-stroke" />
</svg>
</span>
        </span>
      
        <span data-view-component="true" class="ActionListItem-label">
          

  <span class="color-fg-muted">
    Loading...
  </span>

</span></button>
  
  
</li>

        
          <li role="presentation" aria-hidden="true" data-view-component="true" class="ActionList-sectionDivider"></li>
        
          
<li data-item-id="" data-targets="nav-list.items" data-view-component="true" class="ActionListItem">
    
    <a id="item-66694db8-30e0-457d-862c-8150d8b15d47" href="https://github.com/Wagh-09" data-view-component="true" class="ActionListContent ActionListContent--visual16">
        <span class="ActionListItem-visual ActionListItem-visual--leading">
          <svg aria-hidden="true" height="16" viewBox="0 0 16 16" version="1.1" width="16" data-view-component="true" class="octicon octicon-person">
    <path d="M10.561 8.073a6.005 6.005 0 0 1 3.432 5.142.75.75 0 1 1-1.498.07 4.5 4.5 0 0 0-8.99 0 .75.75 0 0 1-1.498-.07 6.004 6.004 0 0 1 3.431-5.142 3.999 3.999 0 1 1 5.123 0ZM10.5 5a2.5 2.5 0 1 0-5 0 2.5 2.5 0 0 0 5 0Z"></path>
</svg>
        </span>
      
        <span data-view-component="true" class="ActionListItem-label">
          Your profile
</span></a>
  
  
</li>

        
          <li role="presentation" aria-hidden="true" data-view-component="true" class="ActionList-sectionDivider"></li>
        
          
<li data-item-id="" data-targets="nav-list.items" data-view-component="true" class="ActionListItem">
    
    <a id="item-1102a5e4-b222-477d-89b1-2373c6de8baa" href="/Wagh-09?tab=repositories" data-view-component="true" class="ActionListContent ActionListContent--visual16">
        <span class="ActionListItem-visual ActionListItem-visual--leading">
          <svg aria-hidden="true" height="16" viewBox="0 0 16 16" version="1.1" width="16" data-view-component="true" class="octicon octicon-repo">
    <path d="M2 2.5A2.5 2.5 0 0 1 4.5 0h8.75a.75.75 0 0 1 .75.75v12.5a.75.75 0 0 1-.75.75h-2.5a.75.75 0 0 1 0-1.5h1.75v-2h-8a1 1 0 0 0-.714 1.7.75.75 0 1 1-1.072 1.05A2.495 2.495 0 0 1 2 11.5Zm10.5-1h-8a1 1 0 0 0-1 1v6.708A2.486 2.486 0 0 1 4.5 9h8ZM5 12.25a.25.25 0 0 1 .25-.25h3.5a.25.25 0 0 1 .25.25v3.25a.25.25 0 0 1-.4.2l-1.45-1.087a.249.249 0 0 0-.3 0L5.4 15.7a.25.25 0 0 1-.4-.2Z"></path>
</svg>
        </span>
      
        <span data-view-component="true" class="ActionListItem-label">
          Your repositories
</span></a>
  
  
</li>

        
          
<li data-item-id="" data-targets="nav-list.items" data-view-component="true" class="ActionListItem">
    
    <a id="item-c393c231-f7cd-4a8e-b081-5160f5064f40" href="/Wagh-09?tab=projects" data-view-component="true" class="ActionListContent ActionListContent--visual16">
        <span class="ActionListItem-visual ActionListItem-visual--leading">
          <svg aria-hidden="true" height="16" viewBox="0 0 16 16" version="1.1" width="16" data-view-component="true" class="octicon octicon-project">
    <path d="M1.75 0h12.5C15.216 0 16 .784 16 1.75v12.5A1.75 1.75 0 0 1 14.25 16H1.75A1.75 1.75 0 0 1 0 14.25V1.75C0 .784.784 0 1.75 0ZM1.5 1.75v12.5c0 .138.112.25.25.25h12.5a.25.25 0 0 0 .25-.25V1.75a.25.25 0 0 0-.25-.25H1.75a.25.25 0 0 0-.25.25ZM11.75 3a.75.75 0 0 1 .75.75v7.5a.75.75 0 0 1-1.5 0v-7.5a.75.75 0 0 1 .75-.75Zm-8.25.75a.75.75 0 0 1 1.5 0v5.5a.75.75 0 0 1-1.5 0ZM8 3a.75.75 0 0 1 .75.75v3.5a.75.75 0 0 1-1.5 0v-3.5A.75.75 0 0 1 8 3Z"></path>
</svg>
        </span>
      
        <span data-view-component="true" class="ActionListItem-label">
          Your projects
</span></a>
  
  
</li>

        
          
<li data-item-id="" data-targets="nav-list.items" data-view-component="true" class="ActionListItem">
    
    <a id="item-814cc671-17f2-4552-b297-2746b09b7046" href="/codespaces" data-view-component="true" class="ActionListContent ActionListContent--visual16">
        <span class="ActionListItem-visual ActionListItem-visual--leading">
          <svg aria-hidden="true" height="16" viewBox="0 0 16 16" version="1.1" width="16" data-view-component="true" class="octicon octicon-codespaces">
    <path d="M0 11.25c0-.966.784-1.75 1.75-1.75h12.5c.966 0 1.75.784 1.75 1.75v3A1.75 1.75 0 0 1 14.25 16H1.75A1.75 1.75 0 0 1 0 14.25Zm2-9.5C2 .784 2.784 0 3.75 0h8.5C13.216 0 14 .784 14 1.75v5a1.75 1.75 0 0 1-1.75 1.75h-8.5A1.75 1.75 0 0 1 2 6.75Zm1.75-.25a.25.25 0 0 0-.25.25v5c0 .138.112.25.25.25h8.5a.25.25 0 0 0 .25-.25v-5a.25.25 0 0 0-.25-.25Zm-2 9.5a.25.25 0 0 0-.25.25v3c0 .138.112.25.25.25h12.5a.25.25 0 0 0 .25-.25v-3a.25.25 0 0 0-.25-.25Z"></path><path d="M7 12.75a.75.75 0 0 1 .75-.75h4.5a.75.75 0 0 1 0 1.5h-4.5a.75.75 0 0 1-.75-.75Zm-4 0a.75.75 0 0 1 .75-.75h.5a.75.75 0 0 1 0 1.5h-.5a.75.75 0 0 1-.75-.75Z"></path>
</svg>
        </span>
      
        <span data-view-component="true" class="ActionListItem-label">
          Your codespaces
</span></a>
  
  
</li>

        
          
<li data-item-id="" data-targets="nav-list.items" data-view-component="true" class="ActionListItem">
    
    <button id="item-7e54a245-bc71-4aa7-9bf3-4592b23934c3" type="button" data-view-component="true" class="ActionListContent ActionListContent--visual16">
        <span class="ActionListItem-visual ActionListItem-visual--leading">
          <span data-view-component="true" class="d-flex flex-items-center">    <svg style="box-sizing: content-box; color: var(--color-icon-primary);" width="16" height="16" viewBox="0 0 16 16" fill="none" data-view-component="true" class="anim-rotate">
  <circle cx="8" cy="8" r="7" stroke="currentColor" stroke-opacity="0.25" stroke-width="2" vector-effect="non-scaling-stroke" />
  <path d="M15 8a7.002 7.002 0 00-7-7" stroke="currentColor" stroke-width="2" stroke-linecap="round" vector-effect="non-scaling-stroke" />
</svg>
</span>
        </span>
      
        <span data-view-component="true" class="ActionListItem-label">
          

  <span class="color-fg-muted">
    Loading...
  </span>

</span></button>
  
  
</li>

        
          
<li data-item-id="" data-targets="nav-list.items" data-view-component="true" class="ActionListItem">
    
    <a id="item-9fbf3da7-09b1-4adf-9d52-d93321f15035" href="/Wagh-09?tab=stars" data-view-component="true" class="ActionListContent ActionListContent--visual16">
        <span class="ActionListItem-visual ActionListItem-visual--leading">
          <svg aria-hidden="true" height="16" viewBox="0 0 16 16" version="1.1" width="16" data-view-component="true" class="octicon octicon-star">
    <path d="M8 .25a.75.75 0 0 1 .673.418l1.882 3.815 4.21.612a.75.75 0 0 1 .416 1.279l-3.046 2.97.719 4.192a.751.751 0 0 1-1.088.791L8 12.347l-3.766 1.98a.75.75 0 0 1-1.088-.79l.72-4.194L.818 6.374a.75.75 0 0 1 .416-1.28l4.21-.611L7.327.668A.75.75 0 0 1 8 .25Zm0 2.445L6.615 5.5a.75.75 0 0 1-.564.41l-3.097.45 2.24 2.184a.75.75 0 0 1 .216.664l-.528 3.084 2.769-1.456a.75.75 0 0 1 .698 0l2.77 1.456-.53-3.084a.75.75 0 0 1 .216-.664l2.24-2.183-3.096-.45a.75.75 0 0 1-.564-.41L8 2.694Z"></path>
</svg>
        </span>
      
        <span data-view-component="true" class="ActionListItem-label">
          Your stars
</span></a>
  
  
</li>

        
          
<li data-item-id="" data-targets="nav-list.items" data-view-component="true" class="ActionListItem">
    
    <a id="item-430e7f8b-9424-45d8-a50d-6f6e67f5cea7" href="/sponsors/accounts" data-view-component="true" class="ActionListContent ActionListContent--visual16">
        <span class="ActionListItem-visual ActionListItem-visual--leading">
          <svg aria-hidden="true" height="16" viewBox="0 0 16 16" version="1.1" width="16" data-view-component="true" class="octicon octicon-heart">
    <path d="m8 14.25.345.666a.75.75 0 0 1-.69 0l-.008-.004-.018-.01a7.152 7.152 0 0 1-.31-.17 22.055 22.055 0 0 1-3.434-2.414C2.045 10.731 0 8.35 0 5.5 0 2.836 2.086 1 4.25 1 5.797 1 7.153 1.802 8 3.02 8.847 1.802 10.203 1 11.75 1 13.914 1 16 2.836 16 5.5c0 2.85-2.045 5.231-3.885 6.818a22.066 22.066 0 0 1-3.744 2.584l-.018.01-.006.003h-.002ZM4.25 2.5c-1.336 0-2.75 1.164-2.75 3 0 2.15 1.58 4.144 3.365 5.682A20.58 20.58 0 0 0 8 13.393a20.58 20.58 0 0 0 3.135-2.211C12.92 9.644 14.5 7.65 14.5 5.5c0-1.836-1.414-3-2.75-3-1.373 0-2.609.986-3.029 2.456a.749.749 0 0 1-1.442 0C6.859 3.486 5.623 2.5 4.25 2.5Z"></path>
</svg>
        </span>
      
        <span data-view-component="true" class="ActionListItem-label">
          Your sponsors
</span></a>
  
  
</li>

        
          
<li data-item-id="" data-targets="nav-list.items" data-view-component="true" class="ActionListItem">
    
    <a id="item-c7482e16-c302-414e-a1e9-c6da0bcd631c" href="https://gist.github.com/mine" data-view-component="true" class="ActionListContent ActionListContent--visual16">
        <span class="ActionListItem-visual ActionListItem-visual--leading">
          <svg aria-hidden="true" height="16" viewBox="0 0 16 16" version="1.1" width="16" data-view-component="true" class="octicon octicon-code-square">
    <path d="M0 1.75C0 .784.784 0 1.75 0h12.5C15.216 0 16 .784 16 1.75v12.5A1.75 1.75 0 0 1 14.25 16H1.75A1.75 1.75 0 0 1 0 14.25Zm1.75-.25a.25.25 0 0 0-.25.25v12.5c0 .138.112.25.25.25h12.5a.25.25 0 0 0 .25-.25V1.75a.25.25 0 0 0-.25-.25Zm7.47 3.97a.75.75 0 0 1 1.06 0l2 2a.75.75 0 0 1 0 1.06l-2 2a.749.749 0 0 1-1.275-.326.749.749 0 0 1 .215-.734L10.69 8 9.22 6.53a.75.75 0 0 1 0-1.06ZM6.78 6.53 5.31 8l1.47 1.47a.749.749 0 0 1-.326 1.275.749.749 0 0 1-.734-.215l-2-2a.75.75 0 0 1 0-1.06l2-2a.751.751 0 0 1 1.042.018.751.751 0 0 1 .018 1.042Z"></path>
</svg>
        </span>
      
        <span data-view-component="true" class="ActionListItem-label">
          Your gists
</span></a>
  
  
</li>

        
          <li role="presentation" aria-hidden="true" data-view-component="true" class="ActionList-sectionDivider"></li>
        
          
<li data-item-id="" data-targets="nav-list.items" data-view-component="true" class="ActionListItem">
    
    <button id="item-262b30da-87fb-4f24-ad0c-e8d5833968ee" type="button" data-view-component="true" class="ActionListContent ActionListContent--visual16">
        <span class="ActionListItem-visual ActionListItem-visual--leading">
          <span data-view-component="true" class="d-flex flex-items-center">    <svg style="box-sizing: content-box; color: var(--color-icon-primary);" width="16" height="16" viewBox="0 0 16 16" fill="none" data-view-component="true" class="anim-rotate">
  <circle cx="8" cy="8" r="7" stroke="currentColor" stroke-opacity="0.25" stroke-width="2" vector-effect="non-scaling-stroke" />
  <path d="M15 8a7.002 7.002 0 00-7-7" stroke="currentColor" stroke-width="2" stroke-linecap="round" vector-effect="non-scaling-stroke" />
</svg>
</span>
        </span>
      
        <span data-view-component="true" class="ActionListItem-label">
          

  <span class="color-fg-muted">
    Loading...
  </span>

</span></button>
  
  
</li>

        
          
<li data-item-id="" data-targets="nav-list.items" data-view-component="true" class="ActionListItem">
    
    <button id="item-554dbf0f-8127-4341-a440-d77bfc170594" type="button" data-view-component="true" class="ActionListContent ActionListContent--visual16">
        <span class="ActionListItem-visual ActionListItem-visual--leading">
          <span data-view-component="true" class="d-flex flex-items-center">    <svg style="box-sizing: content-box; color: var(--color-icon-primary);" width="16" height="16" viewBox="0 0 16 16" fill="none" data-view-component="true" class="anim-rotate">
  <circle cx="8" cy="8" r="7" stroke="currentColor" stroke-opacity="0.25" stroke-width="2" vector-effect="non-scaling-stroke" />
  <path d="M15 8a7.002 7.002 0 00-7-7" stroke="currentColor" stroke-width="2" stroke-linecap="round" vector-effect="non-scaling-stroke" />
</svg>
</span>
        </span>
      
        <span data-view-component="true" class="ActionListItem-label">
          

  <span class="color-fg-muted">
    Loading...
  </span>

</span></button>
  
  
</li>

        
          
<li data-item-id="" data-targets="nav-list.items" data-view-component="true" class="ActionListItem">
    
    <button id="item-e4bf1e28-f48a-42cd-9e9e-de49d3bf8afa" type="button" data-view-component="true" class="ActionListContent ActionListContent--visual16">
        <span class="ActionListItem-visual ActionListItem-visual--leading">
          <span data-view-component="true" class="d-flex flex-items-center">    <svg style="box-sizing: content-box; color: var(--color-icon-primary);" width="16" height="16" viewBox="0 0 16 16" fill="none" data-view-component="true" class="anim-rotate">
  <circle cx="8" cy="8" r="7" stroke="currentColor" stroke-opacity="0.25" stroke-width="2" vector-effect="non-scaling-stroke" />
  <path d="M15 8a7.002 7.002 0 00-7-7" stroke="currentColor" stroke-width="2" stroke-linecap="round" vector-effect="non-scaling-stroke" />
</svg>
</span>
        </span>
      
        <span data-view-component="true" class="ActionListItem-label">
          

  <span class="color-fg-muted">
    Loading...
  </span>

</span></button>
  
  
</li>

        
          
<li data-item-id="" data-targets="nav-list.items" data-view-component="true" class="ActionListItem">
    
    <a id="item-8719589c-fc9f-477e-b099-fa667dc4e922" href="/settings/profile" data-view-component="true" class="ActionListContent ActionListContent--visual16">
        <span class="ActionListItem-visual ActionListItem-visual--leading">
          <svg aria-hidden="true" height="16" viewBox="0 0 16 16" version="1.1" width="16" data-view-component="true" class="octicon octicon-gear">
    <path d="M8 0a8.2 8.2 0 0 1 .701.031C9.444.095 9.99.645 10.16 1.29l.288 1.107c.018.066.079.158.212.224.231.114.454.243.668.386.123.082.233.09.299.071l1.103-.303c.644-.176 1.392.021 1.82.63.27.385.506.792.704 1.218.315.675.111 1.422-.364 1.891l-.814.806c-.049.048-.098.147-.088.294.016.257.016.515 0 .772-.01.147.038.246.088.294l.814.806c.475.469.679 1.216.364 1.891a7.977 7.977 0 0 1-.704 1.217c-.428.61-1.176.807-1.82.63l-1.102-.302c-.067-.019-.177-.011-.3.071a5.909 5.909 0 0 1-.668.386c-.133.066-.194.158-.211.224l-.29 1.106c-.168.646-.715 1.196-1.458 1.26a8.006 8.006 0 0 1-1.402 0c-.743-.064-1.289-.614-1.458-1.26l-.289-1.106c-.018-.066-.079-.158-.212-.224a5.738 5.738 0 0 1-.668-.386c-.123-.082-.233-.09-.299-.071l-1.103.303c-.644.176-1.392-.021-1.82-.63a8.12 8.12 0 0 1-.704-1.218c-.315-.675-.111-1.422.363-1.891l.815-.806c.05-.048.098-.147.088-.294a6.214 6.214 0 0 1 0-.772c.01-.147-.038-.246-.088-.294l-.815-.806C.635 6.045.431 5.298.746 4.623a7.92 7.92 0 0 1 .704-1.217c.428-.61 1.176-.807 1.82-.63l1.102.302c.067.019.177.011.3-.071.214-.143.437-.272.668-.386.133-.066.194-.158.211-.224l.29-1.106C6.009.645 6.556.095 7.299.03 7.53.01 7.764 0 8 0Zm-.571 1.525c-.036.003-.108.036-.137.146l-.289 1.105c-.147.561-.549.967-.998 1.189-.173.086-.34.183-.5.29-.417.278-.97.423-1.529.27l-1.103-.303c-.109-.03-.175.016-.195.045-.22.312-.412.644-.573.99-.014.031-.021.11.059.19l.815.806c.411.406.562.957.53 1.456a4.709 4.709 0 0 0 0 .582c.032.499-.119 1.05-.53 1.456l-.815.806c-.081.08-.073.159-.059.19.162.346.353.677.573.989.02.03.085.076.195.046l1.102-.303c.56-.153 1.113-.008 1.53.27.161.107.328.204.501.29.447.222.85.629.997 1.189l.289 1.105c.029.109.101.143.137.146a6.6 6.6 0 0 0 1.142 0c.036-.003.108-.036.137-.146l.289-1.105c.147-.561.549-.967.998-1.189.173-.086.34-.183.5-.29.417-.278.97-.423 1.529-.27l1.103.303c.109.029.175-.016.195-.045.22-.313.411-.644.573-.99.014-.031.021-.11-.059-.19l-.815-.806c-.411-.406-.562-.957-.53-1.456a4.709 4.709 0 0 0 0-.582c-.032-.499.119-1.05.53-1.456l.815-.806c.081-.08.073-.159.059-.19a6.464 6.464 0 0 0-.573-.989c-.02-.03-.085-.076-.195-.046l-1.102.303c-.56.153-1.113.008-1.53-.27a4.44 4.44 0 0 0-.501-.29c-.447-.222-.85-.629-.997-1.189l-.289-1.105c-.029-.11-.101-.143-.137-.146a6.6 6.6 0 0 0-1.142 0ZM11 8a3 3 0 1 1-6 0 3 3 0 0 1 6 0ZM9.5 8a1.5 1.5 0 1 0-3.001.001A1.5 1.5 0 0 0 9.5 8Z"></path>
</svg>
        </span>
      
        <span data-view-component="true" class="ActionListItem-label">
          Settings
</span></a>
  
  
</li>

        
          <li role="presentation" aria-hidden="true" data-view-component="true" class="ActionList-sectionDivider"></li>
        
          
<li data-item-id="" data-targets="nav-list.items" data-view-component="true" class="ActionListItem">
    
    <a id="item-8cb7c86b-9e93-4a12-9467-f0d2b19881bb" href="https://docs.github.com" data-view-component="true" class="ActionListContent ActionListContent--visual16">
        <span class="ActionListItem-visual ActionListItem-visual--leading">
          <svg aria-hidden="true" height="16" viewBox="0 0 16 16" version="1.1" width="16" data-view-component="true" class="octicon octicon-book">
    <path d="M0 1.75A.75.75 0 0 1 .75 1h4.253c1.227 0 2.317.59 3 1.501A3.743 3.743 0 0 1 11.006 1h4.245a.75.75 0 0 1 .75.75v10.5a.75.75 0 0 1-.75.75h-4.507a2.25 2.25 0 0 0-1.591.659l-.622.621a.75.75 0 0 1-1.06 0l-.622-.621A2.25 2.25 0 0 0 5.258 13H.75a.75.75 0 0 1-.75-.75Zm7.251 10.324.004-5.073-.002-2.253A2.25 2.25 0 0 0 5.003 2.5H1.5v9h3.757a3.75 3.75 0 0 1 1.994.574ZM8.755 4.75l-.004 7.322a3.752 3.752 0 0 1 1.992-.572H14.5v-9h-3.495a2.25 2.25 0 0 0-2.25 2.25Z"></path>
</svg>
        </span>
      
        <span data-view-component="true" class="ActionListItem-label">
          GitHub Docs
</span></a>
  
  
</li>

        
          
<li data-item-id="" data-targets="nav-list.items" data-view-component="true" class="ActionListItem">
    
    <a id="item-ad3d5487-66ce-4506-a8e0-9ede863872d6" href="https://support.github.com" data-view-component="true" class="ActionListContent ActionListContent--visual16">
        <span class="ActionListItem-visual ActionListItem-visual--leading">
          <svg aria-hidden="true" height="16" viewBox="0 0 16 16" version="1.1" width="16" data-view-component="true" class="octicon octicon-people">
    <path d="M2 5.5a3.5 3.5 0 1 1 5.898 2.549 5.508 5.508 0 0 1 3.034 4.084.75.75 0 1 1-1.482.235 4 4 0 0 0-7.9 0 .75.75 0 0 1-1.482-.236A5.507 5.507 0 0 1 3.102 8.05 3.493 3.493 0 0 1 2 5.5ZM11 4a3.001 3.001 0 0 1 2.22 5.018 5.01 5.01 0 0 1 2.56 3.012.749.749 0 0 1-.885.954.752.752 0 0 1-.549-.514 3.507 3.507 0 0 0-2.522-2.372.75.75 0 0 1-.574-.73v-.352a.75.75 0 0 1 .416-.672A1.5 1.5 0 0 0 11 5.5.75.75 0 0 1 11 4Zm-5.5-.5a2 2 0 1 0-.001 3.999A2 2 0 0 0 5.5 3.5Z"></path>
</svg>
        </span>
      
        <span data-view-component="true" class="ActionListItem-label">
          GitHub Support
</span></a>
  
  
</li>

        
          <li role="presentation" aria-hidden="true" data-view-component="true" class="ActionList-sectionDivider"></li>
        
          
<li data-item-id="" data-targets="nav-list.items" data-view-component="true" class="ActionListItem">
    
    <a id="item-5fa82224-b0a2-46ad-83ff-1f72b613b63c" href="/logout" data-view-component="true" class="ActionListContent">
      
        <span data-view-component="true" class="ActionListItem-label">
          Sign out
</span></a>
  
  
</li>

</ul>  </nav-list>
</nav>


</div>
      
</modal-dialog></div>
  </user-drawer-side-panel>

  </include-fragment>
</deferred-side-panel>
        </div>

        <div class="Header-item position-relative mr-2 mt-2">
            
<site-header-logged-in-user-menu>

</site-header-logged-in-user-menu>

        </div>
      </div>
    </div>


      <div class="AppHeader-localBar" >
        <nav data-pjax="#js-repo-pjax-container" aria-label="Repository" data-view-component="true" class="js-repo-nav js-sidenav-container-pjax js-responsive-underlinenav overflow-hidden UnderlineNav">

  <ul data-view-component="true" class="UnderlineNav-body list-style-none">
      <li data-view-component="true" class="d-inline-flex">
  <a id="code-tab" href="/Saurabh8734/INeuron_FSDS_2.0_Assignment" data-tab-item="i0code-tab" data-selected-links="repo_source repo_downloads repo_commits repo_releases repo_tags repo_branches repo_packages repo_deployments /Saurabh8734/INeuron_FSDS_2.0_Assignment" data-pjax="#repo-content-pjax-container" data-turbo-frame="repo-content-turbo-frame" data-hotkey="g c" data-analytics-event="{&quot;category&quot;:&quot;Underline navbar&quot;,&quot;action&quot;:&quot;Click tab&quot;,&quot;label&quot;:&quot;Code&quot;,&quot;target&quot;:&quot;UNDERLINE_NAV.TAB&quot;}" data-view-component="true" class="UnderlineNav-item no-wrap js-responsive-underlinenav-item js-selected-navigation-item">
    
              <svg aria-hidden="true" height="16" viewBox="0 0 16 16" version="1.1" width="16" data-view-component="true" class="octicon octicon-code UnderlineNav-octicon d-none d-sm-inline">
    <path d="m11.28 3.22 4.25 4.25a.75.75 0 0 1 0 1.06l-4.25 4.25a.749.749 0 0 1-1.275-.326.749.749 0 0 1 .215-.734L13.94 8l-3.72-3.72a.749.749 0 0 1 .326-1.275.749.749 0 0 1 .734.215Zm-6.56 0a.751.751 0 0 1 1.042.018.751.751 0 0 1 .018 1.042L2.06 8l3.72 3.72a.749.749 0 0 1-.326 1.275.749.749 0 0 1-.734-.215L.47 8.53a.75.75 0 0 1 0-1.06Z"></path>
</svg>
        <span data-content="Code">Code</span>
          <span id="code-repo-tab-count" data-pjax-replace="" data-turbo-replace="" title="Not available" data-view-component="true" class="Counter"></span>


    
</a></li>
      <li data-view-component="true" class="d-inline-flex">
  <a id="issues-tab" href="/Saurabh8734/INeuron_FSDS_2.0_Assignment/issues" data-tab-item="i1issues-tab" data-selected-links="repo_issues repo_labels repo_milestones /Saurabh8734/INeuron_FSDS_2.0_Assignment/issues" data-pjax="#repo-content-pjax-container" data-turbo-frame="repo-content-turbo-frame" data-hotkey="g i" data-analytics-event="{&quot;category&quot;:&quot;Underline navbar&quot;,&quot;action&quot;:&quot;Click tab&quot;,&quot;label&quot;:&quot;Issues&quot;,&quot;target&quot;:&quot;UNDERLINE_NAV.TAB&quot;}" data-view-component="true" class="UnderlineNav-item no-wrap js-responsive-underlinenav-item js-selected-navigation-item">
    
              <svg aria-hidden="true" height="16" viewBox="0 0 16 16" version="1.1" width="16" data-view-component="true" class="octicon octicon-issue-opened UnderlineNav-octicon d-none d-sm-inline">
    <path d="M8 9.5a1.5 1.5 0 1 0 0-3 1.5 1.5 0 0 0 0 3Z"></path><path d="M8 0a8 8 0 1 1 0 16A8 8 0 0 1 8 0ZM1.5 8a6.5 6.5 0 1 0 13 0 6.5 6.5 0 0 0-13 0Z"></path>
</svg>
        <span data-content="Issues">Issues</span>
          <span id="issues-repo-tab-count" data-pjax-replace="" data-turbo-replace="" title="0" hidden="hidden" data-view-component="true" class="Counter">0</span>


    
</a></li>
      <li data-view-component="true" class="d-inline-flex">
  <a id="pull-requests-tab" href="/Saurabh8734/INeuron_FSDS_2.0_Assignment/pulls" data-tab-item="i2pull-requests-tab" data-selected-links="repo_pulls checks /Saurabh8734/INeuron_FSDS_2.0_Assignment/pulls" data-pjax="#repo-content-pjax-container" data-turbo-frame="repo-content-turbo-frame" data-hotkey="g p" data-analytics-event="{&quot;category&quot;:&quot;Underline navbar&quot;,&quot;action&quot;:&quot;Click tab&quot;,&quot;label&quot;:&quot;Pull requests&quot;,&quot;target&quot;:&quot;UNDERLINE_NAV.TAB&quot;}" data-view-component="true" class="UnderlineNav-item no-wrap js-responsive-underlinenav-item js-selected-navigation-item">
    
              <svg aria-hidden="true" height="16" viewBox="0 0 16 16" version="1.1" width="16" data-view-component="true" class="octicon octicon-git-pull-request UnderlineNav-octicon d-none d-sm-inline">
    <path d="M1.5 3.25a2.25 2.25 0 1 1 3 2.122v5.256a2.251 2.251 0 1 1-1.5 0V5.372A2.25 2.25 0 0 1 1.5 3.25Zm5.677-.177L9.573.677A.25.25 0 0 1 10 .854V2.5h1A2.5 2.5 0 0 1 13.5 5v5.628a2.251 2.251 0 1 1-1.5 0V5a1 1 0 0 0-1-1h-1v1.646a.25.25 0 0 1-.427.177L7.177 3.427a.25.25 0 0 1 0-.354ZM3.75 2.5a.75.75 0 1 0 0 1.5.75.75 0 0 0 0-1.5Zm0 9.5a.75.75 0 1 0 0 1.5.75.75 0 0 0 0-1.5Zm8.25.75a.75.75 0 1 0 1.5 0 .75.75 0 0 0-1.5 0Z"></path>
</svg>
        <span data-content="Pull requests">Pull requests</span>
          <span id="pull-requests-repo-tab-count" data-pjax-replace="" data-turbo-replace="" title="0" hidden="hidden" data-view-component="true" class="Counter">0</span>


    
</a></li>
      <li data-view-component="true" class="d-inline-flex">
  <a id="actions-tab" href="/Saurabh8734/INeuron_FSDS_2.0_Assignment/actions" data-tab-item="i3actions-tab" data-selected-links="repo_actions /Saurabh8734/INeuron_FSDS_2.0_Assignment/actions" data-pjax="#repo-content-pjax-container" data-turbo-frame="repo-content-turbo-frame" data-hotkey="g a" data-analytics-event="{&quot;category&quot;:&quot;Underline navbar&quot;,&quot;action&quot;:&quot;Click tab&quot;,&quot;label&quot;:&quot;Actions&quot;,&quot;target&quot;:&quot;UNDERLINE_NAV.TAB&quot;}" data-view-component="true" class="UnderlineNav-item no-wrap js-responsive-underlinenav-item js-selected-navigation-item">
    
              <svg aria-hidden="true" height="16" viewBox="0 0 16 16" version="1.1" width="16" data-view-component="true" class="octicon octicon-play UnderlineNav-octicon d-none d-sm-inline">
    <path d="M8 0a8 8 0 1 1 0 16A8 8 0 0 1 8 0ZM1.5 8a6.5 6.5 0 1 0 13 0 6.5 6.5 0 0 0-13 0Zm4.879-2.773 4.264 2.559a.25.25 0 0 1 0 .428l-4.264 2.559A.25.25 0 0 1 6 10.559V5.442a.25.25 0 0 1 .379-.215Z"></path>
</svg>
        <span data-content="Actions">Actions</span>
          <span id="actions-repo-tab-count" data-pjax-replace="" data-turbo-replace="" title="Not available" data-view-component="true" class="Counter"></span>


    
</a></li>
      <li data-view-component="true" class="d-inline-flex">
  <a id="projects-tab" href="/Saurabh8734/INeuron_FSDS_2.0_Assignment/projects" data-tab-item="i4projects-tab" data-selected-links="repo_projects new_repo_project repo_project /Saurabh8734/INeuron_FSDS_2.0_Assignment/projects" data-pjax="#repo-content-pjax-container" data-turbo-frame="repo-content-turbo-frame" data-hotkey="g b" data-analytics-event="{&quot;category&quot;:&quot;Underline navbar&quot;,&quot;action&quot;:&quot;Click tab&quot;,&quot;label&quot;:&quot;Projects&quot;,&quot;target&quot;:&quot;UNDERLINE_NAV.TAB&quot;}" data-view-component="true" class="UnderlineNav-item no-wrap js-responsive-underlinenav-item js-selected-navigation-item">
    
              <svg aria-hidden="true" height="16" viewBox="0 0 16 16" version="1.1" width="16" data-view-component="true" class="octicon octicon-table UnderlineNav-octicon d-none d-sm-inline">
    <path d="M0 1.75C0 .784.784 0 1.75 0h12.5C15.216 0 16 .784 16 1.75v12.5A1.75 1.75 0 0 1 14.25 16H1.75A1.75 1.75 0 0 1 0 14.25ZM6.5 6.5v8h7.75a.25.25 0 0 0 .25-.25V6.5Zm8-1.5V1.75a.25.25 0 0 0-.25-.25H6.5V5Zm-13 1.5v7.75c0 .138.112.25.25.25H5v-8ZM5 5V1.5H1.75a.25.25 0 0 0-.25.25V5Z"></path>
</svg>
        <span data-content="Projects">Projects</span>
          <span id="projects-repo-tab-count" data-pjax-replace="" data-turbo-replace="" title="0" hidden="hidden" data-view-component="true" class="Counter">0</span>


    
</a></li>
      <li data-view-component="true" class="d-inline-flex">
  <a id="security-tab" href="/Saurabh8734/INeuron_FSDS_2.0_Assignment/security" data-tab-item="i5security-tab" data-selected-links="security overview alerts policy token_scanning code_scanning /Saurabh8734/INeuron_FSDS_2.0_Assignment/security" data-pjax="#repo-content-pjax-container" data-turbo-frame="repo-content-turbo-frame" data-hotkey="g s" data-analytics-event="{&quot;category&quot;:&quot;Underline navbar&quot;,&quot;action&quot;:&quot;Click tab&quot;,&quot;label&quot;:&quot;Security&quot;,&quot;target&quot;:&quot;UNDERLINE_NAV.TAB&quot;}" data-view-component="true" class="UnderlineNav-item no-wrap js-responsive-underlinenav-item js-selected-navigation-item">
    
              <svg aria-hidden="true" height="16" viewBox="0 0 16 16" version="1.1" width="16" data-view-component="true" class="octicon octicon-shield UnderlineNav-octicon d-none d-sm-inline">
    <path d="M7.467.133a1.748 1.748 0 0 1 1.066 0l5.25 1.68A1.75 1.75 0 0 1 15 3.48V7c0 1.566-.32 3.182-1.303 4.682-.983 1.498-2.585 2.813-5.032 3.855a1.697 1.697 0 0 1-1.33 0c-2.447-1.042-4.049-2.357-5.032-3.855C1.32 10.182 1 8.566 1 7V3.48a1.75 1.75 0 0 1 1.217-1.667Zm.61 1.429a.25.25 0 0 0-.153 0l-5.25 1.68a.25.25 0 0 0-.174.238V7c0 1.358.275 2.666 1.057 3.86.784 1.194 2.121 2.34 4.366 3.297a.196.196 0 0 0 .154 0c2.245-.956 3.582-2.104 4.366-3.298C13.225 9.666 13.5 8.36 13.5 7V3.48a.251.251 0 0 0-.174-.237l-5.25-1.68ZM8.75 4.75v3a.75.75 0 0 1-1.5 0v-3a.75.75 0 0 1 1.5 0ZM9 10.5a1 1 0 1 1-2 0 1 1 0 0 1 2 0Z"></path>
</svg>
        <span data-content="Security">Security</span>
          <include-fragment src="/Saurabh8734/INeuron_FSDS_2.0_Assignment/security/overall-count" accept="text/fragment+html"></include-fragment>

    
</a></li>
      <li data-view-component="true" class="d-inline-flex">
  <a id="insights-tab" href="/Saurabh8734/INeuron_FSDS_2.0_Assignment/pulse" data-tab-item="i6insights-tab" data-selected-links="repo_graphs repo_contributors dependency_graph dependabot_updates pulse people community /Saurabh8734/INeuron_FSDS_2.0_Assignment/pulse" data-pjax="#repo-content-pjax-container" data-turbo-frame="repo-content-turbo-frame" data-analytics-event="{&quot;category&quot;:&quot;Underline navbar&quot;,&quot;action&quot;:&quot;Click tab&quot;,&quot;label&quot;:&quot;Insights&quot;,&quot;target&quot;:&quot;UNDERLINE_NAV.TAB&quot;}" data-view-component="true" class="UnderlineNav-item no-wrap js-responsive-underlinenav-item js-selected-navigation-item">
    
              <svg aria-hidden="true" height="16" viewBox="0 0 16 16" version="1.1" width="16" data-view-component="true" class="octicon octicon-graph UnderlineNav-octicon d-none d-sm-inline">
    <path d="M1.5 1.75V13.5h13.75a.75.75 0 0 1 0 1.5H.75a.75.75 0 0 1-.75-.75V1.75a.75.75 0 0 1 1.5 0Zm14.28 2.53-5.25 5.25a.75.75 0 0 1-1.06 0L7 7.06 4.28 9.78a.751.751 0 0 1-1.042-.018.751.751 0 0 1-.018-1.042l3.25-3.25a.75.75 0 0 1 1.06 0L10 7.94l4.72-4.72a.751.751 0 0 1 1.042.018.751.751 0 0 1 .018 1.042Z"></path>
</svg>
        <span data-content="Insights">Insights</span>
          <span id="insights-repo-tab-count" data-pjax-replace="" data-turbo-replace="" title="Not available" data-view-component="true" class="Counter"></span>


    
</a></li>
</ul>
    <div style="visibility:hidden;" data-view-component="true" class="UnderlineNav-actions js-responsive-underlinenav-overflow position-absolute pr-3 pr-md-4 pr-lg-5 right-0">        <details data-view-component="true" class="details-overlay details-reset position-relative">
    <summary role="button" data-view-component="true">          <div class="UnderlineNav-item mr-0 border-0">
            <svg aria-hidden="true" height="16" viewBox="0 0 16 16" version="1.1" width="16" data-view-component="true" class="octicon octicon-kebab-horizontal">
    <path d="M8 9a1.5 1.5 0 1 0 0-3 1.5 1.5 0 0 0 0 3ZM1.5 9a1.5 1.5 0 1 0 0-3 1.5 1.5 0 0 0 0 3Zm13 0a1.5 1.5 0 1 0 0-3 1.5 1.5 0 0 0 0 3Z"></path>
</svg>
            <span class="sr-only">More</span>
          </div>
</summary>
    <details-menu role="menu" data-view-component="true" class="dropdown-menu dropdown-menu-sw">
          <ul>
              <li data-menu-item="i0code-tab" hidden>
                <a role="menuitem" class="js-selected-navigation-item dropdown-item" data-selected-links="repo_source repo_downloads repo_commits repo_releases repo_tags repo_branches repo_packages repo_deployments /Saurabh8734/INeuron_FSDS_2.0_Assignment" href="/Saurabh8734/INeuron_FSDS_2.0_Assignment">
                  Code
</a>              </li>
              <li data-menu-item="i1issues-tab" hidden>
                <a role="menuitem" class="js-selected-navigation-item dropdown-item" data-selected-links="repo_issues repo_labels repo_milestones /Saurabh8734/INeuron_FSDS_2.0_Assignment/issues" href="/Saurabh8734/INeuron_FSDS_2.0_Assignment/issues">
                  Issues
</a>              </li>
              <li data-menu-item="i2pull-requests-tab" hidden>
                <a role="menuitem" class="js-selected-navigation-item dropdown-item" data-selected-links="repo_pulls checks /Saurabh8734/INeuron_FSDS_2.0_Assignment/pulls" href="/Saurabh8734/INeuron_FSDS_2.0_Assignment/pulls">
                  Pull requests
</a>              </li>
              <li data-menu-item="i3actions-tab" hidden>
                <a role="menuitem" class="js-selected-navigation-item dropdown-item" data-selected-links="repo_actions /Saurabh8734/INeuron_FSDS_2.0_Assignment/actions" href="/Saurabh8734/INeuron_FSDS_2.0_Assignment/actions">
                  Actions
</a>              </li>
              <li data-menu-item="i4projects-tab" hidden>
                <a role="menuitem" class="js-selected-navigation-item dropdown-item" data-selected-links="repo_projects new_repo_project repo_project /Saurabh8734/INeuron_FSDS_2.0_Assignment/projects" href="/Saurabh8734/INeuron_FSDS_2.0_Assignment/projects">
                  Projects
</a>              </li>
              <li data-menu-item="i5security-tab" hidden>
                <a role="menuitem" class="js-selected-navigation-item dropdown-item" data-selected-links="security overview alerts policy token_scanning code_scanning /Saurabh8734/INeuron_FSDS_2.0_Assignment/security" href="/Saurabh8734/INeuron_FSDS_2.0_Assignment/security">
                  Security
</a>              </li>
              <li data-menu-item="i6insights-tab" hidden>
                <a role="menuitem" class="js-selected-navigation-item dropdown-item" data-selected-links="repo_graphs repo_contributors dependency_graph dependabot_updates pulse people community /Saurabh8734/INeuron_FSDS_2.0_Assignment/pulse" href="/Saurabh8734/INeuron_FSDS_2.0_Assignment/pulse">
                  Insights
</a>              </li>
          </ul>
</details-menu>
</details></div>
</nav>
      </div>
</header>


      <div hidden="hidden" data-view-component="true" class="js-stale-session-flash flash flash-warn mb-3">
  
        <svg aria-hidden="true" height="16" viewBox="0 0 16 16" version="1.1" width="16" data-view-component="true" class="octicon octicon-alert">
    <path d="M6.457 1.047c.659-1.234 2.427-1.234 3.086 0l6.082 11.378A1.75 1.75 0 0 1 14.082 15H1.918a1.75 1.75 0 0 1-1.543-2.575Zm1.763.707a.25.25 0 0 0-.44 0L1.698 13.132a.25.25 0 0 0 .22.368h12.164a.25.25 0 0 0 .22-.368Zm.53 3.996v2.5a.75.75 0 0 1-1.5 0v-2.5a.75.75 0 0 1 1.5 0ZM9 11a1 1 0 1 1-2 0 1 1 0 0 1 2 0Z"></path>
</svg>
        <span class="js-stale-session-flash-signed-in" hidden>You signed in with another tab or window. <a href="">Reload</a> to refresh your session.</span>
        <span class="js-stale-session-flash-signed-out" hidden>You signed out in another tab or window. <a href="">Reload</a> to refresh your session.</span>
        <span class="js-stale-session-flash-switched" hidden>You switched accounts on another tab or window. <a href="">Reload</a> to refresh your session.</span>

    <button class="flash-close js-flash-close" type="button" aria-label="Close">
      <svg aria-hidden="true" height="16" viewBox="0 0 16 16" version="1.1" width="16" data-view-component="true" class="octicon octicon-x">
    <path d="M3.72 3.72a.75.75 0 0 1 1.06 0L8 6.94l3.22-3.22a.749.749 0 0 1 1.275.326.749.749 0 0 1-.215.734L9.06 8l3.22 3.22a.749.749 0 0 1-.326 1.275.749.749 0 0 1-.734-.215L8 9.06l-3.22 3.22a.751.751 0 0 1-1.042-.018.751.751 0 0 1-.018-1.042L6.94 8 3.72 4.78a.75.75 0 0 1 0-1.06Z"></path>
</svg>
    </button>

  
</div>
          
    </div>

  <div id="start-of-content" class="show-on-focus"></div>








    <div id="js-flash-container" data-turbo-replace>





  <template class="js-flash-template">
    
<div class="flash flash-full   {{ className }}">
  <div class="px-2" >
    <button autofocus class="flash-close js-flash-close" type="button" aria-label="Dismiss this message">
      <svg aria-hidden="true" height="16" viewBox="0 0 16 16" version="1.1" width="16" data-view-component="true" class="octicon octicon-x">
    <path d="M3.72 3.72a.75.75 0 0 1 1.06 0L8 6.94l3.22-3.22a.749.749 0 0 1 1.275.326.749.749 0 0 1-.215.734L9.06 8l3.22 3.22a.749.749 0 0 1-.326 1.275.749.749 0 0 1-.734-.215L8 9.06l-3.22 3.22a.751.751 0 0 1-1.042-.018.751.751 0 0 1-.018-1.042L6.94 8 3.72 4.78a.75.75 0 0 1 0-1.06Z"></path>
</svg>
    </button>
    <div aria-atomic="true" role="alert" class="js-flash-alert">
      
      <div>{{ message }}</div>

    </div>
  </div>
</div>
  </template>
</div>


    
    <notification-shelf-watcher data-base-url="https://github.com/notifications/beta/shelf" data-channel="eyJjIjoibm90aWZpY2F0aW9uLWNoYW5nZWQ6MTAyNzMwNTg3IiwidCI6MTY5MDY0NDA5NX0=--79230f8707e3bdc990f0fab54bc2934537fc7f2dd7be575f67da35efa693145c" data-view-component="true" class="js-socket-channel"></notification-shelf-watcher>
  <div hidden data-initial data-target="notification-shelf-watcher.placeholder"></div>






      <details
  class="details-reset details-overlay details-overlay-dark js-command-palette-dialog"
  id="command-palette-pjax-container"
  data-turbo-replace
>
  <summary aria-label="command palette trigger" tabindex="-1"></summary>
  <details-dialog class="command-palette-details-dialog d-flex flex-column flex-justify-center height-fit" aria-label="command palette">
    <command-palette
      class="command-palette color-bg-default rounded-3 border color-shadow-small"
      return-to=/Saurabh8734/INeuron_FSDS_2.0_Assignment/blob/main/PPt%20program/PPT14.ipynb
      user-id="102730587"
      activation-hotkey="Mod+k,Mod+Alt+k"
      command-mode-hotkey="Mod+Shift+k"
      data-action="
        command-palette-input-ready:command-palette#inputReady
        command-palette-page-stack-updated:command-palette#updateInputScope
        itemsUpdated:command-palette#itemsUpdated
        keydown:command-palette#onKeydown
        loadingStateChanged:command-palette#loadingStateChanged
        selectedItemChanged:command-palette#selectedItemChanged
        pageFetchError:command-palette#pageFetchError
      ">

        <command-palette-mode
          data-char="#"
            data-scope-types="[&quot;&quot;]"
            data-placeholder="Search issues and pull requests"
        ></command-palette-mode>
        <command-palette-mode
          data-char="#"
            data-scope-types="[&quot;owner&quot;,&quot;repository&quot;]"
            data-placeholder="Search issues, pull requests, discussions, and projects"
        ></command-palette-mode>
        <command-palette-mode
          data-char="!"
            data-scope-types="[&quot;owner&quot;,&quot;repository&quot;]"
            data-placeholder="Search projects"
        ></command-palette-mode>
        <command-palette-mode
          data-char="@"
            data-scope-types="[&quot;&quot;]"
            data-placeholder="Search or jump to a user, organization, or repository"
        ></command-palette-mode>
        <command-palette-mode
          data-char="@"
            data-scope-types="[&quot;owner&quot;]"
            data-placeholder="Search or jump to a repository"
        ></command-palette-mode>
        <command-palette-mode
          data-char="/"
            data-scope-types="[&quot;repository&quot;]"
            data-placeholder="Search files"
        ></command-palette-mode>
        <command-palette-mode
          data-char="?"
        ></command-palette-mode>
        <command-palette-mode
          data-char="&gt;"
            data-placeholder="Run a command"
        ></command-palette-mode>
        <command-palette-mode
          data-char=""
            data-scope-types="[&quot;&quot;]"
            data-placeholder="Search or jump to..."
        ></command-palette-mode>
        <command-palette-mode
          data-char=""
            data-scope-types="[&quot;owner&quot;]"
            data-placeholder="Search or jump to..."
        ></command-palette-mode>
      <command-palette-mode
        class="js-command-palette-default-mode"
        data-char=""
        data-placeholder="Search or jump to..."
      ></command-palette-mode>

      <command-palette-input placeholder="Search or jump to..."

        data-action="
          command-palette-input:command-palette#onInput
          command-palette-select:command-palette#onSelect
          command-palette-descope:command-palette#onDescope
          command-palette-cleared:command-palette#onInputClear
        "
      >
        <div class="js-search-icon d-flex flex-items-center mr-2" style="height: 26px">
          <svg aria-hidden="true" height="16" viewBox="0 0 16 16" version="1.1" width="16" data-view-component="true" class="octicon octicon-search color-fg-muted">
    <path d="M10.68 11.74a6 6 0 0 1-7.922-8.982 6 6 0 0 1 8.982 7.922l3.04 3.04a.749.749 0 0 1-.326 1.275.749.749 0 0 1-.734-.215ZM11.5 7a4.499 4.499 0 1 0-8.997 0A4.499 4.499 0 0 0 11.5 7Z"></path>
</svg>
        </div>
        <div class="js-spinner d-flex flex-items-center mr-2 color-fg-muted" hidden>
          <svg aria-label="Loading" class="anim-rotate" viewBox="0 0 16 16" fill="none" width="16" height="16">
            <circle
              cx="8"
              cy="8"
              r="7"
              stroke="currentColor"
              stroke-opacity="0.25"
              stroke-width="2"
              vector-effect="non-scaling-stroke"
            ></circle>
            <path
              d="M15 8a7.002 7.002 0 00-7-7"
              stroke="currentColor"
              stroke-width="2"
              stroke-linecap="round"
              vector-effect="non-scaling-stroke"
            ></path>
          </svg>
        </div>
        <command-palette-scope >
          <div data-target="command-palette-scope.placeholder" hidden class="color-fg-subtle">/&nbsp;&nbsp;<span class="text-semibold color-fg-default">...</span>&nbsp;&nbsp;/&nbsp;&nbsp;</div>
              <command-palette-token
                data-text="Saurabh8734"
                data-id="U_kgDOBiT4pA"
                data-type="owner"
                data-value="Saurabh8734"
                data-targets="command-palette-scope.tokens"
                class="color-fg-default text-semibold"
                style="white-space:nowrap;line-height:20px;"
                >Saurabh8734<span class="color-fg-subtle text-normal">&nbsp;&nbsp;/&nbsp;&nbsp;</span></command-palette-token>
              <command-palette-token
                data-text="INeuron_FSDS_2.0_Assignment"
                data-id="R_kgDOJr4RBA"
                data-type="repository"
                data-value="INeuron_FSDS_2.0_Assignment"
                data-targets="command-palette-scope.tokens"
                class="color-fg-default text-semibold"
                style="white-space:nowrap;line-height:20px;"
                >INeuron_FSDS_2.0_...<span class="color-fg-subtle text-normal">&nbsp;&nbsp;/&nbsp;&nbsp;</span></command-palette-token>
        </command-palette-scope>
        <div class="command-palette-input-group flex-1 form-control border-0 box-shadow-none" style="z-index: 0">
          <div class="command-palette-typeahead position-absolute d-flex flex-items-center Truncate">
            <span class="typeahead-segment input-mirror" data-target="command-palette-input.mirror"></span>
            <span class="Truncate-text" data-target="command-palette-input.typeaheadText"></span>
            <span class="typeahead-segment" data-target="command-palette-input.typeaheadPlaceholder"></span>
          </div>
          <input
            class="js-overlay-input typeahead-input d-none"
            disabled
            tabindex="-1"
            aria-label="Hidden input for typeahead"
          >
          <input
            type="text"
            autocomplete="off"
            autocorrect="off"
            autocapitalize="off"
            spellcheck="false"
            class="js-input typeahead-input form-control border-0 box-shadow-none input-block width-full no-focus-indicator"
            aria-label="Command palette input"
            aria-haspopup="listbox"
            aria-expanded="false"
            aria-autocomplete="list"
            aria-controls="command-palette-page-stack"
            role="combobox"
            data-action="
              input:command-palette-input#onInput
              keydown:command-palette-input#onKeydown
            "
          >
        </div>
          <div data-view-component="true" class="position-relative d-inline-block">
    <button aria-keyshortcuts="Control+Backspace" data-action="click:command-palette-input#onClear keypress:command-palette-input#onClear" data-target="command-palette-input.clearButton" id="command-palette-clear-button" hidden="hidden" type="button" data-view-component="true" class="btn-octicon command-palette-input-clear-button">      <svg aria-hidden="true" height="16" viewBox="0 0 16 16" version="1.1" width="16" data-view-component="true" class="octicon octicon-x-circle-fill">
    <path d="M2.343 13.657A8 8 0 1 1 13.658 2.343 8 8 0 0 1 2.343 13.657ZM6.03 4.97a.751.751 0 0 0-1.042.018.751.751 0 0 0-.018 1.042L6.94 8 4.97 9.97a.749.749 0 0 0 .326 1.275.749.749 0 0 0 .734-.215L8 9.06l1.97 1.97a.749.749 0 0 0 1.275-.326.749.749 0 0 0-.215-.734L9.06 8l1.97-1.97a.749.749 0 0 0-.326-1.275.749.749 0 0 0-.734.215L8 6.94Z"></path>
</svg>
</button>    <tool-tip id="tooltip-37dbceec-c974-4bb1-b091-46da1fa9e5de" for="command-palette-clear-button" popover="manual" data-direction="w" data-type="label" data-view-component="true" class="sr-only position-absolute">Clear Command Palette</tool-tip>
</div>
      </command-palette-input>

      <command-palette-page-stack
        data-default-scope-id="R_kgDOJr4RBA"
        data-default-scope-type="Repository"
        data-action="command-palette-page-octicons-cached:command-palette-page-stack#cacheOcticons"
      >
          <command-palette-tip
            class="color-fg-muted f6 px-3 py-1 my-2"
              data-scope-types="[&quot;&quot;,&quot;owner&quot;,&quot;repository&quot;]"
            data-mode=""
            data-value="">
            <div class="d-flex flex-items-start flex-justify-between">
              <div>
                <span class="text-bold">Tip:</span>
                  Type <kbd class="hx_kbd">#</kbd> to search pull requests
              </div>
              <div class="ml-2 flex-shrink-0">
                Type <kbd class="hx_kbd">?</kbd> for help and tips
              </div>
            </div>
          </command-palette-tip>
          <command-palette-tip
            class="color-fg-muted f6 px-3 py-1 my-2"
              data-scope-types="[&quot;&quot;,&quot;owner&quot;,&quot;repository&quot;]"
            data-mode=""
            data-value="">
            <div class="d-flex flex-items-start flex-justify-between">
              <div>
                <span class="text-bold">Tip:</span>
                  Type <kbd class="hx_kbd">#</kbd> to search issues
              </div>
              <div class="ml-2 flex-shrink-0">
                Type <kbd class="hx_kbd">?</kbd> for help and tips
              </div>
            </div>
          </command-palette-tip>
          <command-palette-tip
            class="color-fg-muted f6 px-3 py-1 my-2"
              data-scope-types="[&quot;owner&quot;,&quot;repository&quot;]"
            data-mode=""
            data-value="">
            <div class="d-flex flex-items-start flex-justify-between">
              <div>
                <span class="text-bold">Tip:</span>
                  Type <kbd class="hx_kbd">#</kbd> to search discussions
              </div>
              <div class="ml-2 flex-shrink-0">
                Type <kbd class="hx_kbd">?</kbd> for help and tips
              </div>
            </div>
          </command-palette-tip>
          <command-palette-tip
            class="color-fg-muted f6 px-3 py-1 my-2"
              data-scope-types="[&quot;owner&quot;,&quot;repository&quot;]"
            data-mode=""
            data-value="">
            <div class="d-flex flex-items-start flex-justify-between">
              <div>
                <span class="text-bold">Tip:</span>
                  Type <kbd class="hx_kbd">!</kbd> to search projects
              </div>
              <div class="ml-2 flex-shrink-0">
                Type <kbd class="hx_kbd">?</kbd> for help and tips
              </div>
            </div>
          </command-palette-tip>
          <command-palette-tip
            class="color-fg-muted f6 px-3 py-1 my-2"
              data-scope-types="[&quot;owner&quot;]"
            data-mode=""
            data-value="">
            <div class="d-flex flex-items-start flex-justify-between">
              <div>
                <span class="text-bold">Tip:</span>
                  Type <kbd class="hx_kbd">@</kbd> to search teams
              </div>
              <div class="ml-2 flex-shrink-0">
                Type <kbd class="hx_kbd">?</kbd> for help and tips
              </div>
            </div>
          </command-palette-tip>
          <command-palette-tip
            class="color-fg-muted f6 px-3 py-1 my-2"
              data-scope-types="[&quot;&quot;]"
            data-mode=""
            data-value="">
            <div class="d-flex flex-items-start flex-justify-between">
              <div>
                <span class="text-bold">Tip:</span>
                  Type <kbd class="hx_kbd">@</kbd> to search people and organizations
              </div>
              <div class="ml-2 flex-shrink-0">
                Type <kbd class="hx_kbd">?</kbd> for help and tips
              </div>
            </div>
          </command-palette-tip>
          <command-palette-tip
            class="color-fg-muted f6 px-3 py-1 my-2"
              data-scope-types="[&quot;&quot;,&quot;owner&quot;,&quot;repository&quot;]"
            data-mode=""
            data-value="">
            <div class="d-flex flex-items-start flex-justify-between">
              <div>
                <span class="text-bold">Tip:</span>
                  Type <kbd class="hx_kbd">&gt;</kbd> to activate command mode
              </div>
              <div class="ml-2 flex-shrink-0">
                Type <kbd class="hx_kbd">?</kbd> for help and tips
              </div>
            </div>
          </command-palette-tip>
          <command-palette-tip
            class="color-fg-muted f6 px-3 py-1 my-2"
              data-scope-types="[&quot;&quot;,&quot;owner&quot;,&quot;repository&quot;]"
            data-mode=""
            data-value="">
            <div class="d-flex flex-items-start flex-justify-between">
              <div>
                <span class="text-bold">Tip:</span>
                  Go to your accessibility settings to change your keyboard shortcuts
              </div>
              <div class="ml-2 flex-shrink-0">
                Type <kbd class="hx_kbd">?</kbd> for help and tips
              </div>
            </div>
          </command-palette-tip>
          <command-palette-tip
            class="color-fg-muted f6 px-3 py-1 my-2"
              data-scope-types="[&quot;&quot;,&quot;owner&quot;,&quot;repository&quot;]"
            data-mode="#"
            data-value="">
            <div class="d-flex flex-items-start flex-justify-between">
              <div>
                <span class="text-bold">Tip:</span>
                  Type author:@me to search your content
              </div>
              <div class="ml-2 flex-shrink-0">
                Type <kbd class="hx_kbd">?</kbd> for help and tips
              </div>
            </div>
          </command-palette-tip>
          <command-palette-tip
            class="color-fg-muted f6 px-3 py-1 my-2"
              data-scope-types="[&quot;&quot;,&quot;owner&quot;,&quot;repository&quot;]"
            data-mode="#"
            data-value="">
            <div class="d-flex flex-items-start flex-justify-between">
              <div>
                <span class="text-bold">Tip:</span>
                  Type is:pr to filter to pull requests
              </div>
              <div class="ml-2 flex-shrink-0">
                Type <kbd class="hx_kbd">?</kbd> for help and tips
              </div>
            </div>
          </command-palette-tip>
          <command-palette-tip
            class="color-fg-muted f6 px-3 py-1 my-2"
              data-scope-types="[&quot;&quot;,&quot;owner&quot;,&quot;repository&quot;]"
            data-mode="#"
            data-value="">
            <div class="d-flex flex-items-start flex-justify-between">
              <div>
                <span class="text-bold">Tip:</span>
                  Type is:issue to filter to issues
              </div>
              <div class="ml-2 flex-shrink-0">
                Type <kbd class="hx_kbd">?</kbd> for help and tips
              </div>
            </div>
          </command-palette-tip>
          <command-palette-tip
            class="color-fg-muted f6 px-3 py-1 my-2"
              data-scope-types="[&quot;owner&quot;,&quot;repository&quot;]"
            data-mode="#"
            data-value="">
            <div class="d-flex flex-items-start flex-justify-between">
              <div>
                <span class="text-bold">Tip:</span>
                  Type is:project to filter to projects
              </div>
              <div class="ml-2 flex-shrink-0">
                Type <kbd class="hx_kbd">?</kbd> for help and tips
              </div>
            </div>
          </command-palette-tip>
          <command-palette-tip
            class="color-fg-muted f6 px-3 py-1 my-2"
              data-scope-types="[&quot;&quot;,&quot;owner&quot;,&quot;repository&quot;]"
            data-mode="#"
            data-value="">
            <div class="d-flex flex-items-start flex-justify-between">
              <div>
                <span class="text-bold">Tip:</span>
                  Type is:open to filter to open content
              </div>
              <div class="ml-2 flex-shrink-0">
                Type <kbd class="hx_kbd">?</kbd> for help and tips
              </div>
            </div>
          </command-palette-tip>
        <command-palette-tip class="mx-3 my-2 flash flash-error d-flex flex-items-center" data-scope-types="*" data-on-error>
          <div>
            <svg aria-hidden="true" height="16" viewBox="0 0 16 16" version="1.1" width="16" data-view-component="true" class="octicon octicon-alert">
    <path d="M6.457 1.047c.659-1.234 2.427-1.234 3.086 0l6.082 11.378A1.75 1.75 0 0 1 14.082 15H1.918a1.75 1.75 0 0 1-1.543-2.575Zm1.763.707a.25.25 0 0 0-.44 0L1.698 13.132a.25.25 0 0 0 .22.368h12.164a.25.25 0 0 0 .22-.368Zm.53 3.996v2.5a.75.75 0 0 1-1.5 0v-2.5a.75.75 0 0 1 1.5 0ZM9 11a1 1 0 1 1-2 0 1 1 0 0 1 2 0Z"></path>
</svg>
          </div>
          <div class="px-2">
            We’ve encountered an error and some results aren't available at this time. Type a new search or try again later.
          </div>
        </command-palette-tip>
        <command-palette-tip class="h4 color-fg-default pl-3 pb-2 pt-3" data-on-empty data-scope-types="*" data-match-mode="[^?]|^$">
          No results matched your search
        </command-palette-tip>

        <div hidden>

            <div data-targets="command-palette-page-stack.localOcticons" data-octicon-id="arrow-right-color-fg-muted">
              <svg height="16" class="octicon octicon-arrow-right color-fg-muted" viewBox="0 0 16 16" version="1.1" width="16" aria-hidden="true"><path d="M8.22 2.97a.75.75 0 0 1 1.06 0l4.25 4.25a.75.75 0 0 1 0 1.06l-4.25 4.25a.751.751 0 0 1-1.042-.018.751.751 0 0 1-.018-1.042l2.97-2.97H3.75a.75.75 0 0 1 0-1.5h7.44L8.22 4.03a.75.75 0 0 1 0-1.06Z"></path></svg>
            </div>
            <div data-targets="command-palette-page-stack.localOcticons" data-octicon-id="arrow-right-color-fg-default">
              <svg height="16" class="octicon octicon-arrow-right color-fg-default" viewBox="0 0 16 16" version="1.1" width="16" aria-hidden="true"><path d="M8.22 2.97a.75.75 0 0 1 1.06 0l4.25 4.25a.75.75 0 0 1 0 1.06l-4.25 4.25a.751.751 0 0 1-1.042-.018.751.751 0 0 1-.018-1.042l2.97-2.97H3.75a.75.75 0 0 1 0-1.5h7.44L8.22 4.03a.75.75 0 0 1 0-1.06Z"></path></svg>
            </div>
            <div data-targets="command-palette-page-stack.localOcticons" data-octicon-id="codespaces-color-fg-muted">
              <svg height="16" class="octicon octicon-codespaces color-fg-muted" viewBox="0 0 16 16" version="1.1" width="16" aria-hidden="true"><path d="M0 11.25c0-.966.784-1.75 1.75-1.75h12.5c.966 0 1.75.784 1.75 1.75v3A1.75 1.75 0 0 1 14.25 16H1.75A1.75 1.75 0 0 1 0 14.25Zm2-9.5C2 .784 2.784 0 3.75 0h8.5C13.216 0 14 .784 14 1.75v5a1.75 1.75 0 0 1-1.75 1.75h-8.5A1.75 1.75 0 0 1 2 6.75Zm1.75-.25a.25.25 0 0 0-.25.25v5c0 .138.112.25.25.25h8.5a.25.25 0 0 0 .25-.25v-5a.25.25 0 0 0-.25-.25Zm-2 9.5a.25.25 0 0 0-.25.25v3c0 .138.112.25.25.25h12.5a.25.25 0 0 0 .25-.25v-3a.25.25 0 0 0-.25-.25Z"></path><path d="M7 12.75a.75.75 0 0 1 .75-.75h4.5a.75.75 0 0 1 0 1.5h-4.5a.75.75 0 0 1-.75-.75Zm-4 0a.75.75 0 0 1 .75-.75h.5a.75.75 0 0 1 0 1.5h-.5a.75.75 0 0 1-.75-.75Z"></path></svg>
            </div>
            <div data-targets="command-palette-page-stack.localOcticons" data-octicon-id="copy-color-fg-muted">
              <svg height="16" class="octicon octicon-copy color-fg-muted" viewBox="0 0 16 16" version="1.1" width="16" aria-hidden="true"><path d="M0 6.75C0 5.784.784 5 1.75 5h1.5a.75.75 0 0 1 0 1.5h-1.5a.25.25 0 0 0-.25.25v7.5c0 .138.112.25.25.25h7.5a.25.25 0 0 0 .25-.25v-1.5a.75.75 0 0 1 1.5 0v1.5A1.75 1.75 0 0 1 9.25 16h-7.5A1.75 1.75 0 0 1 0 14.25Z"></path><path d="M5 1.75C5 .784 5.784 0 6.75 0h7.5C15.216 0 16 .784 16 1.75v7.5A1.75 1.75 0 0 1 14.25 11h-7.5A1.75 1.75 0 0 1 5 9.25Zm1.75-.25a.25.25 0 0 0-.25.25v7.5c0 .138.112.25.25.25h7.5a.25.25 0 0 0 .25-.25v-7.5a.25.25 0 0 0-.25-.25Z"></path></svg>
            </div>
            <div data-targets="command-palette-page-stack.localOcticons" data-octicon-id="dash-color-fg-muted">
              <svg height="16" class="octicon octicon-dash color-fg-muted" viewBox="0 0 16 16" version="1.1" width="16" aria-hidden="true"><path d="M2 7.75A.75.75 0 0 1 2.75 7h10a.75.75 0 0 1 0 1.5h-10A.75.75 0 0 1 2 7.75Z"></path></svg>
            </div>
            <div data-targets="command-palette-page-stack.localOcticons" data-octicon-id="file-color-fg-muted">
              <svg height="16" class="octicon octicon-file color-fg-muted" viewBox="0 0 16 16" version="1.1" width="16" aria-hidden="true"><path d="M2 1.75C2 .784 2.784 0 3.75 0h6.586c.464 0 .909.184 1.237.513l2.914 2.914c.329.328.513.773.513 1.237v9.586A1.75 1.75 0 0 1 13.25 16h-9.5A1.75 1.75 0 0 1 2 14.25Zm1.75-.25a.25.25 0 0 0-.25.25v12.5c0 .138.112.25.25.25h9.5a.25.25 0 0 0 .25-.25V6h-2.75A1.75 1.75 0 0 1 9 4.25V1.5Zm6.75.062V4.25c0 .138.112.25.25.25h2.688l-.011-.013-2.914-2.914-.013-.011Z"></path></svg>
            </div>
            <div data-targets="command-palette-page-stack.localOcticons" data-octicon-id="gear-color-fg-muted">
              <svg height="16" class="octicon octicon-gear color-fg-muted" viewBox="0 0 16 16" version="1.1" width="16" aria-hidden="true"><path d="M8 0a8.2 8.2 0 0 1 .701.031C9.444.095 9.99.645 10.16 1.29l.288 1.107c.018.066.079.158.212.224.231.114.454.243.668.386.123.082.233.09.299.071l1.103-.303c.644-.176 1.392.021 1.82.63.27.385.506.792.704 1.218.315.675.111 1.422-.364 1.891l-.814.806c-.049.048-.098.147-.088.294.016.257.016.515 0 .772-.01.147.038.246.088.294l.814.806c.475.469.679 1.216.364 1.891a7.977 7.977 0 0 1-.704 1.217c-.428.61-1.176.807-1.82.63l-1.102-.302c-.067-.019-.177-.011-.3.071a5.909 5.909 0 0 1-.668.386c-.133.066-.194.158-.211.224l-.29 1.106c-.168.646-.715 1.196-1.458 1.26a8.006 8.006 0 0 1-1.402 0c-.743-.064-1.289-.614-1.458-1.26l-.289-1.106c-.018-.066-.079-.158-.212-.224a5.738 5.738 0 0 1-.668-.386c-.123-.082-.233-.09-.299-.071l-1.103.303c-.644.176-1.392-.021-1.82-.63a8.12 8.12 0 0 1-.704-1.218c-.315-.675-.111-1.422.363-1.891l.815-.806c.05-.048.098-.147.088-.294a6.214 6.214 0 0 1 0-.772c.01-.147-.038-.246-.088-.294l-.815-.806C.635 6.045.431 5.298.746 4.623a7.92 7.92 0 0 1 .704-1.217c.428-.61 1.176-.807 1.82-.63l1.102.302c.067.019.177.011.3-.071.214-.143.437-.272.668-.386.133-.066.194-.158.211-.224l.29-1.106C6.009.645 6.556.095 7.299.03 7.53.01 7.764 0 8 0Zm-.571 1.525c-.036.003-.108.036-.137.146l-.289 1.105c-.147.561-.549.967-.998 1.189-.173.086-.34.183-.5.29-.417.278-.97.423-1.529.27l-1.103-.303c-.109-.03-.175.016-.195.045-.22.312-.412.644-.573.99-.014.031-.021.11.059.19l.815.806c.411.406.562.957.53 1.456a4.709 4.709 0 0 0 0 .582c.032.499-.119 1.05-.53 1.456l-.815.806c-.081.08-.073.159-.059.19.162.346.353.677.573.989.02.03.085.076.195.046l1.102-.303c.56-.153 1.113-.008 1.53.27.161.107.328.204.501.29.447.222.85.629.997 1.189l.289 1.105c.029.109.101.143.137.146a6.6 6.6 0 0 0 1.142 0c.036-.003.108-.036.137-.146l.289-1.105c.147-.561.549-.967.998-1.189.173-.086.34-.183.5-.29.417-.278.97-.423 1.529-.27l1.103.303c.109.029.175-.016.195-.045.22-.313.411-.644.573-.99.014-.031.021-.11-.059-.19l-.815-.806c-.411-.406-.562-.957-.53-1.456a4.709 4.709 0 0 0 0-.582c-.032-.499.119-1.05.53-1.456l.815-.806c.081-.08.073-.159.059-.19a6.464 6.464 0 0 0-.573-.989c-.02-.03-.085-.076-.195-.046l-1.102.303c-.56.153-1.113.008-1.53-.27a4.44 4.44 0 0 0-.501-.29c-.447-.222-.85-.629-.997-1.189l-.289-1.105c-.029-.11-.101-.143-.137-.146a6.6 6.6 0 0 0-1.142 0ZM11 8a3 3 0 1 1-6 0 3 3 0 0 1 6 0ZM9.5 8a1.5 1.5 0 1 0-3.001.001A1.5 1.5 0 0 0 9.5 8Z"></path></svg>
            </div>
            <div data-targets="command-palette-page-stack.localOcticons" data-octicon-id="lock-color-fg-muted">
              <svg height="16" class="octicon octicon-lock color-fg-muted" viewBox="0 0 16 16" version="1.1" width="16" aria-hidden="true"><path d="M4 4a4 4 0 0 1 8 0v2h.25c.966 0 1.75.784 1.75 1.75v5.5A1.75 1.75 0 0 1 12.25 15h-8.5A1.75 1.75 0 0 1 2 13.25v-5.5C2 6.784 2.784 6 3.75 6H4Zm8.25 3.5h-8.5a.25.25 0 0 0-.25.25v5.5c0 .138.112.25.25.25h8.5a.25.25 0 0 0 .25-.25v-5.5a.25.25 0 0 0-.25-.25ZM10.5 6V4a2.5 2.5 0 1 0-5 0v2Z"></path></svg>
            </div>
            <div data-targets="command-palette-page-stack.localOcticons" data-octicon-id="moon-color-fg-muted">
              <svg height="16" class="octicon octicon-moon color-fg-muted" viewBox="0 0 16 16" version="1.1" width="16" aria-hidden="true"><path d="M9.598 1.591a.749.749 0 0 1 .785-.175 7.001 7.001 0 1 1-8.967 8.967.75.75 0 0 1 .961-.96 5.5 5.5 0 0 0 7.046-7.046.75.75 0 0 1 .175-.786Zm1.616 1.945a7 7 0 0 1-7.678 7.678 5.499 5.499 0 1 0 7.678-7.678Z"></path></svg>
            </div>
            <div data-targets="command-palette-page-stack.localOcticons" data-octicon-id="person-color-fg-muted">
              <svg height="16" class="octicon octicon-person color-fg-muted" viewBox="0 0 16 16" version="1.1" width="16" aria-hidden="true"><path d="M10.561 8.073a6.005 6.005 0 0 1 3.432 5.142.75.75 0 1 1-1.498.07 4.5 4.5 0 0 0-8.99 0 .75.75 0 0 1-1.498-.07 6.004 6.004 0 0 1 3.431-5.142 3.999 3.999 0 1 1 5.123 0ZM10.5 5a2.5 2.5 0 1 0-5 0 2.5 2.5 0 0 0 5 0Z"></path></svg>
            </div>
            <div data-targets="command-palette-page-stack.localOcticons" data-octicon-id="pencil-color-fg-muted">
              <svg height="16" class="octicon octicon-pencil color-fg-muted" viewBox="0 0 16 16" version="1.1" width="16" aria-hidden="true"><path d="M11.013 1.427a1.75 1.75 0 0 1 2.474 0l1.086 1.086a1.75 1.75 0 0 1 0 2.474l-8.61 8.61c-.21.21-.47.364-.756.445l-3.251.93a.75.75 0 0 1-.927-.928l.929-3.25c.081-.286.235-.547.445-.758l8.61-8.61Zm.176 4.823L9.75 4.81l-6.286 6.287a.253.253 0 0 0-.064.108l-.558 1.953 1.953-.558a.253.253 0 0 0 .108-.064Zm1.238-3.763a.25.25 0 0 0-.354 0L10.811 3.75l1.439 1.44 1.263-1.263a.25.25 0 0 0 0-.354Z"></path></svg>
            </div>
            <div data-targets="command-palette-page-stack.localOcticons" data-octicon-id="issue-opened-open">
              <svg height="16" class="octicon octicon-issue-opened open" viewBox="0 0 16 16" version="1.1" width="16" aria-hidden="true"><path d="M8 9.5a1.5 1.5 0 1 0 0-3 1.5 1.5 0 0 0 0 3Z"></path><path d="M8 0a8 8 0 1 1 0 16A8 8 0 0 1 8 0ZM1.5 8a6.5 6.5 0 1 0 13 0 6.5 6.5 0 0 0-13 0Z"></path></svg>
            </div>
            <div data-targets="command-palette-page-stack.localOcticons" data-octicon-id="git-pull-request-draft-color-fg-muted">
              <svg height="16" class="octicon octicon-git-pull-request-draft color-fg-muted" viewBox="0 0 16 16" version="1.1" width="16" aria-hidden="true"><path d="M3.25 1A2.25 2.25 0 0 1 4 5.372v5.256a2.251 2.251 0 1 1-1.5 0V5.372A2.251 2.251 0 0 1 3.25 1Zm9.5 14a2.25 2.25 0 1 1 0-4.5 2.25 2.25 0 0 1 0 4.5ZM2.5 3.25a.75.75 0 1 0 1.5 0 .75.75 0 0 0-1.5 0ZM3.25 12a.75.75 0 1 0 0 1.5.75.75 0 0 0 0-1.5Zm9.5 0a.75.75 0 1 0 0 1.5.75.75 0 0 0 0-1.5ZM14 7.5a1.25 1.25 0 1 1-2.5 0 1.25 1.25 0 0 1 2.5 0Zm0-4.25a1.25 1.25 0 1 1-2.5 0 1.25 1.25 0 0 1 2.5 0Z"></path></svg>
            </div>
            <div data-targets="command-palette-page-stack.localOcticons" data-octicon-id="search-color-fg-muted">
              <svg height="16" class="octicon octicon-search color-fg-muted" viewBox="0 0 16 16" version="1.1" width="16" aria-hidden="true"><path d="M10.68 11.74a6 6 0 0 1-7.922-8.982 6 6 0 0 1 8.982 7.922l3.04 3.04a.749.749 0 0 1-.326 1.275.749.749 0 0 1-.734-.215ZM11.5 7a4.499 4.499 0 1 0-8.997 0A4.499 4.499 0 0 0 11.5 7Z"></path></svg>
            </div>
            <div data-targets="command-palette-page-stack.localOcticons" data-octicon-id="sun-color-fg-muted">
              <svg height="16" class="octicon octicon-sun color-fg-muted" viewBox="0 0 16 16" version="1.1" width="16" aria-hidden="true"><path d="M8 12a4 4 0 1 1 0-8 4 4 0 0 1 0 8Zm0-1.5a2.5 2.5 0 1 0 0-5 2.5 2.5 0 0 0 0 5Zm5.657-8.157a.75.75 0 0 1 0 1.061l-1.061 1.06a.749.749 0 0 1-1.275-.326.749.749 0 0 1 .215-.734l1.06-1.06a.75.75 0 0 1 1.06 0Zm-9.193 9.193a.75.75 0 0 1 0 1.06l-1.06 1.061a.75.75 0 1 1-1.061-1.06l1.06-1.061a.75.75 0 0 1 1.061 0ZM8 0a.75.75 0 0 1 .75.75v1.5a.75.75 0 0 1-1.5 0V.75A.75.75 0 0 1 8 0ZM3 8a.75.75 0 0 1-.75.75H.75a.75.75 0 0 1 0-1.5h1.5A.75.75 0 0 1 3 8Zm13 0a.75.75 0 0 1-.75.75h-1.5a.75.75 0 0 1 0-1.5h1.5A.75.75 0 0 1 16 8Zm-8 5a.75.75 0 0 1 .75.75v1.5a.75.75 0 0 1-1.5 0v-1.5A.75.75 0 0 1 8 13Zm3.536-1.464a.75.75 0 0 1 1.06 0l1.061 1.06a.75.75 0 0 1-1.06 1.061l-1.061-1.06a.75.75 0 0 1 0-1.061ZM2.343 2.343a.75.75 0 0 1 1.061 0l1.06 1.061a.751.751 0 0 1-.018 1.042.751.751 0 0 1-1.042.018l-1.06-1.06a.75.75 0 0 1 0-1.06Z"></path></svg>
            </div>
            <div data-targets="command-palette-page-stack.localOcticons" data-octicon-id="sync-color-fg-muted">
              <svg height="16" class="octicon octicon-sync color-fg-muted" viewBox="0 0 16 16" version="1.1" width="16" aria-hidden="true"><path d="M1.705 8.005a.75.75 0 0 1 .834.656 5.5 5.5 0 0 0 9.592 2.97l-1.204-1.204a.25.25 0 0 1 .177-.427h3.646a.25.25 0 0 1 .25.25v3.646a.25.25 0 0 1-.427.177l-1.38-1.38A7.002 7.002 0 0 1 1.05 8.84a.75.75 0 0 1 .656-.834ZM8 2.5a5.487 5.487 0 0 0-4.131 1.869l1.204 1.204A.25.25 0 0 1 4.896 6H1.25A.25.25 0 0 1 1 5.75V2.104a.25.25 0 0 1 .427-.177l1.38 1.38A7.002 7.002 0 0 1 14.95 7.16a.75.75 0 0 1-1.49.178A5.5 5.5 0 0 0 8 2.5Z"></path></svg>
            </div>
            <div data-targets="command-palette-page-stack.localOcticons" data-octicon-id="trash-color-fg-muted">
              <svg height="16" class="octicon octicon-trash color-fg-muted" viewBox="0 0 16 16" version="1.1" width="16" aria-hidden="true"><path d="M11 1.75V3h2.25a.75.75 0 0 1 0 1.5H2.75a.75.75 0 0 1 0-1.5H5V1.75C5 .784 5.784 0 6.75 0h2.5C10.216 0 11 .784 11 1.75ZM4.496 6.675l.66 6.6a.25.25 0 0 0 .249.225h5.19a.25.25 0 0 0 .249-.225l.66-6.6a.75.75 0 0 1 1.492.149l-.66 6.6A1.748 1.748 0 0 1 10.595 15h-5.19a1.75 1.75 0 0 1-1.741-1.575l-.66-6.6a.75.75 0 1 1 1.492-.15ZM6.5 1.75V3h3V1.75a.25.25 0 0 0-.25-.25h-2.5a.25.25 0 0 0-.25.25Z"></path></svg>
            </div>
            <div data-targets="command-palette-page-stack.localOcticons" data-octicon-id="key-color-fg-muted">
              <svg height="16" class="octicon octicon-key color-fg-muted" viewBox="0 0 16 16" version="1.1" width="16" aria-hidden="true"><path d="M10.5 0a5.499 5.499 0 1 1-1.288 10.848l-.932.932a.749.749 0 0 1-.53.22H7v.75a.749.749 0 0 1-.22.53l-.5.5a.749.749 0 0 1-.53.22H5v.75a.749.749 0 0 1-.22.53l-.5.5a.749.749 0 0 1-.53.22h-2A1.75 1.75 0 0 1 0 14.25v-2c0-.199.079-.389.22-.53l4.932-4.932A5.5 5.5 0 0 1 10.5 0Zm-4 5.5c-.001.431.069.86.205 1.269a.75.75 0 0 1-.181.768L1.5 12.56v1.69c0 .138.112.25.25.25h1.69l.06-.06v-1.19a.75.75 0 0 1 .75-.75h1.19l.06-.06v-1.19a.75.75 0 0 1 .75-.75h1.19l1.023-1.025a.75.75 0 0 1 .768-.18A4 4 0 1 0 6.5 5.5ZM11 6a1 1 0 1 1 0-2 1 1 0 0 1 0 2Z"></path></svg>
            </div>
            <div data-targets="command-palette-page-stack.localOcticons" data-octicon-id="comment-discussion-color-fg-muted">
              <svg height="16" class="octicon octicon-comment-discussion color-fg-muted" viewBox="0 0 16 16" version="1.1" width="16" aria-hidden="true"><path d="M1.75 1h8.5c.966 0 1.75.784 1.75 1.75v5.5A1.75 1.75 0 0 1 10.25 10H7.061l-2.574 2.573A1.458 1.458 0 0 1 2 11.543V10h-.25A1.75 1.75 0 0 1 0 8.25v-5.5C0 1.784.784 1 1.75 1ZM1.5 2.75v5.5c0 .138.112.25.25.25h1a.75.75 0 0 1 .75.75v2.19l2.72-2.72a.749.749 0 0 1 .53-.22h3.5a.25.25 0 0 0 .25-.25v-5.5a.25.25 0 0 0-.25-.25h-8.5a.25.25 0 0 0-.25.25Zm13 2a.25.25 0 0 0-.25-.25h-.5a.75.75 0 0 1 0-1.5h.5c.966 0 1.75.784 1.75 1.75v5.5A1.75 1.75 0 0 1 14.25 12H14v1.543a1.458 1.458 0 0 1-2.487 1.03L9.22 12.28a.749.749 0 0 1 .326-1.275.749.749 0 0 1 .734.215l2.22 2.22v-2.19a.75.75 0 0 1 .75-.75h1a.25.25 0 0 0 .25-.25Z"></path></svg>
            </div>
            <div data-targets="command-palette-page-stack.localOcticons" data-octicon-id="bell-color-fg-muted">
              <svg height="16" class="octicon octicon-bell color-fg-muted" viewBox="0 0 16 16" version="1.1" width="16" aria-hidden="true"><path d="M8 16a2 2 0 0 0 1.985-1.75c.017-.137-.097-.25-.235-.25h-3.5c-.138 0-.252.113-.235.25A2 2 0 0 0 8 16ZM3 5a5 5 0 0 1 10 0v2.947c0 .05.015.098.042.139l1.703 2.555A1.519 1.519 0 0 1 13.482 13H2.518a1.516 1.516 0 0 1-1.263-2.36l1.703-2.554A.255.255 0 0 0 3 7.947Zm5-3.5A3.5 3.5 0 0 0 4.5 5v2.947c0 .346-.102.683-.294.97l-1.703 2.556a.017.017 0 0 0-.003.01l.001.006c0 .002.002.004.004.006l.006.004.007.001h10.964l.007-.001.006-.004.004-.006.001-.007a.017.017 0 0 0-.003-.01l-1.703-2.554a1.745 1.745 0 0 1-.294-.97V5A3.5 3.5 0 0 0 8 1.5Z"></path></svg>
            </div>
            <div data-targets="command-palette-page-stack.localOcticons" data-octicon-id="bell-slash-color-fg-muted">
              <svg height="16" class="octicon octicon-bell-slash color-fg-muted" viewBox="0 0 16 16" version="1.1" width="16" aria-hidden="true"><path d="m4.182 4.31.016.011 10.104 7.316.013.01 1.375.996a.75.75 0 1 1-.88 1.214L13.626 13H2.518a1.516 1.516 0 0 1-1.263-2.36l1.703-2.554A.255.255 0 0 0 3 7.947V5.305L.31 3.357a.75.75 0 1 1 .88-1.214Zm7.373 7.19L4.5 6.391v1.556c0 .346-.102.683-.294.97l-1.703 2.556a.017.017 0 0 0-.003.01c0 .005.002.009.005.012l.006.004.007.001ZM8 1.5c-.997 0-1.895.416-2.534 1.086A.75.75 0 1 1 4.38 1.55 5 5 0 0 1 13 5v2.373a.75.75 0 0 1-1.5 0V5A3.5 3.5 0 0 0 8 1.5ZM8 16a2 2 0 0 1-1.985-1.75c-.017-.137.097-.25.235-.25h3.5c.138 0 .252.113.235.25A2 2 0 0 1 8 16Z"></path></svg>
            </div>
            <div data-targets="command-palette-page-stack.localOcticons" data-octicon-id="paintbrush-color-fg-muted">
              <svg height="16" class="octicon octicon-paintbrush color-fg-muted" viewBox="0 0 16 16" version="1.1" width="16" aria-hidden="true"><path d="M11.134 1.535c.7-.509 1.416-.942 2.076-1.155.649-.21 1.463-.267 2.069.34.603.601.568 1.411.368 2.07-.202.668-.624 1.39-1.125 2.096-1.011 1.424-2.496 2.987-3.775 4.249-1.098 1.084-2.132 1.839-3.04 2.3a3.744 3.744 0 0 1-1.055 3.217c-.431.431-1.065.691-1.657.861-.614.177-1.294.287-1.914.357A21.151 21.151 0 0 1 .797 16H.743l.007-.75H.749L.742 16a.75.75 0 0 1-.743-.742l.743-.008-.742.007v-.054a21.25 21.25 0 0 1 .13-2.284c.067-.647.187-1.287.358-1.914.17-.591.43-1.226.86-1.657a3.746 3.746 0 0 1 3.227-1.054c.466-.893 1.225-1.907 2.314-2.982 1.271-1.255 2.833-2.75 4.245-3.777ZM1.62 13.089c-.051.464-.086.929-.104 1.395.466-.018.932-.053 1.396-.104a10.511 10.511 0 0 0 1.668-.309c.526-.151.856-.325 1.011-.48a2.25 2.25 0 1 0-3.182-3.182c-.155.155-.329.485-.48 1.01a10.515 10.515 0 0 0-.309 1.67Zm10.396-10.34c-1.224.89-2.605 2.189-3.822 3.384l1.718 1.718c1.21-1.205 2.51-2.597 3.387-3.833.47-.662.78-1.227.912-1.662.134-.444.032-.551.009-.575h-.001V1.78c-.014-.014-.113-.113-.548.027-.432.14-.995.462-1.655.942Zm-4.832 7.266-.001.001a9.859 9.859 0 0 0 1.63-1.142L7.155 7.216a9.7 9.7 0 0 0-1.161 1.607c.482.302.889.71 1.19 1.192Z"></path></svg>
            </div>

            <command-palette-item-group
              data-group-id="top"
              data-group-title="Top result"
              data-group-hint=""
              data-group-limits="{}"
              data-default-priority="0"
            >
            </command-palette-item-group>
            <command-palette-item-group
              data-group-id="commands"
              data-group-title="Commands"
              data-group-hint="Type &gt; to filter"
              data-group-limits="{&quot;static_items_page&quot;:50,&quot;issue&quot;:50,&quot;pull_request&quot;:50,&quot;discussion&quot;:50}"
              data-default-priority="1"
            >
            </command-palette-item-group>
            <command-palette-item-group
              data-group-id="global_commands"
              data-group-title="Global Commands"
              data-group-hint="Type &gt; to filter"
              data-group-limits="{&quot;issue&quot;:0,&quot;pull_request&quot;:0,&quot;discussion&quot;:0}"
              data-default-priority="2"
            >
            </command-palette-item-group>
            <command-palette-item-group
              data-group-id="this_page"
              data-group-title="This Page"
              data-group-hint=""
              data-group-limits="{}"
              data-default-priority="3"
            >
            </command-palette-item-group>
            <command-palette-item-group
              data-group-id="files"
              data-group-title="Files"
              data-group-hint=""
              data-group-limits="{}"
              data-default-priority="4"
            >
            </command-palette-item-group>
            <command-palette-item-group
              data-group-id="default"
              data-group-title="Default"
              data-group-hint=""
              data-group-limits="{&quot;static_items_page&quot;:50}"
              data-default-priority="5"
            >
            </command-palette-item-group>
            <command-palette-item-group
              data-group-id="pages"
              data-group-title="Pages"
              data-group-hint=""
              data-group-limits="{&quot;repository&quot;:10}"
              data-default-priority="6"
            >
            </command-palette-item-group>
            <command-palette-item-group
              data-group-id="access_policies"
              data-group-title="Access Policies"
              data-group-hint=""
              data-group-limits="{}"
              data-default-priority="7"
            >
            </command-palette-item-group>
            <command-palette-item-group
              data-group-id="organizations"
              data-group-title="Organizations"
              data-group-hint=""
              data-group-limits="{}"
              data-default-priority="8"
            >
            </command-palette-item-group>
            <command-palette-item-group
              data-group-id="repositories"
              data-group-title="Repositories"
              data-group-hint=""
              data-group-limits="{}"
              data-default-priority="9"
            >
            </command-palette-item-group>
            <command-palette-item-group
              data-group-id="references"
              data-group-title="Issues, pull requests, and discussions"
              data-group-hint="Type # to filter"
              data-group-limits="{}"
              data-default-priority="10"
            >
            </command-palette-item-group>
            <command-palette-item-group
              data-group-id="teams"
              data-group-title="Teams"
              data-group-hint=""
              data-group-limits="{}"
              data-default-priority="11"
            >
            </command-palette-item-group>
            <command-palette-item-group
              data-group-id="users"
              data-group-title="Users"
              data-group-hint=""
              data-group-limits="{}"
              data-default-priority="12"
            >
            </command-palette-item-group>
            <command-palette-item-group
              data-group-id="memex_projects"
              data-group-title="Projects"
              data-group-hint=""
              data-group-limits="{}"
              data-default-priority="13"
            >
            </command-palette-item-group>
            <command-palette-item-group
              data-group-id="projects"
              data-group-title="Projects (classic)"
              data-group-hint=""
              data-group-limits="{}"
              data-default-priority="14"
            >
            </command-palette-item-group>
            <command-palette-item-group
              data-group-id="footer"
              data-group-title="Footer"
              data-group-hint=""
              data-group-limits="{}"
              data-default-priority="15"
            >
            </command-palette-item-group>
            <command-palette-item-group
              data-group-id="modes_help"
              data-group-title="Modes"
              data-group-hint=""
              data-group-limits="{}"
              data-default-priority="16"
            >
            </command-palette-item-group>
            <command-palette-item-group
              data-group-id="filters_help"
              data-group-title="Use filters in issues, pull requests, discussions, and projects"
              data-group-hint=""
              data-group-limits="{}"
              data-default-priority="17"
            >
            </command-palette-item-group>

            <command-palette-page
              data-page-title="Saurabh8734"
              data-scope-id="U_kgDOBiT4pA"
              data-scope-type="owner"
              data-targets="command-palette-page-stack.defaultPages"
              hidden
            >
            </command-palette-page>
            <command-palette-page
              data-page-title="INeuron_FSDS_2.0_Assignment"
              data-scope-id="R_kgDOJr4RBA"
              data-scope-type="repository"
              data-targets="command-palette-page-stack.defaultPages"
              hidden
            >
            </command-palette-page>
        </div>

        <command-palette-page data-is-root>
        </command-palette-page>
          <command-palette-page
            data-page-title="Saurabh8734"
            data-scope-id="U_kgDOBiT4pA"
            data-scope-type="owner"
          >
          </command-palette-page>
          <command-palette-page
            data-page-title="INeuron_FSDS_2.0_Assignment"
            data-scope-id="R_kgDOJr4RBA"
            data-scope-type="repository"
          >
          </command-palette-page>
      </command-palette-page-stack>

      <server-defined-provider data-type="search-links" data-targets="command-palette.serverDefinedProviderElements"></server-defined-provider>
      <server-defined-provider data-type="help" data-targets="command-palette.serverDefinedProviderElements">
          <command-palette-help
            data-group="modes_help"
              data-prefix="#"
              data-scope-types="[&quot;&quot;]"
          >
            <span data-target="command-palette-help.titleElement">Search for <strong>issues</strong> and <strong>pull requests</strong></span>
              <span data-target="command-palette-help.hintElement">
                <kbd class="hx_kbd">#</kbd>
              </span>
          </command-palette-help>
          <command-palette-help
            data-group="modes_help"
              data-prefix="#"
              data-scope-types="[&quot;owner&quot;,&quot;repository&quot;]"
          >
            <span data-target="command-palette-help.titleElement">Search for <strong>issues, pull requests, discussions,</strong> and <strong>projects</strong></span>
              <span data-target="command-palette-help.hintElement">
                <kbd class="hx_kbd">#</kbd>
              </span>
          </command-palette-help>
          <command-palette-help
            data-group="modes_help"
              data-prefix="@"
              data-scope-types="[&quot;&quot;]"
          >
            <span data-target="command-palette-help.titleElement">Search for <strong>organizations, repositories,</strong> and <strong>users</strong></span>
              <span data-target="command-palette-help.hintElement">
                <kbd class="hx_kbd">@</kbd>
              </span>
          </command-palette-help>
          <command-palette-help
            data-group="modes_help"
              data-prefix="!"
              data-scope-types="[&quot;owner&quot;,&quot;repository&quot;]"
          >
            <span data-target="command-palette-help.titleElement">Search for <strong>projects</strong></span>
              <span data-target="command-palette-help.hintElement">
                <kbd class="hx_kbd">!</kbd>
              </span>
          </command-palette-help>
          <command-palette-help
            data-group="modes_help"
              data-prefix="/"
              data-scope-types="[&quot;repository&quot;]"
          >
            <span data-target="command-palette-help.titleElement">Search for <strong>files</strong></span>
              <span data-target="command-palette-help.hintElement">
                <kbd class="hx_kbd">/</kbd>
              </span>
          </command-palette-help>
          <command-palette-help
            data-group="modes_help"
              data-prefix="&gt;"
          >
            <span data-target="command-palette-help.titleElement">Activate <strong>command mode</strong></span>
              <span data-target="command-palette-help.hintElement">
                <kbd class="hx_kbd">&gt;</kbd>
              </span>
          </command-palette-help>
          <command-palette-help
            data-group="filters_help"
              data-prefix="# author:@me"
          >
            <span data-target="command-palette-help.titleElement">Search your issues, pull requests, and discussions</span>
              <span data-target="command-palette-help.hintElement">
                <kbd class="hx_kbd"># author:@me</kbd>
              </span>
          </command-palette-help>
          <command-palette-help
            data-group="filters_help"
              data-prefix="# author:@me"
          >
            <span data-target="command-palette-help.titleElement">Search your issues, pull requests, and discussions</span>
              <span data-target="command-palette-help.hintElement">
                <kbd class="hx_kbd"># author:@me</kbd>
              </span>
          </command-palette-help>
          <command-palette-help
            data-group="filters_help"
              data-prefix="# is:pr"
          >
            <span data-target="command-palette-help.titleElement">Filter to pull requests</span>
              <span data-target="command-palette-help.hintElement">
                <kbd class="hx_kbd"># is:pr</kbd>
              </span>
          </command-palette-help>
          <command-palette-help
            data-group="filters_help"
              data-prefix="# is:issue"
          >
            <span data-target="command-palette-help.titleElement">Filter to issues</span>
              <span data-target="command-palette-help.hintElement">
                <kbd class="hx_kbd"># is:issue</kbd>
              </span>
          </command-palette-help>
          <command-palette-help
            data-group="filters_help"
              data-prefix="# is:discussion"
              data-scope-types="[&quot;owner&quot;,&quot;repository&quot;]"
          >
            <span data-target="command-palette-help.titleElement">Filter to discussions</span>
              <span data-target="command-palette-help.hintElement">
                <kbd class="hx_kbd"># is:discussion</kbd>
              </span>
          </command-palette-help>
          <command-palette-help
            data-group="filters_help"
              data-prefix="# is:project"
              data-scope-types="[&quot;owner&quot;,&quot;repository&quot;]"
          >
            <span data-target="command-palette-help.titleElement">Filter to projects</span>
              <span data-target="command-palette-help.hintElement">
                <kbd class="hx_kbd"># is:project</kbd>
              </span>
          </command-palette-help>
          <command-palette-help
            data-group="filters_help"
              data-prefix="# is:open"
          >
            <span data-target="command-palette-help.titleElement">Filter to open issues, pull requests, and discussions</span>
              <span data-target="command-palette-help.hintElement">
                <kbd class="hx_kbd"># is:open</kbd>
              </span>
          </command-palette-help>
      </server-defined-provider>

        <server-defined-provider
          data-type="commands"
          data-fetch-debounce="0"
            data-src="/command_palette/commands"
          data-supported-modes="[]"
            data-supports-commands
          
          data-targets="command-palette.serverDefinedProviderElements"
          ></server-defined-provider>
        <server-defined-provider
          data-type="prefetched"
          data-fetch-debounce="0"
            data-src="/command_palette/jump_to_page_navigation"
          data-supported-modes="[&quot;&quot;]"
            data-supported-scope-types="[&quot;&quot;,&quot;owner&quot;,&quot;repository&quot;]"
          
          data-targets="command-palette.serverDefinedProviderElements"
          ></server-defined-provider>
        <server-defined-provider
          data-type="remote"
          data-fetch-debounce="200"
            data-src="/command_palette/issues"
          data-supported-modes="[&quot;#&quot;,&quot;#&quot;]"
            data-supported-scope-types="[&quot;owner&quot;,&quot;repository&quot;,&quot;&quot;]"
          
          data-targets="command-palette.serverDefinedProviderElements"
          ></server-defined-provider>
        <server-defined-provider
          data-type="remote"
          data-fetch-debounce="200"
            data-src="/command_palette/jump_to"
          data-supported-modes="[&quot;@&quot;,&quot;@&quot;]"
            data-supported-scope-types="[&quot;&quot;,&quot;owner&quot;]"
          
          data-targets="command-palette.serverDefinedProviderElements"
          ></server-defined-provider>
        <server-defined-provider
          data-type="remote"
          data-fetch-debounce="200"
            data-src="/command_palette/jump_to_members_only"
          data-supported-modes="[&quot;@&quot;,&quot;@&quot;,&quot;&quot;,&quot;&quot;]"
            data-supported-scope-types="[&quot;&quot;,&quot;owner&quot;]"
          
          data-targets="command-palette.serverDefinedProviderElements"
          ></server-defined-provider>
        <server-defined-provider
          data-type="prefetched"
          data-fetch-debounce="0"
            data-src="/command_palette/jump_to_members_only_prefetched"
          data-supported-modes="[&quot;@&quot;,&quot;@&quot;,&quot;&quot;,&quot;&quot;]"
            data-supported-scope-types="[&quot;&quot;,&quot;owner&quot;]"
          
          data-targets="command-palette.serverDefinedProviderElements"
          ></server-defined-provider>
        <server-defined-provider
          data-type="files"
          data-fetch-debounce="0"
            data-src="/command_palette/files"
          data-supported-modes="[&quot;/&quot;]"
            data-supported-scope-types="[&quot;repository&quot;]"
          
          data-targets="command-palette.serverDefinedProviderElements"
          ></server-defined-provider>
        <server-defined-provider
          data-type="remote"
          data-fetch-debounce="200"
            data-src="/command_palette/discussions"
          data-supported-modes="[&quot;#&quot;]"
            data-supported-scope-types="[&quot;owner&quot;,&quot;repository&quot;]"
          
          data-targets="command-palette.serverDefinedProviderElements"
          ></server-defined-provider>
        <server-defined-provider
          data-type="remote"
          data-fetch-debounce="200"
            data-src="/command_palette/projects"
          data-supported-modes="[&quot;#&quot;,&quot;!&quot;]"
            data-supported-scope-types="[&quot;owner&quot;,&quot;repository&quot;]"
          
          data-targets="command-palette.serverDefinedProviderElements"
          ></server-defined-provider>
        <server-defined-provider
          data-type="prefetched"
          data-fetch-debounce="0"
            data-src="/command_palette/recent_issues"
          data-supported-modes="[&quot;#&quot;,&quot;#&quot;]"
            data-supported-scope-types="[&quot;owner&quot;,&quot;repository&quot;,&quot;&quot;]"
          
          data-targets="command-palette.serverDefinedProviderElements"
          ></server-defined-provider>
        <server-defined-provider
          data-type="remote"
          data-fetch-debounce="200"
            data-src="/command_palette/teams"
          data-supported-modes="[&quot;@&quot;,&quot;&quot;]"
            data-supported-scope-types="[&quot;owner&quot;]"
          
          data-targets="command-palette.serverDefinedProviderElements"
          ></server-defined-provider>
        <server-defined-provider
          data-type="remote"
          data-fetch-debounce="200"
            data-src="/command_palette/name_with_owner_repository"
          data-supported-modes="[&quot;@&quot;,&quot;@&quot;,&quot;&quot;,&quot;&quot;]"
            data-supported-scope-types="[&quot;&quot;,&quot;owner&quot;]"
          
          data-targets="command-palette.serverDefinedProviderElements"
          ></server-defined-provider>
    </command-palette>
  </details-dialog>
</details>

<div class="position-fixed bottom-0 left-0 ml-5 mb-5 js-command-palette-toasts" style="z-index: 1000">
  <div hidden class="Toast Toast--loading">
    <span class="Toast-icon">
      <svg class="Toast--spinner" viewBox="0 0 32 32" width="18" height="18" aria-hidden="true">
        <path
          fill="#959da5"
          d="M16 0 A16 16 0 0 0 16 32 A16 16 0 0 0 16 0 M16 4 A12 12 0 0 1 16 28 A12 12 0 0 1 16 4"
        />
        <path fill="#ffffff" d="M16 0 A16 16 0 0 1 32 16 L28 16 A12 12 0 0 0 16 4z"></path>
      </svg>
    </span>
    <span class="Toast-content"></span>
  </div>

  <div hidden class="anim-fade-in fast Toast Toast--error">
    <span class="Toast-icon">
      <svg aria-hidden="true" height="16" viewBox="0 0 16 16" version="1.1" width="16" data-view-component="true" class="octicon octicon-stop">
    <path d="M4.47.22A.749.749 0 0 1 5 0h6c.199 0 .389.079.53.22l4.25 4.25c.141.14.22.331.22.53v6a.749.749 0 0 1-.22.53l-4.25 4.25A.749.749 0 0 1 11 16H5a.749.749 0 0 1-.53-.22L.22 11.53A.749.749 0 0 1 0 11V5c0-.199.079-.389.22-.53Zm.84 1.28L1.5 5.31v5.38l3.81 3.81h5.38l3.81-3.81V5.31L10.69 1.5ZM8 4a.75.75 0 0 1 .75.75v3.5a.75.75 0 0 1-1.5 0v-3.5A.75.75 0 0 1 8 4Zm0 8a1 1 0 1 1 0-2 1 1 0 0 1 0 2Z"></path>
</svg>
    </span>
    <span class="Toast-content"></span>
  </div>

  <div hidden class="anim-fade-in fast Toast Toast--warning">
    <span class="Toast-icon">
      <svg aria-hidden="true" height="16" viewBox="0 0 16 16" version="1.1" width="16" data-view-component="true" class="octicon octicon-alert">
    <path d="M6.457 1.047c.659-1.234 2.427-1.234 3.086 0l6.082 11.378A1.75 1.75 0 0 1 14.082 15H1.918a1.75 1.75 0 0 1-1.543-2.575Zm1.763.707a.25.25 0 0 0-.44 0L1.698 13.132a.25.25 0 0 0 .22.368h12.164a.25.25 0 0 0 .22-.368Zm.53 3.996v2.5a.75.75 0 0 1-1.5 0v-2.5a.75.75 0 0 1 1.5 0ZM9 11a1 1 0 1 1-2 0 1 1 0 0 1 2 0Z"></path>
</svg>
    </span>
    <span class="Toast-content"></span>
  </div>


  <div hidden class="anim-fade-in fast Toast Toast--success">
    <span class="Toast-icon">
      <svg aria-hidden="true" height="16" viewBox="0 0 16 16" version="1.1" width="16" data-view-component="true" class="octicon octicon-check">
    <path d="M13.78 4.22a.75.75 0 0 1 0 1.06l-7.25 7.25a.75.75 0 0 1-1.06 0L2.22 9.28a.751.751 0 0 1 .018-1.042.751.751 0 0 1 1.042-.018L6 10.94l6.72-6.72a.75.75 0 0 1 1.06 0Z"></path>
</svg>
    </span>
    <span class="Toast-content"></span>
  </div>

  <div hidden class="anim-fade-in fast Toast">
    <span class="Toast-icon">
      <svg aria-hidden="true" height="16" viewBox="0 0 16 16" version="1.1" width="16" data-view-component="true" class="octicon octicon-info">
    <path d="M0 8a8 8 0 1 1 16 0A8 8 0 0 1 0 8Zm8-6.5a6.5 6.5 0 1 0 0 13 6.5 6.5 0 0 0 0-13ZM6.5 7.75A.75.75 0 0 1 7.25 7h1a.75.75 0 0 1 .75.75v2.75h.25a.75.75 0 0 1 0 1.5h-2a.75.75 0 0 1 0-1.5h.25v-2h-.25a.75.75 0 0 1-.75-.75ZM8 6a1 1 0 1 1 0-2 1 1 0 0 1 0 2Z"></path>
</svg>
    </span>
    <span class="Toast-content"></span>
  </div>
</div>


  <div
    class="application-main "
    data-commit-hovercards-enabled
    data-discussion-hovercards-enabled
    data-issue-and-pr-hovercards-enabled
  >
        <div itemscope itemtype="http://schema.org/SoftwareSourceCode" class="">
    <main id="js-repo-pjax-container" >
      
      






    
  <div id="repository-container-header" data-turbo-replace hidden></div>




<turbo-frame id="repo-content-turbo-frame" target="_top" data-turbo-action="advance" class="">
    <div id="repo-content-pjax-container" class="repository-content " >
      <a href="https://github.dev/" class="d-none js-github-dev-shortcut" data-hotkey=".,Meta+Shift+/">Open in github.dev</a>
  <a href="https://github.dev/" class="d-none js-github-dev-new-tab-shortcut" data-hotkey="Shift+.,Shift+&gt;,&gt;" target="_blank" rel="noopener noreferrer">Open in a new github.dev tab</a>
    <a class="d-none" data-hotkey=",,Meta+Shift+&#39;" target="_blank" href="/codespaces/new/Saurabh8734/INeuron_FSDS_2.0_Assignment/tree/main?resume=1">Open in codespace</a>



    
      
    





<react-app
  app-name="react-code-view"
  initial-path="/Saurabh8734/INeuron_FSDS_2.0_Assignment/blob/main/PPt%20program/PPT14.ipynb"
  style="min-height: calc(100vh - 62px)"
  data-ssr="false"
  data-lazy="false"
  data-alternate="false"
>
  
  <script type="application/json" data-target="react-app.embeddedData">{"payload":{"allShortcutsEnabled":true,"fileTree":{"PPt program":{"items":[{"name":"Assignment_Questions_22_.ipynb","path":"PPt program/Assignment_Questions_22_.ipynb","contentType":"file"},{"name":"Assignment_Questions_23_.ipynb","path":"PPt program/Assignment_Questions_23_.ipynb","contentType":"file"},{"name":"PPT1.ipynb","path":"PPt program/PPT1.ipynb","contentType":"file"},{"name":"PPT10.ipynb","path":"PPt program/PPT10.ipynb","contentType":"file"},{"name":"PPT11.ipynb","path":"PPt program/PPT11.ipynb","contentType":"file"},{"name":"PPT12.ipynb","path":"PPt program/PPT12.ipynb","contentType":"file"},{"name":"PPT13.ipynb","path":"PPt program/PPT13.ipynb","contentType":"file"},{"name":"PPT14.ipynb","path":"PPt program/PPT14.ipynb","contentType":"file"},{"name":"PPT15.ipynb","path":"PPt program/PPT15.ipynb","contentType":"file"},{"name":"PPT16.ipynb","path":"PPt program/PPT16.ipynb","contentType":"file"},{"name":"PPT17.ipynb","path":"PPt program/PPT17.ipynb","contentType":"file"},{"name":"PPT18.ipynb","path":"PPt program/PPT18.ipynb","contentType":"file"},{"name":"PPT19.ipynb","path":"PPt program/PPT19.ipynb","contentType":"file"},{"name":"PPT2.ipynb","path":"PPt program/PPT2.ipynb","contentType":"file"},{"name":"PPT20.ipynb","path":"PPt program/PPT20.ipynb","contentType":"file"},{"name":"PPT3.ipynb","path":"PPt program/PPT3.ipynb","contentType":"file"},{"name":"PPT4.ipynb","path":"PPt program/PPT4.ipynb","contentType":"file"},{"name":"PPT5.ipynb","path":"PPt program/PPT5.ipynb","contentType":"file"},{"name":"PPT6.ipynb","path":"PPt program/PPT6.ipynb","contentType":"file"},{"name":"PPT7.ipynb","path":"PPt program/PPT7.ipynb","contentType":"file"},{"name":"PPT8.ipynb","path":"PPt program/PPT8.ipynb","contentType":"file"},{"name":"PPT9.ipynb","path":"PPt program/PPT9.ipynb","contentType":"file"},{"name":"abc.txt","path":"PPt program/abc.txt","contentType":"file"}],"totalCount":23},"":{"items":[{"name":"PPt program","path":"PPt program","contentType":"directory"},{"name":"Python Advance assignment","path":"Python Advance assignment","contentType":"directory"},{"name":"Python Basic Assignment","path":"Python Basic Assignment","contentType":"directory"},{"name":"Python Programming Assignments","path":"Python Programming Assignments","contentType":"directory"},{"name":"placement program assignment","path":"placement program assignment","contentType":"directory"},{"name":"README.md","path":"README.md","contentType":"file"}],"totalCount":6}},"fileTreeProcessingTime":5.458831,"foldersToFetch":[],"reducedMotionEnabled":"system","repo":{"id":649990404,"defaultBranch":"main","name":"INeuron_FSDS_2.0_Assignment","ownerLogin":"Saurabh8734","currentUserCanPush":false,"isFork":false,"isEmpty":false,"createdAt":"2023-06-06T10:36:40.000+05:30","ownerAvatar":"https://avatars.githubusercontent.com/u/103086244?v=4","public":true,"private":false,"isOrgOwned":false},"refInfo":{"name":"main","listCacheKey":"v0:1690537990.0","canEdit":true,"refType":"branch","currentOid":"8fc3fc1bc9419cc386d4656f6ed7effcc115e6ab"},"path":"PPt program/PPT14.ipynb","currentUser":{"id":102730587,"login":"Wagh-09","userEmail":"kirtiwagh09@gmail.com"},"blob":{"rawLines":["{","  \"nbformat\": 4,","  \"nbformat_minor\": 0,","  \"metadata\": {","    \"colab\": {","      \"provenance\": []","    },","    \"kernelspec\": {","      \"name\": \"python3\",","      \"display_name\": \"Python 3\"","    },","    \"language_info\": {","      \"name\": \"python\"","    }","  },","  \"cells\": [","    {","      \"cell_type\": \"markdown\",","      \"source\": [","        \"\u003caside\u003e\\n\",","        \"💡 **Question 1**\\n\",","        \"\\n\",","        \"Given a linked list of **N** nodes such that it may contain a loop.\\n\",","        \"\\n\",","        \"A loop here means that the last node of the link list is connected to the node at position X(1-based index). If the link list does not have any loop, X=0.\\n\",","        \"\\n\",","        \"Remove the loop from the linked list, if it is present, i.e. unlink the last node which is forming the loop.\\n\",","        \"\\n\",","        \"\u003c/aside\u003e\"","      ],","      \"metadata\": {","        \"id\": \"-ZucVxCq5ZVz\"","      }","    },","    {","      \"cell_type\": \"code\",","      \"source\": [","        \"class Node:\\n\",","        \"    def __init__(self, data):\\n\",","        \"        self.data = data\\n\",","        \"        self.next = None\\n\",","        \"\\n\",","        \"def remove_loop(head):\\n\",","        \"    if head is None or head.next is None:\\n\",","        \"        return head\\n\",","        \"\\n\",","        \"    slow_ptr = head\\n\",","        \"    fast_ptr = head\\n\",","        \"\\n\",","        \"    # Check if there is a loop\\n\",","        \"    while fast_ptr and fast_ptr.next:\\n\",","        \"        slow_ptr = slow_ptr.next\\n\",","        \"        fast_ptr = fast_ptr.next.next\\n\",","        \"        if slow_ptr == fast_ptr:\\n\",","        \"            break\\n\",","        \"\\n\",","        \"    # If no loop is present, return the head\\n\",","        \"    if slow_ptr != fast_ptr:\\n\",","        \"        return head\\n\",","        \"\\n\",","        \"    # Move slow_ptr to the head and find the start of the loop\\n\",","        \"    slow_ptr = head\\n\",","        \"    while slow_ptr.next != fast_ptr.next:\\n\",","        \"        slow_ptr = slow_ptr.next\\n\",","        \"        fast_ptr = fast_ptr.next\\n\",","        \"\\n\",","        \"    # Remove the loop by setting the next pointer of the previous node to None\\n\",","        \"    fast_ptr.next = None\\n\",","        \"\\n\",","        \"    return head\"","      ],","      \"metadata\": {","        \"id\": \"sabJBlpo5ZKC\"","      },","      \"execution_count\": 17,","      \"outputs\": []","    },","    {","      \"cell_type\": \"markdown\",","      \"source\": [","        \" **Question 2**\\n\",","        \"\\n\",","        \"A number **N** is represented in Linked List such that each digit corresponds to a node in linked list. You need to add 1 to it.\"","      ],","      \"metadata\": {","        \"id\": \"1921-x195Y6i\"","      }","    },","    {","      \"cell_type\": \"code\",","      \"source\": [","        \"class Node:\\n\",","        \"    def __init__(self, data):\\n\",","        \"        self.data = data\\n\",","        \"        self.next = None\\n\",","        \"\\n\",","        \"def reverse_linked_list(head):\\n\",","        \"    prev = None\\n\",","        \"    current = head\\n\",","        \"\\n\",","        \"    while current is not None:\\n\",","        \"        next_node = current.next\\n\",","        \"        current.next = prev\\n\",","        \"        prev = current\\n\",","        \"        current = next_node\\n\",","        \"\\n\",","        \"    return prev\\n\",","        \"\\n\",","        \"def add_one(head):\\n\",","        \"    # Reverse the linked list\\n\",","        \"    head = reverse_linked_list(head)\\n\",","        \"\\n\",","        \"    # Initialize carry\\n\",","        \"    carry = 1\\n\",","        \"\\n\",","        \"    current = head\\n\",","        \"\\n\",","        \"    while current is not None:\\n\",","        \"        # Add carry to the current node's data\\n\",","        \"        current.data += carry\\n\",","        \"\\n\",","        \"        # Update carry\\n\",","        \"        carry = current.data // 10\\n\",","        \"\\n\",","        \"        # Update current node's data\\n\",","        \"        current.data %= 10\\n\",","        \"\\n\",","        \"        # Move to the next node\\n\",","        \"        current = current.next\\n\",","        \"\\n\",","        \"    # If there is still a carry, append a new node to the end of the list\\n\",","        \"    if carry \u003e 0:\\n\",","        \"        new_node = Node(carry)\\n\",","        \"        current.next = new_node\\n\",","        \"\\n\",","        \"    # Reverse the linked list again\\n\",","        \"    head = reverse_linked_list(head)\\n\",","        \"\\n\",","        \"    return head\\n\"","      ],","      \"metadata\": {","        \"id\": \"V6eFBqfc5Yz5\"","      },","      \"execution_count\": 18,","      \"outputs\": []","    },","    {","      \"cell_type\": \"markdown\",","      \"source\": [","        \"💡 **Question 3**\\n\",","        \"\\n\",","        \"Given a Linked List of size N, where every node represents a sub-linked-list and contains two pointers:(i) a **next** pointer to the next node,(ii) a **bottom** pointer to a linked list where this node is head.Each of the sub-linked-list is in sorted order.Flatten the Link List such that all the nodes appear in a single level while maintaining the sorted order. **Note:** The flattened list will be printed using the bottom pointer instead of next pointer.\"","      ],","      \"metadata\": {","        \"id\": \"CGkf_jII5Yrh\"","      }","    },","    {","      \"cell_type\": \"code\",","      \"source\": [","        \"class Node:\\n\",","        \"    def __init__(self, data):\\n\",","        \"        self.data = data\\n\",","        \"        self.next = None\\n\",","        \"        self.bottom = None\\n\",","        \"\\n\",","        \"def merge(a, b):\\n\",","        \"    # If one of the linked lists is None, return the other list\\n\",","        \"    if a is None:\\n\",","        \"        return b\\n\",","        \"    if b is None:\\n\",","        \"        return a\\n\",","        \"\\n\",","        \"    # Create a dummy node to store the merged list\\n\",","        \"    dummy = Node(0)\\n\",","        \"\\n\",","        \"    # Set the current pointer to the dummy node\\n\",","        \"    current = dummy\\n\",","        \"\\n\",","        \"    # Merge the lists in sorted order\\n\",","        \"    while a and b:\\n\",","        \"        if a.data \u003c b.data:\\n\",","        \"            current.bottom = a\\n\",","        \"            a = a.bottom\\n\",","        \"        else:\\n\",","        \"            current.bottom = b\\n\",","        \"            b = b.bottom\\n\",","        \"        current = current.bottom\\n\",","        \"\\n\",","        \"    # Attach the remaining nodes of the non-empty list\\n\",","        \"    if a:\\n\",","        \"        current.bottom = a\\n\",","        \"    else:\\n\",","        \"        current.bottom = b\\n\",","        \"\\n\",","        \"    return dummy.bottom\\n\",","        \"\\n\",","        \"def flatten(head):\\n\",","        \"    # Base case: if the head is None or next pointer is None, return the head\\n\",","        \"    if head is None or head.next is None:\\n\",","        \"        return head\\n\",","        \"\\n\",","        \"    # Recursively flatten the remaining linked list after the current node\\n\",","        \"    head.next = flatten(head.next)\\n\",","        \"\\n\",","        \"    # Merge the flattened sub-linked list with the current node's bottom linked list\\n\",","        \"    head = merge(head, head.next)\\n\",","        \"\\n\",","        \"    return head\"","      ],","      \"metadata\": {","        \"id\": \"aXGSC0oZ5YiS\"","      },","      \"execution_count\": 19,","      \"outputs\": []","    },","    {","      \"cell_type\": \"markdown\",","      \"source\": [","        \"\u003caside\u003e\\n\",","        \"💡 **Question 4**\\n\",","        \"\\n\",","        \"You are given a special linked list with **N** nodes where each node has a next pointer pointing to its next node. You are also given **M** random pointers, where you will be given **M** number of pairs denoting two nodes **a** and **b**  **i.e. a-\u003earb = b** (arb is pointer to random node)**.**\\n\",","        \"\\n\",","        \"Construct a copy of the given list. The copy should consist of exactly **N** new nodes, where each new node has its value set to the value of its corresponding original node. Both the next and random pointer of the new nodes should point to new nodes in the copied list such that the pointers in the original list and copied list represent the same list state. None of the pointers in the new list should point to nodes in the original list.\\n\",","        \"\\n\",","        \"For example, if there are two nodes **X** and **Y** in the original list, where **X.arb** **--\u003e** **Y**, then for the corresponding two nodes **x** and **y** in the copied list, **x.arb --\u003e y.**\\n\",","        \"\\n\",","        \"Return the head of the copied linked list.\\n\",","        \"\\n\",","        \"\u003c/aside\u003e\"","      ],","      \"metadata\": {","        \"id\": \"j2wFB5l-5Yaw\"","      }","    },","    {","      \"cell_type\": \"markdown\",","      \"source\": [","        \"![clone.jpg](data:image/jpeg;base64,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)\"","      ],","      \"metadata\": {","        \"id\": \"4DGRS_zq5lyw\"","      }","    },","    {","      \"cell_type\": \"code\",","      \"source\": [","        \"class Node:\\n\",","        \"    def __init__(self, val):\\n\",","        \"        self.val = val\\n\",","        \"        self.next = None\\n\",","        \"        self.random = None\\n\",","        \"\\n\",","        \"def copyRandomList(head):\\n\",","        \"    if head is None:\\n\",","        \"        return None\\n\",","        \"\\n\",","        \"    node_map = {}\\n\",","        \"\\n\",","        \"    # Create a copy of each node and store it in the node_map\\n\",","        \"    current = head\\n\",","        \"    while current:\\n\",","        \"        node_map[current] = Node(current.val)\\n\",","        \"        current = current.next\\n\",","        \"\\n\",","        \"    # Set the next and random pointers of the copied nodes\\n\",","        \"    current = head\\n\",","        \"    while current:\\n\",","        \"        copied_node = node_map[current]\\n\",","        \"        copied_node.next = node_map.get(current.next)\\n\",","        \"        copied_node.random = node_map.get(current.random)\\n\",","        \"        current = current.next\\n\",","        \"\\n\",","        \"    return node_map[head]\\n\"","      ],","      \"metadata\": {","        \"id\": \"sl_G4OdF5YOw\"","      },","      \"execution_count\": 20,","      \"outputs\": []","    },","    {","      \"cell_type\": \"markdown\",","      \"source\": [","        \"💡 **Question 5**\\n\",","        \"\\n\",","        \"Given the `head` of a singly linked list, group all the nodes with odd indices together followed by the nodes with even indices, and return *the reordered list*.\\n\",","        \"\\n\",","        \"The **first** node is considered **odd**, and the **second** node is **even**, and so on.\\n\",","        \"\\n\",","        \"Note that the relative order inside both the even and odd groups should remain as it was in the input.\\n\",","        \"\\n\",","        \"You must solve the problem in `O(1)` extra space complexity and `O(n)` time complexity.\\n\"","      ],","      \"metadata\": {","        \"id\": \"s9xXwH0I5YEx\"","      }","    },","    {","      \"cell_type\": \"code\",","      \"source\": [","        \"class ListNode:\\n\",","        \"    def __init__(self, val=0, next=None):\\n\",","        \"        self.val = val\\n\",","        \"        self.next = next\\n\",","        \"\\n\",","        \"def oddEvenList(head):\\n\",","        \"    if head is None or head.next is None:\\n\",","        \"        return head\\n\",","        \"\\n\",","        \"    odd_head = head\\n\",","        \"    even_head = head.next\\n\",","        \"    even_start = even_head\\n\",","        \"\\n\",","        \"    node = even_head.next\\n\",","        \"    index = 3\\n\",","        \"\\n\",","        \"    while node is not None:\\n\",","        \"        if index % 2 == 1:\\n\",","        \"            odd_head.next = node\\n\",","        \"            odd_head = odd_head.next\\n\",","        \"        else:\\n\",","        \"            even_head.next = node\\n\",","        \"            even_head = even_head.next\\n\",","        \"\\n\",","        \"        node = node.next\\n\",","        \"        index += 1\\n\",","        \"\\n\",","        \"    odd_head.next = even_start\\n\",","        \"    if even_head is not None:\\n\",","        \"        even_head.next = None\\n\",","        \"\\n\",","        \"    return head\\n\"","      ],","      \"metadata\": {","        \"id\": \"HBnJjBh15X4w\"","      },","      \"execution_count\": 21,","      \"outputs\": []","    },","    {","      \"cell_type\": \"markdown\",","      \"source\": [","        \"💡 **Question 6**\\n\",","        \"\\n\",","        \"Given a singly linked list of size **N**. The task is to **left-shift** the linked list by **k** nodes, where **k** is a given positive integer smaller than or equal to length of the linked list.\"","      ],","      \"metadata\": {","        \"id\": \"OS-OPGGK5Xro\"","      }","    },","    {","      \"cell_type\": \"code\",","      \"source\": [","        \"class ListNode:\\n\",","        \"    def __init__(self, val=0, next=None):\\n\",","        \"        self.val = val\\n\",","        \"        self.next = next\\n\",","        \"\\n\",","        \"def leftShiftLinkedList(head, k):\\n\",","        \"    if head is None or k \u003c= 0:\\n\",","        \"        return head\\n\",","        \"\\n\",","        \"    length = 0\\n\",","        \"    node = head\\n\",","        \"    while node.next is not None:\\n\",","        \"        node = node.next\\n\",","        \"        length += 1\\n\",","        \"\\n\",","        \"    k %= length + 1  # Handle cases where k is greater than the length of the list\\n\",","        \"\\n\",","        \"    if k == 0:\\n\",","        \"        return head\\n\",","        \"\\n\",","        \"    slow = head\\n\",","        \"    fast = head\\n\",","        \"    for _ in range(k):\\n\",","        \"        fast = fast.next\\n\",","        \"\\n\",","        \"    while fast.next is not None:\\n\",","        \"        slow = slow.next\\n\",","        \"        fast = fast.next\\n\",","        \"\\n\",","        \"    new_head = slow.next\\n\",","        \"    slow.next = None\\n\",","        \"    node.next = head\\n\",","        \"\\n\",","        \"    return new_head\\n\"","      ],","      \"metadata\": {","        \"id\": \"SGwaggZW5XfU\"","      },","      \"execution_count\": 22,","      \"outputs\": []","    },","    {","      \"cell_type\": \"markdown\",","      \"source\": [","        \"💡 **Question 7**\\n\",","        \"\\n\",","        \"You are given the `head` of a linked list with `n` nodes.\\n\",","        \"\\n\",","        \"For each node in the list, find the value of the **next greater node**. That is, for each node, find the value of the first node that is next to it and has a **strictly larger** value than it.\\n\",","        \"\\n\",","        \"Return an integer array `answer` where `answer[i]` is the value of the next greater node of the `ith` node (**1-indexed**). If the `ith` node does not have a next greater node, set `answer[i] = 0`.\"","      ],","      \"metadata\": {","        \"id\": \"qi8Np7QJ62nJ\"","      }","    },","    {","      \"cell_type\": \"code\",","      \"source\": [","        \"class ListNode:\\n\",","        \"    def __init__(self, val=0, next=None):\\n\",","        \"        self.val = val\\n\",","        \"        self.next = next\\n\",","        \"\\n\",","        \"def nextGreaterNodes(head):\\n\",","        \"    # Convert linked list to a list\\n\",","        \"    values = []\\n\",","        \"    node = head\\n\",","        \"    while node:\\n\",","        \"        values.append(node.val)\\n\",","        \"        node = node.next\\n\",","        \"\\n\",","        \"    stack = []  # Stack to store indices of values\\n\",","        \"    result = [0] * len(values)  # Initialize result array with zeros\\n\",","        \"\\n\",","        \"    for i in range(len(values)):\\n\",","        \"        # Process values in descending order\\n\",","        \"        while stack and values[i] \u003e values[stack[-1]]:\\n\",","        \"            result[stack.pop()] = values[i]\\n\",","        \"        stack.append(i)\\n\",","        \"\\n\",","        \"    return result\"","      ],","      \"metadata\": {","        \"id\": \"CKkLU9jy61rr\"","      },","      \"execution_count\": 23,","      \"outputs\": []","    },","    {","      \"cell_type\": \"markdown\",","      \"source\": [","        \"\u003caside\u003e\\n\",","        \"💡 **Question 8**\\n\",","        \"\\n\",","        \"Given the `head` of a linked list, we repeatedly delete consecutive sequences of nodes that sum to `0` until there are no such sequences.\\n\",","        \"\\n\",","        \"After doing so, return the head of the final linked list.  You may return any such answer.\\n\",","        \"\\n\",","        \"(Note that in the examples below, all sequences are serializations of `ListNode` objects.)\\n\",","        \"\\n\",","        \"\u003c/aside\u003e\"","      ],","      \"metadata\": {","        \"id\": \"z9V-quOV7DHn\"","      }","    },","    {","      \"cell_type\": \"code\",","      \"source\": [","        \"class ListNode:\\n\",","        \"    def __init__(self, val=0, next=None):\\n\",","        \"        self.val = val\\n\",","        \"        self.next = next\\n\",","        \"\\n\",","        \"def removeZeroSumSublists(head):\\n\",","        \"    # Create a dummy node to handle edge cases\\n\",","        \"    dummy = ListNode(0)\\n\",","        \"    dummy.next = head\\n\",","        \"\\n\",","        \"    # Create a prefix sum dictionary\\n\",","        \"    prefix_sum = {}\\n\",","        \"    prefix_sum[0] = dummy  # Initialize prefix sum 0 with dummy node\\n\",","        \"    current_sum = 0\\n\",","        \"\\n\",","        \"    # Traverse the linked list and calculate prefix sums\\n\",","        \"    node = head\\n\",","        \"    while node:\\n\",","        \"        current_sum += node.val\\n\",","        \"\\n\",","        \"        if current_sum in prefix_sum:\\n\",","        \"            # Remove nodes between prefix sums\\n\",","        \"            prev = prefix_sum[current_sum]\\n\",","        \"            prev.next = node.next\\n\",","        \"            node = prev.next\\n\",","        \"\\n\",","        \"            # Remove prefix sums from the dictionary\\n\",","        \"            while prev.next:\\n\",","        \"                current_sum += prev.next.val\\n\",","        \"                del prefix_sum[current_sum]\\n\",","        \"                prev = prev.next\\n\",","        \"        else:\\n\",","        \"            prefix_sum[current_sum] = node\\n\",","        \"            node = node.next\\n\",","        \"\\n\",","        \"    return dummy.next\"","      ],","      \"metadata\": {","        \"id\": \"3CJ_v8ZG67TA\"","      },","      \"execution_count\": 24,","      \"outputs\": []","    }","  ]","}"],"stylingDirectives":null,"csv":null,"csvError":null,"dependabotInfo":{"showConfigurationBanner":false,"configFilePath":null,"networkDependabotPath":"/Saurabh8734/INeuron_FSDS_2.0_Assignment/network/updates","dismissConfigurationNoticePath":"/settings/dismiss-notice/dependabot_configuration_notice","configurationNoticeDismissed":false,"repoAlertsPath":"/Saurabh8734/INeuron_FSDS_2.0_Assignment/security/dependabot","repoSecurityAndAnalysisPath":"/Saurabh8734/INeuron_FSDS_2.0_Assignment/settings/security_analysis","repoOwnerIsOrg":false,"currentUserCanAdminRepo":false},"displayName":"PPT14.ipynb","displayUrl":"https://notebooks.githubusercontent.com/view/ipynb?browser=chrome\u0026bypass_fastly=true\u0026color_mode=auto\u0026commit=8fc3fc1bc9419cc386d4656f6ed7effcc115e6ab\u0026device=unknown_device\u0026docs_host=https%3A%2F%2Fdocs.github.com\u0026enc_url=68747470733a2f2f7261772e67697468756275736572636f6e74656e742e636f6d2f53617572616268383733342f494e6575726f6e5f465344535f322e305f41737369676e6d656e742f386663336663316263393431396363333836643436353666366564376566666363313135653661622f50507425323070726f6772616d2f50505431342e6970796e62\u0026logged_in=true\u0026nwo=Saurabh8734%2FINeuron_FSDS_2.0_Assignment\u0026path=PPt+program%2FPPT14.ipynb\u0026platform=windows\u0026repository_id=649990404\u0026repository_type=Repository\u0026version=115","headerInfo":{"blobSize":"92.6 KB","deleteInfo":{"deletePath":"https://github.com/Saurabh8734/INeuron_FSDS_2.0_Assignment/delete/main/PPt%20program/PPT14.ipynb","deleteTooltip":"Fork this repository and delete the file"},"editInfo":{"editTooltip":"Fork this repository and edit the file"},"ghDesktopPath":"https://desktop.github.com","gitLfsPath":null,"onBranch":true,"shortPath":"e9a3e8e","siteNavLoginPath":"/login?return_to=https%3A%2F%2Fgithub.com%2FSaurabh8734%2FINeuron_FSDS_2.0_Assignment%2Fblob%2Fmain%2FPPt%2520program%2FPPT14.ipynb","isCSV":false,"isRichtext":false,"toc":null,"lineInfo":{"truncatedLoc":"510","truncatedSloc":"510"},"mode":"file"},"image":false,"isCodeownersFile":null,"isValidLegacyIssueTemplate":false,"issueTemplateHelpUrl":"https://docs.github.com/articles/about-issue-and-pull-request-templates","issueTemplate":null,"discussionTemplate":null,"language":"Jupyter Notebook","large":false,"loggedIn":true,"newDiscussionPath":"/Saurabh8734/INeuron_FSDS_2.0_Assignment/discussions/new","newIssuePath":"/Saurabh8734/INeuron_FSDS_2.0_Assignment/issues/new","planSupportInfo":{"repoIsFork":null,"repoOwnedByCurrentUser":null,"requestFullPath":"/Saurabh8734/INeuron_FSDS_2.0_Assignment/blob/main/PPt%20program/PPT14.ipynb","showFreeOrgGatedFeatureMessage":null,"showPlanSupportBanner":null,"upgradeDataAttributes":null,"upgradePath":null},"publishBannersInfo":{"dismissActionNoticePath":"/settings/dismiss-notice/publish_action_from_dockerfile","dismissStackNoticePath":"/settings/dismiss-notice/publish_stack_from_file","releasePath":"/Saurabh8734/INeuron_FSDS_2.0_Assignment/releases/new?marketplace=true","showPublishActionBanner":false,"showPublishStackBanner":false},"renderImageOrRaw":false,"richText":null,"renderedFileInfo":{"identityUUID":"a547c018-d63d-4b5d-9ec2-f6f39bb9fd53","renderFileType":"ipynb","size":94835},"tabSize":8,"topBannersInfo":{"overridingGlobalFundingFile":false,"globalPreferredFundingPath":null,"repoOwner":"Saurabh8734","repoName":"INeuron_FSDS_2.0_Assignment","showInvalidCitationWarning":false,"citationHelpUrl":"https://docs.github.com/en/github/creating-cloning-and-archiving-repositories/creating-a-repository-on-github/about-citation-files","showDependabotConfigurationBanner":false,"actionsOnboardingTip":null},"truncated":false,"viewable":true,"workflowRedirectUrl":null,"symbols":{"timedOut":false,"notAnalyzed":true,"symbols":[]}},"copilotAccessInfo":{"accessAllowed":false,"hasSubscriptionEnded":false,"orgHasCFBAccess":false,"userHasCFIAccess":false,"userIsOrgAdmin":false,"userIsOrgMember":false,"business":null},"csrf_tokens":{"/Saurabh8734/INeuron_FSDS_2.0_Assignment/branches":{"post":"d6kB8JZIMjmMALEmJasreQjxkfxxq-pq0QmP6V6kneycjYTYGhgOkydm_89BW_AIzMOQ8yFye86WcFlAI0mLdw"}}},"title":"INeuron_FSDS_2.0_Assignment/PPt program/PPT14.ipynb at main · Saurabh8734/INeuron_FSDS_2.0_Assignment","locale":"en","appPayload":{"helpUrl":"https://docs.github.com","findFileWorkerPath":"/assets-cdn/worker/find-file-worker-848bb9a5da17.js","findInFileWorkerPath":"/assets-cdn/worker/find-in-file-worker-4b57095adfc5.js","githubDevUrl":"https://github.dev/","enabled_features":{"virtualize_file_tree":true,"react_repos_overview":true,"code_nav_ui_events":false,"ref_selector_v2":false,"codeview_codemirror_next_editors":false,"blob_firefox_separate_characters":true,"column_symbol_auto_select":true,"copilot_conversational_ux":false,"copilot_conversational_ux_symbols":false,"copilot_popover_file_editor_header":false,"lfs_download_button":true}}}</script>
  <div data-target="react-app.reactRoot"></div>
</react-app>
</turbo-frame>



  </div>

</turbo-frame>

    </main>
  </div>

  </div>

          <footer class="footer width-full container-xl p-responsive" role="contentinfo">
  <h2 class='sr-only'>Footer</h2>

  <div class="position-relative d-flex flex-items-center pb-2 f6 color-fg-muted border-top color-border-muted flex-column-reverse flex-lg-row flex-wrap flex-lg-nowrap mt-6 pt-6">
    <div class="list-style-none d-flex flex-wrap col-0 col-lg-2 flex-justify-start flex-lg-justify-between mb-2 mb-lg-0">
      <div class="mt-2 mt-lg-0 d-flex flex-items-center">
        <a aria-label="Homepage" title="GitHub" class="footer-octicon mr-2" href="https://github.com">
          <svg aria-hidden="true" height="24" viewBox="0 0 16 16" version="1.1" width="24" data-view-component="true" class="octicon octicon-mark-github">
    <path d="M8 0c4.42 0 8 3.58 8 8a8.013 8.013 0 0 1-5.45 7.59c-.4.08-.55-.17-.55-.38 0-.27.01-1.13.01-2.2 0-.75-.25-1.23-.54-1.48 1.78-.2 3.65-.88 3.65-3.95 0-.88-.31-1.59-.82-2.15.08-.2.36-1.02-.08-2.12 0 0-.67-.22-2.2.82-.64-.18-1.32-.27-2-.27-.68 0-1.36.09-2 .27-1.53-1.03-2.2-.82-2.2-.82-.44 1.1-.16 1.92-.08 2.12-.51.56-.82 1.28-.82 2.15 0 3.06 1.86 3.75 3.64 3.95-.23.2-.44.55-.51 1.07-.46.21-1.61.55-2.33-.66-.15-.24-.6-.83-1.23-.82-.67.01-.27.38.01.53.34.19.73.9.82 1.13.16.45.68 1.31 2.69.94 0 .67.01 1.3.01 1.49 0 .21-.15.45-.55.38A7.995 7.995 0 0 1 0 8c0-4.42 3.58-8 8-8Z"></path>
</svg>
</a>        <span>
        &copy; 2023 GitHub, Inc.
        </span>
      </div>
    </div>

    <nav aria-label='Footer' class="col-12 col-lg-8">
      <h3 class='sr-only' id='sr-footer-heading'>Footer navigation</h3>
      <ul class="list-style-none d-flex flex-wrap col-12 flex-justify-center flex-lg-justify-between mb-2 mb-lg-0" aria-labelledby='sr-footer-heading'>
          <li class="mr-3 mr-lg-0"><a href="https://docs.github.com/site-policy/github-terms/github-terms-of-service" data-analytics-event="{&quot;category&quot;:&quot;Footer&quot;,&quot;action&quot;:&quot;go to terms&quot;,&quot;label&quot;:&quot;text:terms&quot;}">Terms</a></li>
          <li class="mr-3 mr-lg-0"><a href="https://docs.github.com/site-policy/privacy-policies/github-privacy-statement" data-analytics-event="{&quot;category&quot;:&quot;Footer&quot;,&quot;action&quot;:&quot;go to privacy&quot;,&quot;label&quot;:&quot;text:privacy&quot;}">Privacy</a></li>
          <li class="mr-3 mr-lg-0"><a data-analytics-event="{&quot;category&quot;:&quot;Footer&quot;,&quot;action&quot;:&quot;go to security&quot;,&quot;label&quot;:&quot;text:security&quot;}" href="https://github.com/security">Security</a></li>
          <li class="mr-3 mr-lg-0"><a href="https://www.githubstatus.com/" data-analytics-event="{&quot;category&quot;:&quot;Footer&quot;,&quot;action&quot;:&quot;go to status&quot;,&quot;label&quot;:&quot;text:status&quot;}">Status</a></li>
          <li class="mr-3 mr-lg-0"><a data-ga-click="Footer, go to help, text:Docs" href="https://docs.github.com">Docs</a></li>
          <li class="mr-3 mr-lg-0"><a href="https://support.github.com?tags=dotcom-footer" data-analytics-event="{&quot;category&quot;:&quot;Footer&quot;,&quot;action&quot;:&quot;go to contact&quot;,&quot;label&quot;:&quot;text:contact&quot;}">Contact GitHub</a></li>
          <li class="mr-3 mr-lg-0"><a href="https://github.com/pricing" data-analytics-event="{&quot;category&quot;:&quot;Footer&quot;,&quot;action&quot;:&quot;go to Pricing&quot;,&quot;label&quot;:&quot;text:Pricing&quot;}">Pricing</a></li>
        <li class="mr-3 mr-lg-0"><a href="https://docs.github.com" data-analytics-event="{&quot;category&quot;:&quot;Footer&quot;,&quot;action&quot;:&quot;go to api&quot;,&quot;label&quot;:&quot;text:api&quot;}">API</a></li>
        <li class="mr-3 mr-lg-0"><a href="https://services.github.com" data-analytics-event="{&quot;category&quot;:&quot;Footer&quot;,&quot;action&quot;:&quot;go to training&quot;,&quot;label&quot;:&quot;text:training&quot;}">Training</a></li>
          <li class="mr-3 mr-lg-0"><a href="https://github.blog" data-analytics-event="{&quot;category&quot;:&quot;Footer&quot;,&quot;action&quot;:&quot;go to blog&quot;,&quot;label&quot;:&quot;text:blog&quot;}">Blog</a></li>
          <li><a data-ga-click="Footer, go to about, text:about" href="https://github.com/about">About</a></li>
      </ul>
    </nav>
  </div>

  <div class="d-flex flex-justify-center pb-6">
    <span class="f6 color-fg-muted"></span>
  </div>
</footer>




  <div id="ajax-error-message" class="ajax-error-message flash flash-error" hidden>
    <svg aria-hidden="true" height="16" viewBox="0 0 16 16" version="1.1" width="16" data-view-component="true" class="octicon octicon-alert">
    <path d="M6.457 1.047c.659-1.234 2.427-1.234 3.086 0l6.082 11.378A1.75 1.75 0 0 1 14.082 15H1.918a1.75 1.75 0 0 1-1.543-2.575Zm1.763.707a.25.25 0 0 0-.44 0L1.698 13.132a.25.25 0 0 0 .22.368h12.164a.25.25 0 0 0 .22-.368Zm.53 3.996v2.5a.75.75 0 0 1-1.5 0v-2.5a.75.75 0 0 1 1.5 0ZM9 11a1 1 0 1 1-2 0 1 1 0 0 1 2 0Z"></path>
</svg>
    <button type="button" class="flash-close js-ajax-error-dismiss" aria-label="Dismiss error">
      <svg aria-hidden="true" height="16" viewBox="0 0 16 16" version="1.1" width="16" data-view-component="true" class="octicon octicon-x">
    <path d="M3.72 3.72a.75.75 0 0 1 1.06 0L8 6.94l3.22-3.22a.749.749 0 0 1 1.275.326.749.749 0 0 1-.215.734L9.06 8l3.22 3.22a.749.749 0 0 1-.326 1.275.749.749 0 0 1-.734-.215L8 9.06l-3.22 3.22a.751.751 0 0 1-1.042-.018.751.751 0 0 1-.018-1.042L6.94 8 3.72 4.78a.75.75 0 0 1 0-1.06Z"></path>
</svg>
    </button>
    You can’t perform that action at this time.
  </div>

    <template id="site-details-dialog">
  <details class="details-reset details-overlay details-overlay-dark lh-default color-fg-default hx_rsm" open>
    <summary role="button" aria-label="Close dialog"></summary>
    <details-dialog class="Box Box--overlay d-flex flex-column anim-fade-in fast hx_rsm-dialog hx_rsm-modal">
      <button class="Box-btn-octicon m-0 btn-octicon position-absolute right-0 top-0" type="button" aria-label="Close dialog" data-close-dialog>
        <svg aria-hidden="true" height="16" viewBox="0 0 16 16" version="1.1" width="16" data-view-component="true" class="octicon octicon-x">
    <path d="M3.72 3.72a.75.75 0 0 1 1.06 0L8 6.94l3.22-3.22a.749.749 0 0 1 1.275.326.749.749 0 0 1-.215.734L9.06 8l3.22 3.22a.749.749 0 0 1-.326 1.275.749.749 0 0 1-.734-.215L8 9.06l-3.22 3.22a.751.751 0 0 1-1.042-.018.751.751 0 0 1-.018-1.042L6.94 8 3.72 4.78a.75.75 0 0 1 0-1.06Z"></path>
</svg>
      </button>
      <div class="octocat-spinner my-6 js-details-dialog-spinner"></div>
    </details-dialog>
  </details>
</template>

    <div class="Popover js-hovercard-content position-absolute" style="display: none; outline: none;" tabindex="0">
  <div class="Popover-message Popover-message--bottom-left Popover-message--large Box color-shadow-large" style="width:360px;">
  </div>
</div>

    <template id="snippet-clipboard-copy-button">
  <div class="zeroclipboard-container position-absolute right-0 top-0">
    <clipboard-copy aria-label="Copy" class="ClipboardButton btn js-clipboard-copy m-2 p-0 tooltipped-no-delay" data-copy-feedback="Copied!" data-tooltip-direction="w">
      <svg aria-hidden="true" height="16" viewBox="0 0 16 16" version="1.1" width="16" data-view-component="true" class="octicon octicon-copy js-clipboard-copy-icon m-2">
    <path d="M0 6.75C0 5.784.784 5 1.75 5h1.5a.75.75 0 0 1 0 1.5h-1.5a.25.25 0 0 0-.25.25v7.5c0 .138.112.25.25.25h7.5a.25.25 0 0 0 .25-.25v-1.5a.75.75 0 0 1 1.5 0v1.5A1.75 1.75 0 0 1 9.25 16h-7.5A1.75 1.75 0 0 1 0 14.25Z"></path><path d="M5 1.75C5 .784 5.784 0 6.75 0h7.5C15.216 0 16 .784 16 1.75v7.5A1.75 1.75 0 0 1 14.25 11h-7.5A1.75 1.75 0 0 1 5 9.25Zm1.75-.25a.25.25 0 0 0-.25.25v7.5c0 .138.112.25.25.25h7.5a.25.25 0 0 0 .25-.25v-7.5a.25.25 0 0 0-.25-.25Z"></path>
</svg>
      <svg aria-hidden="true" height="16" viewBox="0 0 16 16" version="1.1" width="16" data-view-component="true" class="octicon octicon-check js-clipboard-check-icon color-fg-success d-none m-2">
    <path d="M13.78 4.22a.75.75 0 0 1 0 1.06l-7.25 7.25a.75.75 0 0 1-1.06 0L2.22 9.28a.751.751 0 0 1 .018-1.042.751.751 0 0 1 1.042-.018L6 10.94l6.72-6.72a.75.75 0 0 1 1.06 0Z"></path>
</svg>
    </clipboard-copy>
  </div>
</template>
<template id="snippet-clipboard-copy-button-unpositioned">
  <div class="zeroclipboard-container">
    <clipboard-copy aria-label="Copy" class="ClipboardButton btn btn-invisible js-clipboard-copy m-2 p-0 tooltipped-no-delay d-flex flex-justify-center flex-items-center" data-copy-feedback="Copied!" data-tooltip-direction="w">
      <svg aria-hidden="true" height="16" viewBox="0 0 16 16" version="1.1" width="16" data-view-component="true" class="octicon octicon-copy js-clipboard-copy-icon">
    <path d="M0 6.75C0 5.784.784 5 1.75 5h1.5a.75.75 0 0 1 0 1.5h-1.5a.25.25 0 0 0-.25.25v7.5c0 .138.112.25.25.25h7.5a.25.25 0 0 0 .25-.25v-1.5a.75.75 0 0 1 1.5 0v1.5A1.75 1.75 0 0 1 9.25 16h-7.5A1.75 1.75 0 0 1 0 14.25Z"></path><path d="M5 1.75C5 .784 5.784 0 6.75 0h7.5C15.216 0 16 .784 16 1.75v7.5A1.75 1.75 0 0 1 14.25 11h-7.5A1.75 1.75 0 0 1 5 9.25Zm1.75-.25a.25.25 0 0 0-.25.25v7.5c0 .138.112.25.25.25h7.5a.25.25 0 0 0 .25-.25v-7.5a.25.25 0 0 0-.25-.25Z"></path>
</svg>
      <svg aria-hidden="true" height="16" viewBox="0 0 16 16" version="1.1" width="16" data-view-component="true" class="octicon octicon-check js-clipboard-check-icon color-fg-success d-none">
    <path d="M13.78 4.22a.75.75 0 0 1 0 1.06l-7.25 7.25a.75.75 0 0 1-1.06 0L2.22 9.28a.751.751 0 0 1 .018-1.042.751.751 0 0 1 1.042-.018L6 10.94l6.72-6.72a.75.75 0 0 1 1.06 0Z"></path>
</svg>
    </clipboard-copy>
  </div>
</template>


    <style>
      .user-mention[href$="/Wagh-09"] {
        color: var(--color-user-mention-fg);
        background-color: var(--color-user-mention-bg);
        border-radius: 2px;
        margin-left: -2px;
        margin-right: -2px;
        padding: 0 2px;
      }
    </style>


    </div>

    <div id="js-global-screen-reader-notice" class="sr-only" aria-live="polite" ></div>
  </body>
</html>



