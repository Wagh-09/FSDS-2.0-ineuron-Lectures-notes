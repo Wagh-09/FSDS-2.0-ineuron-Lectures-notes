{
 "cells": [
  {
   "cell_type": "markdown",
   "id": "e63caa1b",
   "metadata": {},
   "source": [
    "#Agenda :- \n",
    "\n",
    "    #Central Limit Theorem \n",
    "    \n",
    "    #confidence interval and margin of error\n",
    "    \n",
    "    #Implemementation of Z-test"
   ]
  },
  {
   "cell_type": "code",
   "execution_count": 98,
   "id": "c7fb41ce",
   "metadata": {},
   "outputs": [],
   "source": [
    "import pandas as pd\n",
    "import numpy as np\n",
    "from statistics import mode"
   ]
  },
  {
   "cell_type": "code",
   "execution_count": 2,
   "id": "ec664ba9",
   "metadata": {},
   "outputs": [],
   "source": [
    "population=np.random.randint(10,20,50)     #genearte 50 number in range 10 to 20"
   ]
  },
  {
   "cell_type": "code",
   "execution_count": 3,
   "id": "69eb2ac0",
   "metadata": {},
   "outputs": [
    {
     "data": {
      "text/plain": [
       "array([12, 16, 19, 10, 18, 11, 10, 16, 16, 10, 14, 18, 17, 10, 11, 11, 10,\n",
       "       10, 14, 18, 19, 17, 11, 17, 19, 15, 11, 13, 12, 18, 14, 13, 16, 12,\n",
       "       12, 19, 13, 12, 11, 18, 11, 17, 19, 19, 14, 11, 14, 17, 15, 10])"
      ]
     },
     "execution_count": 3,
     "metadata": {},
     "output_type": "execute_result"
    }
   ],
   "source": [
    "population"
   ]
  },
  {
   "cell_type": "code",
   "execution_count": 4,
   "id": "251d51b7",
   "metadata": {},
   "outputs": [
    {
     "data": {
      "text/plain": [
       "14.2"
      ]
     },
     "execution_count": 4,
     "metadata": {},
     "output_type": "execute_result"
    }
   ],
   "source": [
    "population.mean()"
   ]
  },
  {
   "cell_type": "code",
   "execution_count": 5,
   "id": "a76ba192",
   "metadata": {},
   "outputs": [
    {
     "data": {
      "text/plain": [
       "14.2"
      ]
     },
     "execution_count": 5,
     "metadata": {},
     "output_type": "execute_result"
    }
   ],
   "source": [
    "np.mean(population)"
   ]
  },
  {
   "cell_type": "code",
   "execution_count": 6,
   "id": "24dec1f5",
   "metadata": {},
   "outputs": [
    {
     "data": {
      "text/plain": [
       "14.0"
      ]
     },
     "execution_count": 6,
     "metadata": {},
     "output_type": "execute_result"
    }
   ],
   "source": [
    "np.median(population)"
   ]
  },
  {
   "cell_type": "code",
   "execution_count": 7,
   "id": "ccd759a0",
   "metadata": {},
   "outputs": [
    {
     "data": {
      "text/plain": [
       "11"
      ]
     },
     "execution_count": 7,
     "metadata": {},
     "output_type": "execute_result"
    }
   ],
   "source": [
    "mode(population)"
   ]
  },
  {
   "cell_type": "code",
   "execution_count": 8,
   "id": "655ba1ae",
   "metadata": {},
   "outputs": [
    {
     "name": "stdout",
     "output_type": "stream",
     "text": [
      "mean of the population 14.2\n",
      "median of the population 14.0\n",
      "mode of the population 11\n"
     ]
    }
   ],
   "source": [
    "print(f\"mean of the population {np.mean(population)}\")\n",
    "print(f\"median of the population {np.median(population)}\")\n",
    "print(f\"mode of the population {mode(population)}\")"
   ]
  },
  {
   "cell_type": "code",
   "execution_count": 9,
   "id": "e7824091",
   "metadata": {},
   "outputs": [],
   "source": [
    "sample=np.random.choice(population, 20)"
   ]
  },
  {
   "cell_type": "code",
   "execution_count": 10,
   "id": "f07638e9",
   "metadata": {},
   "outputs": [
    {
     "name": "stdout",
     "output_type": "stream",
     "text": [
      "mean of the population 14.4\n",
      "median of the population 14.0\n",
      "mode of the population 18\n"
     ]
    }
   ],
   "source": [
    "print(f\"mean of the population {np.mean(sample)}\")\n",
    "print(f\"median of the population {np.median(sample)}\")\n",
    "print(f\"mode of the population {mode(sample)}\")"
   ]
  },
  {
   "cell_type": "code",
   "execution_count": 11,
   "id": "5a0dda7b",
   "metadata": {},
   "outputs": [],
   "source": [
    "sample1=np.random.choice(population, 20)\n",
    "sample2=np.random.choice(population, 20)\n",
    "sample3=np.random.choice(population, 20)\n",
    "sample4=np.random.choice(population, 20)"
   ]
  },
  {
   "cell_type": "code",
   "execution_count": 12,
   "id": "2e88177c",
   "metadata": {},
   "outputs": [
    {
     "name": "stdout",
     "output_type": "stream",
     "text": [
      "[12 19 17 12 10 14 10 11 11 12 18 11 12 11 16 10 11 11 12 18]\n",
      "============================================================\n",
      "[17 11 12 10 11 19 19 18 11 11 17 12 13 17 11 17 12 17 18 16]\n",
      "============================================================\n",
      "[16 16 18 19 12 10 10 19 12 11 17 19 19 11 12 12 13 14 14 11]\n",
      "============================================================\n",
      "[11 11 11 12 13 13 19 19 15 11 19 12 12 11 19 10 14 18 18 11]\n",
      "============================================================\n"
     ]
    }
   ],
   "source": [
    "print(sample1)\n",
    "print(60*\"=\")\n",
    "print(sample2)\n",
    "print(60*\"=\")\n",
    "print(sample3)\n",
    "print(60*\"=\")\n",
    "print(sample4)\n",
    "print(60*\"=\")"
   ]
  },
  {
   "cell_type": "code",
   "execution_count": 13,
   "id": "bc3ac169",
   "metadata": {},
   "outputs": [],
   "source": [
    "mean_of_samples=[]\n",
    "all_sample=[sample1,sample2,sample3,sample4]\n",
    "for sample in all_sample:\n",
    "    mean_of_samples.append(np.mean(sample))"
   ]
  },
  {
   "cell_type": "code",
   "execution_count": 14,
   "id": "a046f5d9",
   "metadata": {},
   "outputs": [
    {
     "data": {
      "text/plain": [
       "[12.9, 14.45, 14.25, 13.95]"
      ]
     },
     "execution_count": 14,
     "metadata": {},
     "output_type": "execute_result"
    }
   ],
   "source": [
    "mean_of_samples"
   ]
  },
  {
   "cell_type": "markdown",
   "id": "35048cec",
   "metadata": {},
   "source": [
    "### Central Limit Theorem"
   ]
  },
  {
   "cell_type": "code",
   "execution_count": 15,
   "id": "09212df9",
   "metadata": {},
   "outputs": [],
   "source": [
    "population=np.random.binomial(10,0.5,10000)"
   ]
  },
  {
   "cell_type": "code",
   "execution_count": 16,
   "id": "f747a4c9",
   "metadata": {},
   "outputs": [
    {
     "name": "stdout",
     "output_type": "stream",
     "text": [
      "[4 5 5 ... 4 4 6]\n"
     ]
    }
   ],
   "source": [
    "print(population)"
   ]
  },
  {
   "cell_type": "code",
   "execution_count": 17,
   "id": "f640de64",
   "metadata": {},
   "outputs": [
    {
     "data": {
      "text/plain": [
       "10000"
      ]
     },
     "execution_count": 17,
     "metadata": {},
     "output_type": "execute_result"
    }
   ],
   "source": [
    "len(population)"
   ]
  },
  {
   "cell_type": "code",
   "execution_count": 18,
   "id": "00293f7b",
   "metadata": {},
   "outputs": [
    {
     "name": "stderr",
     "output_type": "stream",
     "text": [
      "C:\\Users\\DELL\\anaconda3\\lib\\site-packages\\seaborn\\distributions.py:2619: FutureWarning: `distplot` is a deprecated function and will be removed in a future version. Please adapt your code to use either `displot` (a figure-level function with similar flexibility) or `histplot` (an axes-level function for histograms).\n",
      "  warnings.warn(msg, FutureWarning)\n"
     ]
    },
    {
     "data": {
      "text/plain": [
       "<AxesSubplot:ylabel='Density'>"
      ]
     },
     "execution_count": 18,
     "metadata": {},
     "output_type": "execute_result"
    },
    {
     "data": {
      "image/png": "[encoded data removed]",
      "text/plain": [
       "<Figure size 432x288 with 1 Axes>"
      ]
     },
     "metadata": {
      "needs_background": "light"
     },
     "output_type": "display_data"
    }
   ],
   "source": [
    "import seaborn as sns\n",
    "sns.distplot(population)"
   ]
  },
  {
   "cell_type": "code",
   "execution_count": 19,
   "id": "8e307920",
   "metadata": {},
   "outputs": [
    {
     "data": {
      "text/plain": [
       "10000"
      ]
     },
     "execution_count": 19,
     "metadata": {},
     "output_type": "execute_result"
    }
   ],
   "source": [
    "len(population)"
   ]
  },
  {
   "cell_type": "code",
   "execution_count": 20,
   "id": "e6c5a582",
   "metadata": {},
   "outputs": [
    {
     "data": {
      "text/plain": [
       "3000"
      ]
     },
     "execution_count": 20,
     "metadata": {},
     "output_type": "execute_result"
    }
   ],
   "source": [
    "int(len(population)*0.30)"
   ]
  },
  {
   "cell_type": "code",
   "execution_count": 21,
   "id": "6ab10770",
   "metadata": {},
   "outputs": [],
   "source": [
    "size=int(len(population)*0.30)"
   ]
  },
  {
   "cell_type": "code",
   "execution_count": 22,
   "id": "9b434667",
   "metadata": {},
   "outputs": [
    {
     "name": "stdout",
     "output_type": "stream",
     "text": [
      "[3 7 4 ... 5 3 5]\n",
      "[2 4 9 ... 4 5 8]\n",
      "[5 4 4 ... 6 6 3]\n",
      "[8 4 4 ... 6 5 3]\n",
      "[4 5 5 ... 9 4 2]\n",
      "[5 7 5 ... 6 2 3]\n",
      "[7 8 6 ... 7 9 4]\n",
      "[5 5 6 ... 6 8 4]\n",
      "[2 6 6 ... 4 3 3]\n",
      "[4 6 8 ... 4 4 5]\n",
      "[8 4 5 ... 6 5 4]\n",
      "[7 5 4 ... 5 4 5]\n",
      "[4 4 5 ... 5 3 4]\n",
      "[5 6 5 ... 5 4 6]\n",
      "[6 4 5 ... 5 4 3]\n",
      "[4 4 9 ... 4 6 5]\n",
      "[5 5 3 ... 9 6 5]\n",
      "[4 5 8 ... 4 4 6]\n",
      "[7 7 5 ... 6 8 6]\n",
      "[5 6 4 ... 4 5 8]\n",
      "[2 5 8 ... 6 7 6]\n",
      "[7 4 7 ... 4 6 2]\n",
      "[5 5 4 ... 4 4 6]\n",
      "[6 4 5 ... 4 3 6]\n",
      "[5 3 4 ... 7 6 5]\n",
      "[3 4 4 ... 4 6 6]\n",
      "[2 5 3 ... 6 9 6]\n",
      "[3 4 5 ... 7 2 6]\n",
      "[6 6 5 ... 7 4 6]\n",
      "[5 5 5 ... 7 6 5]\n"
     ]
    }
   ],
   "source": [
    "sample_mean=[]\n",
    "for i in range(1,31):\n",
    "    print(np.random.choice(population,size=size))\n",
    "    "
   ]
  },
  {
   "cell_type": "code",
   "execution_count": 23,
   "id": "bfc97611",
   "metadata": {},
   "outputs": [],
   "source": [
    "sample_mean=[]\n",
    "for i in range(1,31):\n",
    "    sample=np.random.choice(population,size=size)\n",
    "    sample_mean.append(np.mean(sample))"
   ]
  },
  {
   "cell_type": "code",
   "execution_count": 24,
   "id": "d818ff1a",
   "metadata": {},
   "outputs": [
    {
     "data": {
      "text/plain": [
       "[5.066333333333334,\n",
       " 5.057,\n",
       " 5.048333333333333,\n",
       " 5.065333333333333,\n",
       " 5.068,\n",
       " 5.031,\n",
       " 5.0263333333333335,\n",
       " 5.0263333333333335,\n",
       " 5.065666666666667,\n",
       " 5.034666666666666,\n",
       " 5.026666666666666,\n",
       " 5.058666666666666,\n",
       " 5.075333333333333,\n",
       " 5.099333333333333,\n",
       " 5.051,\n",
       " 5.002,\n",
       " 4.971,\n",
       " 5.039333333333333,\n",
       " 4.969,\n",
       " 5.040666666666667,\n",
       " 5.047666666666666,\n",
       " 5.0376666666666665,\n",
       " 5.0103333333333335,\n",
       " 4.987666666666667,\n",
       " 5.034666666666666,\n",
       " 5.102666666666667,\n",
       " 5.060333333333333,\n",
       " 5.077,\n",
       " 5.032666666666667,\n",
       " 5.104]"
      ]
     },
     "execution_count": 24,
     "metadata": {},
     "output_type": "execute_result"
    }
   ],
   "source": [
    "sample_mean"
   ]
  },
  {
   "cell_type": "code",
   "execution_count": 25,
   "id": "dfdd0b98",
   "metadata": {},
   "outputs": [
    {
     "name": "stderr",
     "output_type": "stream",
     "text": [
      "C:\\Users\\DELL\\anaconda3\\lib\\site-packages\\seaborn\\distributions.py:2619: FutureWarning: `distplot` is a deprecated function and will be removed in a future version. Please adapt your code to use either `displot` (a figure-level function with similar flexibility) or `histplot` (an axes-level function for histograms).\n",
      "  warnings.warn(msg, FutureWarning)\n"
     ]
    },
    {
     "data": {
      "text/plain": [
       "<AxesSubplot:ylabel='Density'>"
      ]
     },
     "execution_count": 25,
     "metadata": {},
     "output_type": "execute_result"
    },
    {
     "data": {
      "image/png": "[encoded data removed]",
      "text/plain": [
       "<Figure size 432x288 with 1 Axes>"
      ]
     },
     "metadata": {
      "needs_background": "light"
     },
     "output_type": "display_data"
    }
   ],
   "source": [
    "sns.distplot(sample_mean)"
   ]
  },
  {
   "cell_type": "code",
   "execution_count": 26,
   "id": "a2a3e0de",
   "metadata": {},
   "outputs": [],
   "source": [
    "sample_mean=[]\n",
    "for i in range(1,100):\n",
    "    sample=np.random.choice(population,size=size)\n",
    "    sample_mean.append(np.mean(sample))"
   ]
  },
  {
   "cell_type": "code",
   "execution_count": 27,
   "id": "d4b89cd7",
   "metadata": {},
   "outputs": [
    {
     "name": "stderr",
     "output_type": "stream",
     "text": [
      "C:\\Users\\DELL\\anaconda3\\lib\\site-packages\\seaborn\\distributions.py:2619: FutureWarning: `distplot` is a deprecated function and will be removed in a future version. Please adapt your code to use either `displot` (a figure-level function with similar flexibility) or `histplot` (an axes-level function for histograms).\n",
      "  warnings.warn(msg, FutureWarning)\n"
     ]
    },
    {
     "data": {
      "text/plain": [
       "<AxesSubplot:ylabel='Density'>"
      ]
     },
     "execution_count": 27,
     "metadata": {},
     "output_type": "execute_result"
    },
    {
     "data": {
      "image/png": "[encoded data removed]",
      "text/plain": [
       "<Figure size 432x288 with 1 Axes>"
      ]
     },
     "metadata": {
      "needs_background": "light"
     },
     "output_type": "display_data"
    }
   ],
   "source": [
    "sns.distplot(sample_mean)"
   ]
  },
  {
   "cell_type": "code",
   "execution_count": 28,
   "id": "a57a96b0",
   "metadata": {},
   "outputs": [],
   "source": [
    "sample_mean=[]\n",
    "for i in range(1,1001):\n",
    "    sample=np.random.choice(population,size=size)\n",
    "    sample_mean.append(np.mean(sample))"
   ]
  },
  {
   "cell_type": "code",
   "execution_count": 29,
   "id": "2342a9c0",
   "metadata": {
    "scrolled": true
   },
   "outputs": [
    {
     "name": "stderr",
     "output_type": "stream",
     "text": [
      "C:\\Users\\DELL\\anaconda3\\lib\\site-packages\\seaborn\\distributions.py:2619: FutureWarning: `distplot` is a deprecated function and will be removed in a future version. Please adapt your code to use either `displot` (a figure-level function with similar flexibility) or `histplot` (an axes-level function for histograms).\n",
      "  warnings.warn(msg, FutureWarning)\n"
     ]
    },
    {
     "data": {
      "text/plain": [
       "<AxesSubplot:ylabel='Density'>"
      ]
     },
     "execution_count": 29,
     "metadata": {},
     "output_type": "execute_result"
    },
    {
     "data": {
      "image/png": "[encoded data removed]",
      "text/plain": [
       "<Figure size 432x288 with 1 Axes>"
      ]
     },
     "metadata": {
      "needs_background": "light"
     },
     "output_type": "display_data"
    }
   ],
   "source": [
    "sns.distplot(sample_mean, kde=True,color='red')"
   ]
  },
  {
   "cell_type": "code",
   "execution_count": 30,
   "id": "d71218eb",
   "metadata": {},
   "outputs": [
    {
     "data": {
      "text/plain": [
       "5.035466333333334"
      ]
     },
     "execution_count": 30,
     "metadata": {},
     "output_type": "execute_result"
    }
   ],
   "source": [
    "np.mean(sample_mean)"
   ]
  },
  {
   "cell_type": "markdown",
   "id": "6ea862d7",
   "metadata": {},
   "source": [
    "### Confidence interval and margin of error"
   ]
  },
  {
   "cell_type": "code",
   "execution_count": 41,
   "id": "792ccc97",
   "metadata": {},
   "outputs": [],
   "source": [
    "population=np.random.randint(10,20,50) "
   ]
  },
  {
   "cell_type": "code",
   "execution_count": 42,
   "id": "75c184fc",
   "metadata": {},
   "outputs": [],
   "source": [
    "mean_of_samples=[]\n",
    "all_sample=[sample1,sample2,sample3,sample4]\n",
    "for sample in all_sample:\n",
    "    mean_of_samples.append(np.mean(sample))"
   ]
  },
  {
   "cell_type": "code",
   "execution_count": 43,
   "id": "d13ba920",
   "metadata": {},
   "outputs": [],
   "source": [
    "sample1=np.random.choice(population, 20)\n",
    "sample2=np.random.choice(population, 20)\n",
    "sample3=np.random.choice(population, 20)\n",
    "sample4=np.random.choice(population, 20)"
   ]
  },
  {
   "cell_type": "code",
   "execution_count": 31,
   "id": "2442e89e",
   "metadata": {},
   "outputs": [],
   "source": [
    "import scipy.stats as stats"
   ]
  },
  {
   "cell_type": "code",
   "execution_count": 32,
   "id": "998cbd7a",
   "metadata": {},
   "outputs": [
    {
     "data": {
      "text/plain": [
       "1.6448536269514722"
      ]
     },
     "execution_count": 32,
     "metadata": {},
     "output_type": "execute_result"
    }
   ],
   "source": [
    "stats.norm.ppf(q=0.95)"
   ]
  },
  {
   "cell_type": "code",
   "execution_count": 33,
   "id": "4bc15ad8",
   "metadata": {},
   "outputs": [
    {
     "data": {
      "text/plain": [
       "1.959963984540054"
      ]
     },
     "execution_count": 33,
     "metadata": {},
     "output_type": "execute_result"
    }
   ],
   "source": [
    "stats.norm.ppf(q=0.975)"
   ]
  },
  {
   "cell_type": "code",
   "execution_count": 34,
   "id": "52a56117",
   "metadata": {},
   "outputs": [
    {
     "data": {
      "text/plain": [
       "2.3263478740408408"
      ]
     },
     "execution_count": 34,
     "metadata": {},
     "output_type": "execute_result"
    }
   ],
   "source": [
    "stats.norm.ppf(q=0.99)"
   ]
  },
  {
   "cell_type": "code",
   "execution_count": 35,
   "id": "fa216a6f",
   "metadata": {},
   "outputs": [],
   "source": [
    "z_critical = stats.norm.ppf(q=0.975)"
   ]
  },
  {
   "cell_type": "code",
   "execution_count": 36,
   "id": "cab84dd7",
   "metadata": {},
   "outputs": [],
   "source": [
    "t_critical = stats.t.ppf(q=0.975,df=24)"
   ]
  },
  {
   "cell_type": "code",
   "execution_count": 38,
   "id": "0e3fb10b",
   "metadata": {},
   "outputs": [],
   "source": [
    "margin_of_error = z_critical * (np.std(sample_mean)/np.sqrt(20))"
   ]
  },
  {
   "cell_type": "code",
   "execution_count": 39,
   "id": "4447357c",
   "metadata": {},
   "outputs": [
    {
     "data": {
      "text/plain": [
       "0.012153437817274014"
      ]
     },
     "execution_count": 39,
     "metadata": {},
     "output_type": "execute_result"
    }
   ],
   "source": [
    "margin_of_error"
   ]
  },
  {
   "cell_type": "code",
   "execution_count": 45,
   "id": "da587bb7",
   "metadata": {},
   "outputs": [
    {
     "data": {
      "text/plain": [
       "13.875346562182726"
      ]
     },
     "execution_count": 45,
     "metadata": {},
     "output_type": "execute_result"
    }
   ],
   "source": [
    "np.mean(mean_of_samples)-margin_of_error"
   ]
  },
  {
   "cell_type": "code",
   "execution_count": 46,
   "id": "b51fe924",
   "metadata": {},
   "outputs": [
    {
     "data": {
      "text/plain": [
       "13.899653437817273"
      ]
     },
     "execution_count": 46,
     "metadata": {},
     "output_type": "execute_result"
    }
   ],
   "source": [
    "np.mean(mean_of_samples)+margin_of_error"
   ]
  },
  {
   "cell_type": "markdown",
   "id": "2a7764ef",
   "metadata": {},
   "source": [
    "### implementing z-test\n",
    "#The avearage heights of all residents example from notes of z-test"
   ]
  },
  {
   "cell_type": "code",
   "execution_count": 88,
   "id": "056a2fce",
   "metadata": {},
   "outputs": [],
   "source": [
    "from numpy.random import randn\n",
    "Population=randn(100)"
   ]
  },
  {
   "cell_type": "code",
   "execution_count": 89,
   "id": "dfdcc6da",
   "metadata": {},
   "outputs": [
    {
     "data": {
      "text/plain": [
       "array([-0.88258352,  1.90908605, -1.69365649, -0.13890127, -0.00674634,\n",
       "        1.28352101, -0.57009835,  0.95225078, -0.96515535,  1.64519835,\n",
       "       -1.69360086,  1.99420132, -0.82448307, -0.36440838, -0.71849727,\n",
       "        0.63897511, -0.7194004 , -0.01626449, -0.5100095 ,  0.93529682,\n",
       "       -1.2044417 ,  0.49799942, -1.64022103,  0.61785453, -0.39987813,\n",
       "       -2.10657289, -0.31929181,  0.62517046,  1.93716762,  0.80599357,\n",
       "        3.03909588,  0.53937014,  1.55659444,  0.811541  ,  0.95609259,\n",
       "       -1.95336294,  0.06780444,  1.60532563,  0.78730762, -0.11631793,\n",
       "       -1.1690491 , -1.12075261, -3.11195379,  1.27429138, -0.92119127,\n",
       "       -0.50194599, -1.38292935,  1.20686061, -0.8403705 ,  0.59273344,\n",
       "       -0.23953901, -0.14682194,  0.25623518,  0.61684575, -0.31906085,\n",
       "       -1.08141622,  0.3247321 , -1.57838684,  0.89012647,  0.46524815,\n",
       "       -1.81471764, -0.49804481, -0.21245161,  1.63338016, -0.82141803,\n",
       "        0.09869784, -0.74589142, -0.21364969, -0.19998763, -1.16650971,\n",
       "        0.80515663,  1.86925   ,  1.67887498, -0.18964146, -0.45994394,\n",
       "       -0.28631177,  0.07505707,  2.02078653,  1.25333357,  0.63050067,\n",
       "       -0.78262556, -0.71599495,  0.42814031,  0.65511182, -0.29309441,\n",
       "       -0.53118676,  0.23394408, -2.35021105,  0.79838779, -0.0455048 ,\n",
       "        0.18591751, -1.74299616,  0.28906956,  0.95990185, -0.69187304,\n",
       "       -0.72437521, -0.36245766, -1.02993457,  0.70418676, -0.59149714])"
      ]
     },
     "execution_count": 89,
     "metadata": {},
     "output_type": "execute_result"
    }
   ],
   "source": [
    "Population"
   ]
  },
  {
   "cell_type": "code",
   "execution_count": 90,
   "id": "f8e1979e",
   "metadata": {},
   "outputs": [
    {
     "name": "stderr",
     "output_type": "stream",
     "text": [
      "C:\\Users\\DELL\\anaconda3\\lib\\site-packages\\seaborn\\distributions.py:2619: FutureWarning: `distplot` is a deprecated function and will be removed in a future version. Please adapt your code to use either `displot` (a figure-level function with similar flexibility) or `histplot` (an axes-level function for histograms).\n",
      "  warnings.warn(msg, FutureWarning)\n"
     ]
    },
    {
     "data": {
      "text/plain": [
       "<AxesSubplot:ylabel='Density'>"
      ]
     },
     "execution_count": 90,
     "metadata": {},
     "output_type": "execute_result"
    },
    {
     "data": {
      "image/png": "[encoded data removed]",
      "text/plain": [
       "<Figure size 432x288 with 1 Axes>"
      ]
     },
     "metadata": {
      "needs_background": "light"
     },
     "output_type": "display_data"
    }
   ],
   "source": [
    "sns.distplot(Population)"
   ]
  },
  {
   "cell_type": "code",
   "execution_count": 91,
   "id": "58109804",
   "metadata": {},
   "outputs": [
    {
     "name": "stdout",
     "output_type": "stream",
     "text": [
      "here is a mean of the population: -0.02575011235902155,  here is the std deviation of population : 1.1018431402990214\n"
     ]
    }
   ],
   "source": [
    "print(f\"here is a mean of the population: {np.mean(Population)},  here is the std deviation of population : {np.std(Population)}\")"
   ]
  },
  {
   "cell_type": "code",
   "execution_count": 92,
   "id": "d43fec92",
   "metadata": {},
   "outputs": [],
   "source": [
    "null_mean= -0.0257"
   ]
  },
  {
   "cell_type": "markdown",
   "id": "ad65e2fb",
   "metadata": {},
   "source": [
    "C.I = 95%\n",
    "alpha = 0.05(5%)"
   ]
  },
  {
   "cell_type": "markdown",
   "id": "2122c909",
   "metadata": {},
   "source": [
    "p<=0.05 # Reject the null hypothesis\n",
    "p>0.05  # We are fail to reject the null hypothesis"
   ]
  },
  {
   "cell_type": "markdown",
   "id": "c2add287",
   "metadata": {},
   "source": [
    "p<=alpha\n",
    "p>alpha"
   ]
  },
  {
   "cell_type": "code",
   "execution_count": 93,
   "id": "fd7e0b42",
   "metadata": {},
   "outputs": [],
   "source": [
    "\n",
    "alpha=0.05"
   ]
  },
  {
   "cell_type": "code",
   "execution_count": 94,
   "id": "b437d305",
   "metadata": {},
   "outputs": [],
   "source": [
    "from statsmodels.stats.weightstats import ztest"
   ]
  },
  {
   "cell_type": "code",
   "execution_count": 95,
   "id": "582c0bf0",
   "metadata": {},
   "outputs": [],
   "source": [
    "z_score,p_value=ztest(Population,value=null_mean,alternative='larger')"
   ]
  },
  {
   "cell_type": "code",
   "execution_count": 96,
   "id": "fb59e3de",
   "metadata": {},
   "outputs": [
    {
     "data": {
      "text/plain": [
       "0.5001805313889737"
      ]
     },
     "execution_count": 96,
     "metadata": {},
     "output_type": "execute_result"
    }
   ],
   "source": [
    "p_value"
   ]
  },
  {
   "cell_type": "code",
   "execution_count": 97,
   "id": "fad890e7",
   "metadata": {},
   "outputs": [
    {
     "name": "stdout",
     "output_type": "stream",
     "text": [
      "We fail to reject the null hypothesis\n"
     ]
    }
   ],
   "source": [
    "if (p_value<alpha):\n",
    "    print(\"reject the null hypothesis\")\n",
    "else:\n",
    "    print(\"We fail to reject the null hypothesis\")"
   ]
  },
  {
   "cell_type": "code",
   "execution_count": null,
   "id": "b134c8ff",
   "metadata": {},
   "outputs": [],
   "source": []
  }
 ],
 "metadata": {
  "kernelspec": {
   "display_name": "Python 3 (ipykernel)",
   "language": "python",
   "name": "python3"
  },
  "language_info": {
   "codemirror_mode": {
    "name": "ipython",
    "version": 3
   },
   "file_extension": ".py",
   "mimetype": "text/x-python",
   "name": "python",
   "nbconvert_exporter": "python",
   "pygments_lexer": "ipython3",
   "version": "3.9.7"
  }
 },
 "nbformat": 4,
 "nbformat_minor": 5
}
