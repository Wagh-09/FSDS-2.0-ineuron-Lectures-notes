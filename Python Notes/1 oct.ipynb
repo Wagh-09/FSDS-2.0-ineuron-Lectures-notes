{
 "cells": [
  {
   "cell_type": "markdown",
   "id": "85f494ea",
   "metadata": {},
   "source": [
    "# Operators"
   ]
  },
  {
   "cell_type": "markdown",
   "id": "0ea5bd6c",
   "metadata": {},
   "source": [
    "### Logical operators\n",
    "#### not - negation\n",
    "#### and - conditional AND\n",
    "#### or - conditional OR"
   ]
  },
  {
   "cell_type": "code",
   "execution_count": 1,
   "id": "3608b92e",
   "metadata": {},
   "outputs": [
    {
     "name": "stdout",
     "output_type": "stream",
     "text": [
      "True\n"
     ]
    }
   ],
   "source": [
    "Start = True\n",
    "print(Start)"
   ]
  },
  {
   "cell_type": "code",
   "execution_count": 2,
   "id": "412b176e",
   "metadata": {},
   "outputs": [
    {
     "name": "stdout",
     "output_type": "stream",
     "text": [
      "False\n"
     ]
    }
   ],
   "source": [
    "start= True\n",
    "print(not start)"
   ]
  },
  {
   "cell_type": "code",
   "execution_count": 4,
   "id": "ca95e63c",
   "metadata": {},
   "outputs": [
    {
     "name": "stdout",
     "output_type": "stream",
     "text": [
      "class started\n"
     ]
    }
   ],
   "source": [
    "class_started = True\n",
    "if class_started:\n",
    "    print(\"class started\")\n",
    "else:\n",
    "    print(\"not class started\")\n"
   ]
  },
  {
   "cell_type": "code",
   "execution_count": 5,
   "id": "745e087d",
   "metadata": {},
   "outputs": [],
   "source": [
    "#glimpse of conditional statement \n",
    "# if-else condition "
   ]
  },
  {
   "cell_type": "raw",
   "id": "f31b54f3",
   "metadata": {},
   "source": [
    "if condition:\n",
    "   print(\"execute this statement:\")\n",
    "else:\n",
    "    print(\"if condition is not true\")"
   ]
  },
  {
   "cell_type": "code",
   "execution_count": 8,
   "id": "01654dba",
   "metadata": {},
   "outputs": [
    {
     "name": "stdout",
     "output_type": "stream",
     "text": [
      "Let do work from home\n"
     ]
    }
   ],
   "source": [
    "raining = True\n",
    "if raining:                      #TRUE condition\n",
    "    print(\"Let do work from home\")           #For true this statement is ececutede.\n",
    "else:\n",
    "    print(\"Lets go to the office\")"
   ]
  },
  {
   "cell_type": "code",
   "execution_count": 9,
   "id": "70c548ad",
   "metadata": {},
   "outputs": [
    {
     "name": "stdout",
     "output_type": "stream",
     "text": [
      "Lets go to the office\n"
     ]
    }
   ],
   "source": [
    "raining = False\n",
    "if raining:\n",
    "    print(\"Let do work from home\")\n",
    "else:\n",
    "    print(\"Lets go to the office\")"
   ]
  },
  {
   "cell_type": "code",
   "execution_count": 10,
   "id": "f1f3663b",
   "metadata": {},
   "outputs": [
    {
     "name": "stdout",
     "output_type": "stream",
     "text": [
      "since it raining\n",
      "Let do work from home\n"
     ]
    }
   ],
   "source": [
    "# use of identition \n",
    "raining = True\n",
    "if raining:\n",
    "    print(\"since it raining\")\n",
    "    print(\"Let do work from home\")\n",
    "else:\n",
    "    print(\"since it not running\")\n",
    "    print(\"Lets go to the office\")"
   ]
  },
  {
   "cell_type": "code",
   "execution_count": 11,
   "id": "ac080b7e",
   "metadata": {},
   "outputs": [
    {
     "name": "stdout",
     "output_type": "stream",
     "text": [
      "since it raining\n",
      "Let do work from home\n"
     ]
    }
   ],
   "source": [
    "raining =True\n",
    "if not raining:\n",
    "    print(\"since it not raining\")\n",
    "    print(\"Lets go to the office\")\n",
    "else:\n",
    "    print(\"since it raining\")\n",
    "    print(\"Let do work from home\")"
   ]
  },
  {
   "cell_type": "code",
   "execution_count": 12,
   "id": "6c6c0905",
   "metadata": {},
   "outputs": [
    {
     "name": "stdout",
     "output_type": "stream",
     "text": [
      "since class is not started\n",
      "Lets revised\n"
     ]
    }
   ],
   "source": [
    "class_started= False\n",
    "if class_started:\n",
    "    print(\"since class started...\")\n",
    "    print(\"Lets concentrates\")\n",
    "else:\n",
    "    print(\"since class is not started\")\n",
    "    print(\"Lets revised\")"
   ]
  },
  {
   "cell_type": "code",
   "execution_count": 13,
   "id": "3182d16c",
   "metadata": {
    "scrolled": true
   },
   "outputs": [
    {
     "name": "stdout",
     "output_type": "stream",
     "text": [
      "Hey friend, is class started?: [0-False/1-True]1\n",
      "since class is not started...\n",
      "Lets concentrates\n"
     ]
    }
   ],
   "source": [
    "class_started= bool(input(\"Hey friend, is class started?: [0-False/1-True]\"))\n",
    "if not class_started:\n",
    "    print(\"since class started\")\n",
    "    print(\"Lets concentrates\")\n",
    "else:\n",
    "    print(\"since class is not started...\")\n",
    "    print(\"Lets concentrates\") "
   ]
  },
  {
   "cell_type": "markdown",
   "id": "377ce9af",
   "metadata": {},
   "source": [
    "# and - conditional AND"
   ]
  },
  {
   "cell_type": "code",
   "execution_count": 1,
   "id": "1861b15b",
   "metadata": {},
   "outputs": [
    {
     "name": "stdout",
     "output_type": "stream",
     "text": [
      "Its a bad dish\n",
      "because vegetable present: False\n",
      "because salt is present:False\n"
     ]
    }
   ],
   "source": [
    "vegetable_present = False\n",
    "salt_present = False\n",
    "if vegetable_present and salt_present:\n",
    "    print(\"Its a good dish\")\n",
    "else:\n",
    "    print(\"Its a bad dish\")\n",
    "    print(f\"because vegetable present: {vegetable_present}\")\n",
    "    print(f\"because salt is present:{salt_present}\")"
   ]
  },
  {
   "cell_type": "code",
   "execution_count": 15,
   "id": "3826abf3",
   "metadata": {},
   "outputs": [
    {
     "name": "stdout",
     "output_type": "stream",
     "text": [
      "Play indoor games\n"
     ]
    }
   ],
   "source": [
    "Playin_while_raining = False\n",
    "Playing_indoor_games = True\n",
    "if Playin_while_raining and Playing_indoor_games:\n",
    "    print(\"Play in rain\")\n",
    "else:\n",
    "    print(\"Play indoor games\")\n"
   ]
  },
  {
   "cell_type": "code",
   "execution_count": 16,
   "id": "9555689e",
   "metadata": {},
   "outputs": [
    {
     "name": "stdout",
     "output_type": "stream",
     "text": [
      "Its a bad dish\n",
      "because vegetable present: True\n",
      "because salt is present:False\n"
     ]
    }
   ],
   "source": [
    "vegetable_present = True\n",
    "salt_present =False\n",
    "if vegetable_present and salt_present:\n",
    "    print(\"Its a good dish\")\n",
    "else:\n",
    "    print(\"Its a bad dish\")\n",
    "    print(f\"because vegetable present: {vegetable_present}\")\n",
    "    print(f\"because salt is present:{salt_present}\")"
   ]
  },
  {
   "cell_type": "code",
   "execution_count": 17,
   "id": "7f83de68",
   "metadata": {},
   "outputs": [
    {
     "name": "stdout",
     "output_type": "stream",
     "text": [
      "Its a bad dish\n",
      "because vegetable present: False\n",
      "because salt is present:True\n"
     ]
    }
   ],
   "source": [
    "vegetable_present = False\n",
    "salt_present = True\n",
    "if vegetable_present and salt_present:\n",
    "    print(\"Its a good dish\")\n",
    "else:\n",
    "    print(\"Its a bad dish\")\n",
    "    print(f\"because vegetable present: {vegetable_present}\")\n",
    "    print(f\"because salt is present:{salt_present}\")"
   ]
  },
  {
   "cell_type": "code",
   "execution_count": 18,
   "id": "5671b766",
   "metadata": {},
   "outputs": [
    {
     "name": "stdout",
     "output_type": "stream",
     "text": [
      "Its a good dish\n"
     ]
    }
   ],
   "source": [
    "vegetable_present = True\n",
    "salt_present = True\n",
    "if vegetable_present and salt_present:    #this condition is true as both the subconditionare true\n",
    "    print(\"Its a good dish\")\n",
    "else:\n",
    "    print(\"Its a bad dish\")\n",
    "    print(f\"because vegetable present: {vegetable_present}\")\n",
    "    print(f\"because salt is present:{salt_present}\")"
   ]
  },
  {
   "cell_type": "code",
   "execution_count": 19,
   "id": "831fa41a",
   "metadata": {},
   "outputs": [],
   "source": [
    "## or conditional OR\n",
    "# if i have a car or bike then I can travel 100kms in a day "
   ]
  },
  {
   "cell_type": "code",
   "execution_count": 20,
   "id": "e37b68b3",
   "metadata": {},
   "outputs": [
    {
     "name": "stdout",
     "output_type": "stream",
     "text": [
      "I am stuck as I don't have a car or bike\n"
     ]
    }
   ],
   "source": [
    "i_own_car = False\n",
    "i_own_bike = False \n",
    "if  i_own_car or i_own_bike:\n",
    "    print(\"I can travel 100 kms in a day!\")\n",
    "else: \n",
    "    print(\"I am stuck as I don't have a car or bike\")"
   ]
  },
  {
   "cell_type": "code",
   "execution_count": 21,
   "id": "d1035175",
   "metadata": {},
   "outputs": [
    {
     "name": "stdout",
     "output_type": "stream",
     "text": [
      "I can travel 100 kms in a day!\n"
     ]
    }
   ],
   "source": [
    "i_own_car = False\n",
    "i_own_bike = True\n",
    "if  i_own_car or i_own_bike:\n",
    "    print(\"I can travel 100 kms in a day!\")\n",
    "else: \n",
    "    print(\"I am stuck as I don't have a car or bike\")"
   ]
  },
  {
   "cell_type": "code",
   "execution_count": 22,
   "id": "571e09d7",
   "metadata": {},
   "outputs": [
    {
     "name": "stdout",
     "output_type": "stream",
     "text": [
      "I can travel 100 kms in a day!\n"
     ]
    }
   ],
   "source": [
    "i_own_car = True\n",
    "i_own_bike = False \n",
    "if  i_own_car or i_own_bike:\n",
    "    print(\"I can travel 100 kms in a day!\")\n",
    "else: \n",
    "    print(\"I am stuck as I don't have a car or bike\")"
   ]
  },
  {
   "cell_type": "code",
   "execution_count": 23,
   "id": "c2264ad8",
   "metadata": {},
   "outputs": [
    {
     "name": "stdout",
     "output_type": "stream",
     "text": [
      "I can travel 100 kms in a day!\n"
     ]
    }
   ],
   "source": [
    "i_own_car = True\n",
    "i_own_bike = True\n",
    "if  i_own_car or i_own_bike:\n",
    "    print(\"I can travel 100 kms in a day!\")\n",
    "else: \n",
    "    print(\"I am stuck as I don't have a car or bike\")"
   ]
  },
  {
   "cell_type": "code",
   "execution_count": 24,
   "id": "03eccab6",
   "metadata": {},
   "outputs": [
    {
     "name": "stdout",
     "output_type": "stream",
     "text": [
      "False\n",
      "False\n",
      "The student is not elligible\n"
     ]
    }
   ],
   "source": [
    "#example\n",
    "attendance = 70\n",
    "assignment = 40\n",
    "print(attendance >= 75)\n",
    "print(assignment >= 70)\n",
    "if attendance >= 75 and assignment >=70:\n",
    "    print(\"The student is eligible to appear in final exam\")\n",
    "else:\n",
    "    print(\"The student is not elligible\")"
   ]
  },
  {
   "cell_type": "code",
   "execution_count": 25,
   "id": "b283b4db",
   "metadata": {},
   "outputs": [
    {
     "name": "stdout",
     "output_type": "stream",
     "text": [
      "True\n",
      "False\n",
      "The student is not elligible\n"
     ]
    }
   ],
   "source": [
    "attendance = 90\n",
    "assignment = 40\n",
    "print(attendance >= 75)\n",
    "print(assignment >= 70)\n",
    "if attendance >= 75 and assignment >=70:\n",
    "    print(\"The student is eligible to appear in final exam\")\n",
    "else:\n",
    "    print(\"The student is not elligible\")"
   ]
  },
  {
   "cell_type": "code",
   "execution_count": 26,
   "id": "bd415399",
   "metadata": {},
   "outputs": [
    {
     "name": "stdout",
     "output_type": "stream",
     "text": [
      "attendance criteria met?: True\n",
      "assignment criteria met?: True\n",
      "The student is eligible to appear in final exam\n"
     ]
    }
   ],
   "source": [
    "attendance = 90\n",
    "assignment = 90\n",
    "print(f\"attendance criteria met?: {attendance >= 75}\")\n",
    "print(f\"assignment criteria met?: {assignment >= 70}\")\n",
    "if attendance >= 75 and assignment >=70:\n",
    "    print(\"The student is eligible to appear in final exam\")\n",
    "else:\n",
    "    print(\"The student is not elligible\")"
   ]
  },
  {
   "cell_type": "code",
   "execution_count": 14,
   "id": "ebb98262",
   "metadata": {},
   "outputs": [
    {
     "name": "stdout",
     "output_type": "stream",
     "text": [
      "proceed further for payment\n"
     ]
    }
   ],
   "source": [
    "own_credit_card =False\n",
    "own_debit_card = False\n",
    "UPI = True\n",
    "if own_credit_card or own_debit_card or UPI:\n",
    "    print(\"proceed further for payment\")\n",
    "else:\n",
    "    print(\"ask from a dad for debit credit card\")\n",
    "    print(\"cash on delivery\")"
   ]
  },
  {
   "cell_type": "code",
   "execution_count": 2,
   "id": "87b4d4ab",
   "metadata": {},
   "outputs": [
    {
     "name": "stdout",
     "output_type": "stream",
     "text": [
      "attendance criteria met?: False\n",
      "assignment criteria met?: False\n",
      "sports criteria met?: True\n",
      "The student is eligible to appear in final exam\n"
     ]
    }
   ],
   "source": [
    "attendance = 70\n",
    "assignment = 40\n",
    "sports_player = True\n",
    "\n",
    "print(f\"attendance criteria met?: {attendance >= 75}\")\n",
    "print(f\"assignment criteria met?: {assignment >= 70}\")\n",
    "print(f\"sports criteria met?: {sports_player}\")\n",
    "if attendance >= 75 and assignment >=70 or sports_player:\n",
    "    print(\"The student is eligible to appear in final exam\")\n",
    "else:\n",
    "    print(\"The student is not elligible\")"
   ]
  },
  {
   "cell_type": "code",
   "execution_count": 3,
   "id": "3d8f166f",
   "metadata": {},
   "outputs": [
    {
     "name": "stdout",
     "output_type": "stream",
     "text": [
      "Since you have scored: 90, you have passed the exams!\n",
      "Dad: I will buy you a bike! Well Done!!\n"
     ]
    }
   ],
   "source": [
    "your_score = 90\n",
    "passing_marks = 33.33\n",
    "distinction_marks = 75\n",
    "\n",
    "if your_score > 33.33: # strict case\n",
    "    print(f\"Since you have scored: {your_score}, you have passed the exams!\")\n",
    "    if your_score > distinction_marks:\n",
    "        print(\"Dad: I will buy you a bike! Well Done!!\")\n",
    "else:\n",
    "    print(\"Dad: You should have taken things seriously!\")"
   ]
  },
  {
   "cell_type": "code",
   "execution_count": null,
   "id": "ca06dff1",
   "metadata": {},
   "outputs": [],
   "source": []
  },
  {
   "cell_type": "code",
   "execution_count": null,
   "id": "d9c6c65a",
   "metadata": {},
   "outputs": [],
   "source": []
  },
  {
   "cell_type": "code",
   "execution_count": 4,
   "id": "06eb1ea3",
   "metadata": {},
   "outputs": [
    {
     "name": "stdout",
     "output_type": "stream",
     "text": [
      "True\n"
     ]
    }
   ],
   "source": [
    "start= True\n",
    "print(start)"
   ]
  },
  {
   "cell_type": "code",
   "execution_count": 5,
   "id": "8b12c14f",
   "metadata": {},
   "outputs": [
    {
     "name": "stdout",
     "output_type": "stream",
     "text": [
      "False\n"
     ]
    }
   ],
   "source": [
    "start = True\n",
    "print(not start)"
   ]
  },
  {
   "cell_type": "code",
   "execution_count": 6,
   "id": "c1e8b11b",
   "metadata": {},
   "outputs": [
    {
     "name": "stdout",
     "output_type": "stream",
     "text": [
      "Lets concentrates\n"
     ]
    }
   ],
   "source": [
    "class_started = True\n",
    "if class_started:\n",
    "    print(\"Lets concentrates\")\n",
    "    "
   ]
  },
  {
   "cell_type": "code",
   "execution_count": 7,
   "id": "371c6179",
   "metadata": {},
   "outputs": [
    {
     "name": "stdout",
     "output_type": "stream",
     "text": [
      "Lets go to the office\n"
     ]
    }
   ],
   "source": [
    "raining = False\n",
    "if raining:\n",
    "    print(\"Let do work from home\")\n",
    "else:\n",
    "    print(\"Lets go to the office\")"
   ]
  },
  {
   "cell_type": "code",
   "execution_count": null,
   "id": "6c2ec382",
   "metadata": {},
   "outputs": [],
   "source": []
  }
 ],
 "metadata": {
  "kernelspec": {
   "display_name": "Python 3 (ipykernel)",
   "language": "python",
   "name": "python3"
  },
  "language_info": {
   "codemirror_mode": {
    "name": "ipython",
    "version": 3
   },
   "file_extension": ".py",
   "mimetype": "text/x-python",
   "name": "python",
   "nbconvert_exporter": "python",
   "pygments_lexer": "ipython3",
   "version": "3.9.7"
  }
 },
 "nbformat": 4,
 "nbformat_minor": 5
}
