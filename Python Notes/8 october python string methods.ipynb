{
 "cells": [
  {
   "cell_type": "code",
   "execution_count": 1,
   "id": "d84c4932",
   "metadata": {},
   "outputs": [],
   "source": [
    "##Arithmetic Operators\n",
    "A=22\n",
    "B=23"
   ]
  },
  {
   "cell_type": "code",
   "execution_count": 2,
   "id": "ddfd289b",
   "metadata": {},
   "outputs": [
    {
     "data": {
      "text/plain": [
       "0"
      ]
     },
     "execution_count": 2,
     "metadata": {},
     "output_type": "execute_result"
    }
   ],
   "source": [
    "A//B    #ans in integer format"
   ]
  },
  {
   "cell_type": "code",
   "execution_count": 3,
   "id": "1cbb1291",
   "metadata": {},
   "outputs": [
    {
     "data": {
      "text/plain": [
       "45"
      ]
     },
     "execution_count": 3,
     "metadata": {},
     "output_type": "execute_result"
    }
   ],
   "source": [
    "A+B"
   ]
  },
  {
   "cell_type": "code",
   "execution_count": 4,
   "id": "6b4d6202",
   "metadata": {},
   "outputs": [
    {
     "data": {
      "text/plain": [
       "-1"
      ]
     },
     "execution_count": 4,
     "metadata": {},
     "output_type": "execute_result"
    }
   ],
   "source": [
    "A-B"
   ]
  },
  {
   "cell_type": "code",
   "execution_count": 5,
   "id": "1b9968ea",
   "metadata": {},
   "outputs": [
    {
     "data": {
      "text/plain": [
       "0.9565217391304348"
      ]
     },
     "execution_count": 5,
     "metadata": {},
     "output_type": "execute_result"
    }
   ],
   "source": [
    "A/B"
   ]
  },
  {
   "cell_type": "code",
   "execution_count": 6,
   "id": "488f07a5",
   "metadata": {},
   "outputs": [
    {
     "data": {
      "text/plain": [
       "0"
      ]
     },
     "execution_count": 6,
     "metadata": {},
     "output_type": "execute_result"
    }
   ],
   "source": [
    "A//B"
   ]
  },
  {
   "cell_type": "code",
   "execution_count": 7,
   "id": "840a0c72",
   "metadata": {},
   "outputs": [
    {
     "data": {
      "text/plain": [
       "22"
      ]
     },
     "execution_count": 7,
     "metadata": {},
     "output_type": "execute_result"
    }
   ],
   "source": [
    "A%B"
   ]
  },
  {
   "cell_type": "code",
   "execution_count": 8,
   "id": "3d5a07ed",
   "metadata": {},
   "outputs": [
    {
     "data": {
      "text/plain": [
       "2"
      ]
     },
     "execution_count": 8,
     "metadata": {},
     "output_type": "execute_result"
    }
   ],
   "source": [
    "A = 5\n",
    "B = 2\n",
    "A//B"
   ]
  },
  {
   "cell_type": "code",
   "execution_count": 9,
   "id": "a1db807a",
   "metadata": {},
   "outputs": [
    {
     "data": {
      "text/plain": [
       "1"
      ]
     },
     "execution_count": 9,
     "metadata": {},
     "output_type": "execute_result"
    }
   ],
   "source": [
    "A%B"
   ]
  },
  {
   "cell_type": "code",
   "execution_count": 10,
   "id": "76f6a9e7",
   "metadata": {},
   "outputs": [
    {
     "name": "stdout",
     "output_type": "stream",
     "text": [
      "A:55 is not divible ny B: 2\n"
     ]
    }
   ],
   "source": [
    "A = 55\n",
    "B=2\n",
    "if A%B == 0:\n",
    "    print(f\"A: {A} is divisible by B: {B}\")\n",
    "else:\n",
    "    print(f\"A:{A} is not divible ny B: {B}\")"
   ]
  },
  {
   "cell_type": "code",
   "execution_count": 11,
   "id": "4ae58d75",
   "metadata": {},
   "outputs": [
    {
     "data": {
      "text/plain": [
       "2.0"
      ]
     },
     "execution_count": 11,
     "metadata": {},
     "output_type": "execute_result"
    }
   ],
   "source": [
    "A =4\n",
    "A**(1/2)"
   ]
  },
  {
   "cell_type": "code",
   "execution_count": 12,
   "id": "2038e767",
   "metadata": {},
   "outputs": [
    {
     "data": {
      "text/plain": [
       "'u'"
      ]
     },
     "execution_count": 12,
     "metadata": {},
     "output_type": "execute_result"
    }
   ],
   "source": [
    "# string Methods\n",
    "\n",
    "name = \"Sunny\"\n",
    "\n",
    "name[1]"
   ]
  },
  {
   "cell_type": "code",
   "execution_count": 13,
   "id": "9bdfc964",
   "metadata": {},
   "outputs": [
    {
     "data": {
      "text/plain": [
       "'y'"
      ]
     },
     "execution_count": 13,
     "metadata": {},
     "output_type": "execute_result"
    }
   ],
   "source": [
    "name[4]"
   ]
  },
  {
   "cell_type": "code",
   "execution_count": 14,
   "id": "d55e71f8",
   "metadata": {},
   "outputs": [
    {
     "data": {
      "text/plain": [
       "'S'"
      ]
     },
     "execution_count": 14,
     "metadata": {},
     "output_type": "execute_result"
    }
   ],
   "source": [
    "name[-5]"
   ]
  },
  {
   "cell_type": "code",
   "execution_count": 15,
   "id": "dc369880",
   "metadata": {},
   "outputs": [
    {
     "data": {
      "text/plain": [
       "'unny'"
      ]
     },
     "execution_count": 15,
     "metadata": {},
     "output_type": "execute_result"
    }
   ],
   "source": [
    "# String slicing\n",
    "#       01234\n",
    "#       -5-4-3-2-1\n",
    "name = \"Sunny\"\n",
    "\n",
    "name[1:] # [starting: ending]"
   ]
  },
  {
   "cell_type": "code",
   "execution_count": 16,
   "id": "a308465f",
   "metadata": {},
   "outputs": [
    {
     "data": {
      "text/plain": [
       "'un'"
      ]
     },
     "execution_count": 16,
     "metadata": {},
     "output_type": "execute_result"
    }
   ],
   "source": [
    "name[1:3] # This means that ending is excluded"
   ]
  },
  {
   "cell_type": "code",
   "execution_count": 17,
   "id": "035bd899",
   "metadata": {},
   "outputs": [
    {
     "data": {
      "text/plain": [
       "'unn'"
      ]
     },
     "execution_count": 17,
     "metadata": {},
     "output_type": "execute_result"
    }
   ],
   "source": [
    "name[-4:-1]"
   ]
  },
  {
   "cell_type": "code",
   "execution_count": 18,
   "id": "8029f1ca",
   "metadata": {},
   "outputs": [
    {
     "name": "stdout",
     "output_type": "stream",
     "text": [
      "its 08th of the month: 10 of the year: 2022\n"
     ]
    }
   ],
   "source": [
    "# index 0123456789\n",
    "date = \"08/10/2022\"\n",
    "\n",
    "# today's date, Month and year\n",
    "\n",
    "today_s_date = date[0:2]\n",
    "month = date[3:5]\n",
    "year = date[6:]\n",
    "\n",
    "print(f\"its {today_s_date}th of the month: {month} of the year: {year}\")"
   ]
  },
  {
   "cell_type": "code",
   "execution_count": 19,
   "id": "afa266aa",
   "metadata": {},
   "outputs": [
    {
     "name": "stdout",
     "output_type": "stream",
     "text": [
      "enter date of birth in the format DD/MM/YYYY: 09/02/2001\n",
      "The user was born in the month of 02 in the year: 2001 on date: 09\n"
     ]
    }
   ],
   "source": [
    "# index 0123456789\n",
    "data = input(\"enter date of birth in the format DD/MM/YYYY: \")\n",
    "\n",
    "# today's date, Month and year\n",
    "\n",
    "date = data[0:2]\n",
    "month = data[3:5]\n",
    "year = data[6:]\n",
    "\n",
    "print(f\"The user was born in the month of {month} in the year: {year} on date: {date}\")"
   ]
  },
  {
   "cell_type": "code",
   "execution_count": 20,
   "id": "d3240212",
   "metadata": {},
   "outputs": [
    {
     "data": {
      "text/plain": [
       "'Sny'"
      ]
     },
     "execution_count": 20,
     "metadata": {},
     "output_type": "execute_result"
    }
   ],
   "source": [
    "name = \"Sunny\" \n",
    "\n",
    "name[0:5:2] # start: ending: step"
   ]
  },
  {
   "cell_type": "code",
   "execution_count": 21,
   "id": "d15fd33c",
   "metadata": {},
   "outputs": [
    {
     "data": {
      "text/plain": [
       "'Sny'"
      ]
     },
     "execution_count": 21,
     "metadata": {},
     "output_type": "execute_result"
    }
   ],
   "source": [
    "name[0::2] # start: ending: step"
   ]
  },
  {
   "cell_type": "code",
   "execution_count": 22,
   "id": "0fa4d1f6",
   "metadata": {},
   "outputs": [
    {
     "data": {
      "text/plain": [
       "'KriPptWg'"
      ]
     },
     "execution_count": 22,
     "metadata": {},
     "output_type": "execute_result"
    }
   ],
   "source": [
    "name = \"Kirti Popat Wagh\"\n",
    "\n",
    "name[0::2]"
   ]
  },
  {
   "cell_type": "code",
   "execution_count": 23,
   "id": "83997f03",
   "metadata": {},
   "outputs": [
    {
     "data": {
      "text/plain": [
       "'K'"
      ]
     },
     "execution_count": 23,
     "metadata": {},
     "output_type": "execute_result"
    }
   ],
   "source": [
    "name = \"Kirti Popat Wagh\"\n",
    "name[0:2:3]"
   ]
  },
  {
   "cell_type": "code",
   "execution_count": 24,
   "id": "f3a01ad7",
   "metadata": {},
   "outputs": [
    {
     "data": {
      "text/plain": [
       "'hgaW tapoP itriK'"
      ]
     },
     "execution_count": 24,
     "metadata": {},
     "output_type": "execute_result"
    }
   ],
   "source": [
    "name = \"Kirti Popat Wagh\"\n",
    "name[::-1]"
   ]
  },
  {
   "cell_type": "code",
   "execution_count": 25,
   "id": "a80dccdc",
   "metadata": {},
   "outputs": [
    {
     "data": {
      "text/plain": [
       "'ha ao ti'"
      ]
     },
     "execution_count": 25,
     "metadata": {},
     "output_type": "execute_result"
    }
   ],
   "source": [
    "name = \"Kirti Popat Wagh\"\n",
    "name[::-2]"
   ]
  },
  {
   "cell_type": "code",
   "execution_count": 26,
   "id": "85330df8",
   "metadata": {},
   "outputs": [
    {
     "name": "stdout",
     "output_type": "stream",
     "text": [
      "input a string:radar\n",
      "radar radar\n"
     ]
    }
   ],
   "source": [
    "data=input(\"input a string:\")\n",
    "reverse=data[::-1]\n",
    "print(data,reverse)"
   ]
  },
  {
   "cell_type": "code",
   "execution_count": 27,
   "id": "61199644",
   "metadata": {},
   "outputs": [
    {
     "name": "stdout",
     "output_type": "stream",
     "text": [
      "input a string: mom\n",
      "input string: mom is palindrome\n"
     ]
    }
   ],
   "source": [
    "data = input(\"input a string: \")\n",
    "reverse = data[::-1] \n",
    "\n",
    "if data == reverse:\n",
    "  print(f\"input string: {data} is palindrome\")\n",
    "else:\n",
    "  print(f\"input string: {data} is NOT a palindrome\")"
   ]
  },
  {
   "cell_type": "markdown",
   "id": "4a630324",
   "metadata": {},
   "source": [
    "Mutability\n",
    "Mutable means subject to change or which can be changed"
   ]
  },
  {
   "cell_type": "code",
   "execution_count": 29,
   "id": "9768879b",
   "metadata": {},
   "outputs": [
    {
     "ename": "TypeError",
     "evalue": "'str' object does not support item assignment",
     "output_type": "error",
     "traceback": [
      "\u001b[1;31m---------------------------------------------------------------------------\u001b[0m",
      "\u001b[1;31mTypeError\u001b[0m                                 Traceback (most recent call last)",
      "\u001b[1;32m~\\AppData\\Local\\Temp/ipykernel_13044/3620245143.py\u001b[0m in \u001b[0;36m<module>\u001b[1;34m\u001b[0m\n\u001b[0;32m      3\u001b[0m \u001b[1;31m# Replace S with F?\u001b[0m\u001b[1;33m\u001b[0m\u001b[1;33m\u001b[0m\u001b[0m\n\u001b[0;32m      4\u001b[0m \u001b[1;33m\u001b[0m\u001b[0m\n\u001b[1;32m----> 5\u001b[1;33m \u001b[0mname\u001b[0m\u001b[1;33m[\u001b[0m\u001b[1;36m0\u001b[0m\u001b[1;33m]\u001b[0m \u001b[1;33m=\u001b[0m \u001b[1;34m\"F\"\u001b[0m \u001b[1;31m# immutablility  # String\u001b[0m\u001b[1;33m\u001b[0m\u001b[1;33m\u001b[0m\u001b[0m\n\u001b[0m",
      "\u001b[1;31mTypeError\u001b[0m: 'str' object does not support item assignment"
     ]
    }
   ],
   "source": [
    "name = \"Sunny\"\n",
    "\n",
    "# Replace S with F?\n",
    "\n",
    "name[0] = \"F\" # immutablility  # String"
   ]
  },
  {
   "cell_type": "code",
   "execution_count": 30,
   "id": "8b847968",
   "metadata": {},
   "outputs": [
    {
     "data": {
      "text/plain": [
       "'SunnYYY'"
      ]
     },
     "execution_count": 30,
     "metadata": {},
     "output_type": "execute_result"
    }
   ],
   "source": [
    "name = name.replace(\"y\", \"YYY\")\n",
    "name"
   ]
  },
  {
   "cell_type": "code",
   "execution_count": 31,
   "id": "e09e060b",
   "metadata": {},
   "outputs": [
    {
     "data": {
      "text/plain": [
       "'FunnYYY'"
      ]
     },
     "execution_count": 31,
     "metadata": {},
     "output_type": "execute_result"
    }
   ],
   "source": [
    "name = \"F\" + name[1:]\n",
    "\n",
    "name"
   ]
  },
  {
   "cell_type": "code",
   "execution_count": 32,
   "id": "56776387",
   "metadata": {},
   "outputs": [
    {
     "data": {
      "text/plain": [
       "'Kirti Popat Wagh'"
      ]
     },
     "execution_count": 32,
     "metadata": {},
     "output_type": "execute_result"
    }
   ],
   "source": [
    "name= \"Kirti POpat Wagh\"\n",
    "name=name.replace(\"O\",\"o\")\n",
    "name"
   ]
  },
  {
   "cell_type": "code",
   "execution_count": 33,
   "id": "b2ee4ff0",
   "metadata": {},
   "outputs": [
    {
     "data": {
      "text/plain": [
       "'Kirti_Popat_Wagh'"
      ]
     },
     "execution_count": 33,
     "metadata": {},
     "output_type": "execute_result"
    }
   ],
   "source": [
    "name=name.replace(\" \",\"_\")\n",
    "name"
   ]
  },
  {
   "cell_type": "code",
   "execution_count": 34,
   "id": "2854934c",
   "metadata": {},
   "outputs": [
    {
     "data": {
      "text/plain": [
       "16"
      ]
     },
     "execution_count": 34,
     "metadata": {},
     "output_type": "execute_result"
    }
   ],
   "source": [
    "len(name)"
   ]
  },
  {
   "cell_type": "code",
   "execution_count": 35,
   "id": "f6ba78a8",
   "metadata": {},
   "outputs": [
    {
     "data": {
      "text/plain": [
       "5"
      ]
     },
     "execution_count": 35,
     "metadata": {},
     "output_type": "execute_result"
    }
   ],
   "source": [
    "len(\"Kirti\")"
   ]
  },
  {
   "cell_type": "code",
   "execution_count": 36,
   "id": "db325a8d",
   "metadata": {},
   "outputs": [],
   "source": [
    "name=\"Kirti    \""
   ]
  },
  {
   "cell_type": "code",
   "execution_count": 37,
   "id": "865cc0e2",
   "metadata": {},
   "outputs": [
    {
     "data": {
      "text/plain": [
       "'Kirti'"
      ]
     },
     "execution_count": 37,
     "metadata": {},
     "output_type": "execute_result"
    }
   ],
   "source": [
    "name=name.replace(\" \",\"\")\n",
    "name"
   ]
  },
  {
   "cell_type": "markdown",
   "id": "f0922120",
   "metadata": {},
   "source": [
    "## String indexing\n",
    "## String slicing\n",
    "## String skipping\n",
    "## String reversal\n",
    "## String replace method\n",
    "## length of the string\n",
    "## String is immutable because we cannot directly assign any value using indexing"
   ]
  },
  {
   "cell_type": "code",
   "execution_count": 38,
   "id": "cff04bf8",
   "metadata": {},
   "outputs": [
    {
     "data": {
      "text/plain": [
       "''"
      ]
     },
     "execution_count": 38,
     "metadata": {},
     "output_type": "execute_result"
    }
   ],
   "source": [
    "name[5:-5]"
   ]
  },
  {
   "cell_type": "code",
   "execution_count": 39,
   "id": "f2ebd28c",
   "metadata": {},
   "outputs": [
    {
     "data": {
      "text/plain": [
       "2"
      ]
     },
     "execution_count": 39,
     "metadata": {},
     "output_type": "execute_result"
    }
   ],
   "source": [
    "#count specific character\n",
    "name.count(\"i\")"
   ]
  },
  {
   "cell_type": "code",
   "execution_count": 40,
   "id": "9af67b91",
   "metadata": {},
   "outputs": [
    {
     "data": {
      "text/plain": [
       "['Kirti', 'Popat', 'Wagh']"
      ]
     },
     "execution_count": 40,
     "metadata": {},
     "output_type": "execute_result"
    }
   ],
   "source": [
    "#SPlit Operation\n",
    "name= \"Kirti Popat Wagh\"\n",
    "name.split(\" \")"
   ]
  },
  {
   "cell_type": "code",
   "execution_count": 41,
   "id": "ec9be6c0",
   "metadata": {},
   "outputs": [
    {
     "name": "stdout",
     "output_type": "stream",
     "text": [
      "\n",
      "First name: Kirti\n",
      "Middle name: Popat\n",
      "Sir name: Wagh\n",
      "\n"
     ]
    }
   ],
   "source": [
    "first_name, middle_name, sir_name = name.split(\" \")\n",
    "\n",
    "print(f\"\"\"\n",
    "First name: {first_name}\n",
    "Middle name: {middle_name}\n",
    "Sir name: {sir_name}\n",
    "\"\"\")"
   ]
  },
  {
   "cell_type": "code",
   "execution_count": 43,
   "id": "044eb369",
   "metadata": {},
   "outputs": [
    {
     "name": "stdout",
     "output_type": "stream",
     "text": [
      "enter date of birth in the format DD/MMM/YYYY: 09/02/2001\n",
      "The user was born in the month of 02 in the year: 2001 on date: 09\n"
     ]
    }
   ],
   "source": [
    "                             \n",
    "data = input(\"enter date of birth in the format DD/MMM/YYYY: \")\n",
    "\n",
    "# today's date, Month and year\n",
    "\n",
    "date, month, year = data.split(\"/\")\n",
    "\n",
    "print(f\"The user was born in the month of {month} in the year: {year} on date: {date}\")"
   ]
  },
  {
   "cell_type": "code",
   "execution_count": 44,
   "id": "a70e5143",
   "metadata": {},
   "outputs": [
    {
     "data": {
      "text/plain": [
       "['09', '02', '2001']"
      ]
     },
     "execution_count": 44,
     "metadata": {},
     "output_type": "execute_result"
    }
   ],
   "source": [
    "data.split(\"/\")"
   ]
  },
  {
   "cell_type": "code",
   "execution_count": 45,
   "id": "42d78004",
   "metadata": {},
   "outputs": [
    {
     "name": "stdout",
     "output_type": "stream",
     "text": [
      "enter date of birth in the format DD/MMM/YYYY: 09/02/2001\n"
     ]
    },
    {
     "data": {
      "text/plain": [
       "['09', '02', '2001']"
      ]
     },
     "execution_count": 45,
     "metadata": {},
     "output_type": "execute_result"
    }
   ],
   "source": [
    "data = input(\"enter date of birth in the format DD/MMM/YYYY: \")\n",
    "data.split(\"/\")"
   ]
  },
  {
   "cell_type": "code",
   "execution_count": 46,
   "id": "ace61eb6",
   "metadata": {},
   "outputs": [
    {
     "name": "stdout",
     "output_type": "stream",
     "text": [
      "09 02 2001\n"
     ]
    }
   ],
   "source": [
    "A,B,C=data.split(\"/\")\n",
    "print(A,B,C)"
   ]
  },
  {
   "cell_type": "code",
   "execution_count": 47,
   "id": "ee6dac7e",
   "metadata": {},
   "outputs": [
    {
     "data": {
      "text/plain": [
       "['Kirti Popat Wagh']"
      ]
     },
     "execution_count": 47,
     "metadata": {},
     "output_type": "execute_result"
    }
   ],
   "source": [
    "name= \"Kirti Popat Wagh\"\n",
    "name.split(\"_\")"
   ]
  },
  {
   "cell_type": "code",
   "execution_count": 48,
   "id": "12bf6626",
   "metadata": {},
   "outputs": [
    {
     "data": {
      "text/plain": [
       "['Kirti Pop', 't W', 'gh']"
      ]
     },
     "execution_count": 48,
     "metadata": {},
     "output_type": "execute_result"
    }
   ],
   "source": [
    "name.split(\"a\")"
   ]
  },
  {
   "cell_type": "code",
   "execution_count": 49,
   "id": "8809aa5e",
   "metadata": {},
   "outputs": [
    {
     "data": {
      "text/plain": [
       "'kirti popat wagh'"
      ]
     },
     "execution_count": 49,
     "metadata": {},
     "output_type": "execute_result"
    }
   ],
   "source": [
    "name.lower()"
   ]
  },
  {
   "cell_type": "code",
   "execution_count": 50,
   "id": "9e7e431d",
   "metadata": {},
   "outputs": [
    {
     "data": {
      "text/plain": [
       "'KIRTI POPAT WAGH'"
      ]
     },
     "execution_count": 50,
     "metadata": {},
     "output_type": "execute_result"
    }
   ],
   "source": [
    "name.upper()"
   ]
  },
  {
   "cell_type": "code",
   "execution_count": 51,
   "id": "501c240d",
   "metadata": {},
   "outputs": [
    {
     "name": "stdout",
     "output_type": "stream",
     "text": [
      "Enter your name:Kirti Wagh\n",
      "user input: Kirti Wagh\n",
      "name in upper case: KIRTI WAGH\n",
      "name in lower case: kirti wagh\n",
      "name in title case: Kirti Wagh\n",
      "name in capitalize case: Kirti wagh\n",
      "name in swapcase case: kIRTI wAGH\n"
     ]
    }
   ],
   "source": [
    "name=input(\"Enter your name:\")\n",
    "print(f\"user input: {name}\")\n",
    "print(f\"name in upper case: {name.upper()}\")\n",
    "print(f\"name in lower case: {name.lower()}\")\n",
    "print(f\"name in title case: {name.title()}\") \n",
    "print(f\"name in capitalize case: {name.capitalize()}\")\n",
    "print(f\"name in swapcase case: {name.swapcase()}\")"
   ]
  },
  {
   "cell_type": "code",
   "execution_count": 52,
   "id": "96257d38",
   "metadata": {},
   "outputs": [
    {
     "data": {
      "text/plain": [
       "'K_i_r_t_i_ _P_O_p_a_t_ _W_a_g_h'"
      ]
     },
     "execution_count": 52,
     "metadata": {},
     "output_type": "execute_result"
    }
   ],
   "source": [
    "name=\"Kirti POpat Wagh\"\n",
    "\"_\".join(name)"
   ]
  },
  {
   "cell_type": "code",
   "execution_count": 53,
   "id": "3934e830",
   "metadata": {},
   "outputs": [
    {
     "data": {
      "text/plain": [
       "'K|i|r|t|i| |P|O|p|a|t| |W|a|g|h'"
      ]
     },
     "execution_count": 53,
     "metadata": {},
     "output_type": "execute_result"
    }
   ],
   "source": [
    "\"|\".join(name)"
   ]
  },
  {
   "cell_type": "code",
   "execution_count": 54,
   "id": "9b45570f",
   "metadata": {},
   "outputs": [
    {
     "data": {
      "text/plain": [
       "'hgaW tapOP itriK'"
      ]
     },
     "execution_count": 54,
     "metadata": {},
     "output_type": "execute_result"
    }
   ],
   "source": [
    "\"\".join(reversed(name))"
   ]
  },
  {
   "cell_type": "code",
   "execution_count": 57,
   "id": "459a9057",
   "metadata": {},
   "outputs": [
    {
     "data": {
      "text/plain": [
       "'Kirti'"
      ]
     },
     "execution_count": 57,
     "metadata": {},
     "output_type": "execute_result"
    }
   ],
   "source": [
    "name=\" Kirti    \"\n",
    "name.strip(\" \")"
   ]
  },
  {
   "cell_type": "code",
   "execution_count": 58,
   "id": "d0b69383",
   "metadata": {},
   "outputs": [
    {
     "data": {
      "text/plain": [
       "' Kirti'"
      ]
     },
     "execution_count": 58,
     "metadata": {},
     "output_type": "execute_result"
    }
   ],
   "source": [
    "name=\" Kirti    \"\n",
    "name.rstrip(\" \")"
   ]
  },
  {
   "cell_type": "code",
   "execution_count": 59,
   "id": "195778d3",
   "metadata": {},
   "outputs": [
    {
     "data": {
      "text/plain": [
       "'Kirti    '"
      ]
     },
     "execution_count": 59,
     "metadata": {},
     "output_type": "execute_result"
    }
   ],
   "source": [
    "name=\" Kirti    \"\n",
    "name.lstrip(\" \")"
   ]
  },
  {
   "cell_type": "code",
   "execution_count": 60,
   "id": "b500108f",
   "metadata": {},
   "outputs": [
    {
     "data": {
      "text/plain": [
       "'Kirti Popat Wagh'"
      ]
     },
     "execution_count": 60,
     "metadata": {},
     "output_type": "execute_result"
    }
   ],
   "source": [
    "name = \"==Kirti Popat Wagh====\"\n",
    "\n",
    "name.strip(\"=\")"
   ]
  },
  {
   "cell_type": "code",
   "execution_count": 61,
   "id": "ee02f07e",
   "metadata": {},
   "outputs": [
    {
     "data": {
      "text/plain": [
       "'#######Kirti########'"
      ]
     },
     "execution_count": 61,
     "metadata": {},
     "output_type": "execute_result"
    }
   ],
   "source": [
    "#Formating\n",
    "name=\"Kirti\"\n",
    "name.center(20, \"#\")"
   ]
  },
  {
   "cell_type": "code",
   "execution_count": 62,
   "id": "ce39e057",
   "metadata": {},
   "outputs": [
    {
     "data": {
      "text/plain": [
       "'**Kirti***'"
      ]
     },
     "execution_count": 62,
     "metadata": {},
     "output_type": "execute_result"
    }
   ],
   "source": [
    "name.center(10,\"*\")"
   ]
  },
  {
   "cell_type": "code",
   "execution_count": 63,
   "id": "d629f656",
   "metadata": {},
   "outputs": [
    {
     "data": {
      "text/plain": [
       "True"
      ]
     },
     "execution_count": 63,
     "metadata": {},
     "output_type": "execute_result"
    }
   ],
   "source": [
    "name=\"KIRTI\"\n",
    "name.isupper()"
   ]
  },
  {
   "cell_type": "code",
   "execution_count": 65,
   "id": "e9e1e784",
   "metadata": {},
   "outputs": [
    {
     "data": {
      "text/plain": [
       "False"
      ]
     },
     "execution_count": 65,
     "metadata": {},
     "output_type": "execute_result"
    }
   ],
   "source": [
    "name=\"Kirti\"\n",
    "name.islower()"
   ]
  },
  {
   "cell_type": "code",
   "execution_count": 66,
   "id": "a96dff18",
   "metadata": {},
   "outputs": [
    {
     "data": {
      "text/plain": [
       "True"
      ]
     },
     "execution_count": 66,
     "metadata": {},
     "output_type": "execute_result"
    }
   ],
   "source": [
    "name.istitle()"
   ]
  },
  {
   "cell_type": "code",
   "execution_count": 67,
   "id": "061a1947",
   "metadata": {},
   "outputs": [
    {
     "name": "stdout",
     "output_type": "stream",
     "text": [
      "enter your name:Kirti\n",
      "user input:Kirti\n",
      "user has correct input\n"
     ]
    }
   ],
   "source": [
    "name=input(\"enter your name:\")\n",
    "print(f\"user input:{name}\")\n",
    "if name.istitle():\n",
    "    print(f\"user has correct input\")\n",
    "else:\n",
    "    print(f\"useer has autocorrect it:\")\n",
    "    name=name.istitle()\n",
    "    print(f\"correct title:{name}\")"
   ]
  },
  {
   "cell_type": "code",
   "execution_count": 69,
   "id": "6c3dc570",
   "metadata": {},
   "outputs": [
    {
     "name": "stdout",
     "output_type": "stream",
     "text": [
      "Enter your name: KKKirti  LPof WAf\n",
      "user input: KKKirti  LPof WAf\n",
      "wrong input we need to autocorrect it\n",
      "Correct output: Kkkirti  Lpof Waf\n"
     ]
    }
   ],
   "source": [
    "name = input(\"Enter your name: \")\n",
    "\n",
    "print(f\"user input: {name}\")\n",
    "\n",
    "if name.istitle():\n",
    "  print(f\"user has given correct input\")\n",
    "elif name.isspace():\n",
    "  print(f\"Wrong input please try again!!\")\n",
    "else:\n",
    "  print(f\"wrong input we need to autocorrect it\")\n",
    "  name = name.title()\n",
    "  print(f\"Correct output: {name}\")"
   ]
  },
  {
   "cell_type": "code",
   "execution_count": 70,
   "id": "b622e110",
   "metadata": {},
   "outputs": [
    {
     "data": {
      "text/plain": [
       "True"
      ]
     },
     "execution_count": 70,
     "metadata": {},
     "output_type": "execute_result"
    }
   ],
   "source": [
    "phone_number = \"914511333333\"\n",
    "phone_number.isdigit()"
   ]
  },
  {
   "cell_type": "code",
   "execution_count": 71,
   "id": "767493f9",
   "metadata": {},
   "outputs": [
    {
     "data": {
      "text/plain": [
       "False"
      ]
     },
     "execution_count": 71,
     "metadata": {},
     "output_type": "execute_result"
    }
   ],
   "source": [
    "phone_number = \"914511333kkkk3\"\n",
    "phone_number.isdigit()"
   ]
  },
  {
   "cell_type": "code",
   "execution_count": 84,
   "id": "67a68d21",
   "metadata": {},
   "outputs": [
    {
     "data": {
      "text/plain": [
       "True"
      ]
     },
     "execution_count": 84,
     "metadata": {},
     "output_type": "execute_result"
    }
   ],
   "source": [
    "len(phone_number)==13"
   ]
  },
  {
   "cell_type": "code",
   "execution_count": 85,
   "id": "22698417",
   "metadata": {},
   "outputs": [
    {
     "data": {
      "text/plain": [
       "10"
      ]
     },
     "execution_count": 85,
     "metadata": {},
     "output_type": "execute_result"
    }
   ],
   "source": [
    "phone_number = \"+910000000000\"\n",
    "\n",
    "phone_number.count(\"0\")"
   ]
  },
  {
   "cell_type": "code",
   "execution_count": 72,
   "id": "d62f4ee3",
   "metadata": {},
   "outputs": [
    {
     "name": "stdout",
     "output_type": "stream",
     "text": [
      "Enter your phone no: 5452648512\n",
      "user input is correct\n"
     ]
    }
   ],
   "source": [
    "phone_number = input(\"Enter your phone no: \")\n",
    "\n",
    "if phone_number.isdigit() and len(phone_number) == 10:\n",
    "  print(f\"user input is correct\")\n",
    "else:\n",
    "  print(\"invalid input\")"
   ]
  },
  {
   "cell_type": "code",
   "execution_count": 73,
   "id": "c90c1427",
   "metadata": {},
   "outputs": [
    {
     "name": "stdout",
     "output_type": "stream",
     "text": [
      "Enter your phone no: 1234568900000\n",
      "invalid input\n"
     ]
    }
   ],
   "source": [
    "phone_number = input(\"Enter your phone no: \")\n",
    "\n",
    "if phone_number.isdigit() and len(phone_number) == 10:\n",
    "  print(f\"user input is correct\")\n",
    "else:\n",
    "  print(\"invalid input\")\n"
   ]
  },
  {
   "cell_type": "code",
   "execution_count": 74,
   "id": "152a269b",
   "metadata": {},
   "outputs": [
    {
     "name": "stdout",
     "output_type": "stream",
     "text": [
      "Enter your phone no: 0000000000\n",
      "invalid input\n"
     ]
    }
   ],
   "source": [
    "phone_number = input(\"Enter your phone no: \")\n",
    "\n",
    "if phone_number.isdigit() and len(phone_number) == 10 and phone_number != \"0000000000\":\n",
    "  print(f\"user input is correct\")\n",
    "else:\n",
    "  print(\"invalid input\")"
   ]
  },
  {
   "cell_type": "code",
   "execution_count": 76,
   "id": "0b2b8329",
   "metadata": {},
   "outputs": [
    {
     "data": {
      "text/plain": [
       "True"
      ]
     },
     "execution_count": 76,
     "metadata": {},
     "output_type": "execute_result"
    }
   ],
   "source": [
    "phone_number.startswith(\"0\")"
   ]
  },
  {
   "cell_type": "code",
   "execution_count": 77,
   "id": "d768b3e2",
   "metadata": {},
   "outputs": [
    {
     "data": {
      "text/plain": [
       "True"
      ]
     },
     "execution_count": 77,
     "metadata": {},
     "output_type": "execute_result"
    }
   ],
   "source": [
    "phone_number.endswith(\"0\")"
   ]
  },
  {
   "cell_type": "code",
   "execution_count": 78,
   "id": "faa21ae9",
   "metadata": {},
   "outputs": [
    {
     "name": "stdout",
     "output_type": "stream",
     "text": [
      "Enter your Indian phone no: 9657851212\n",
      "invalid input\n"
     ]
    }
   ],
   "source": [
    "phone_number = input(\"Enter your Indian phone no: \")\n",
    "\n",
    "if phone_number.startswith(\"+91\") and phone_number[1:].isdigit() and len(phone_number)==13:\n",
    "  print(f\"user input is correct\")\n",
    "else:\n",
    "  print(\"invalid input\")"
   ]
  },
  {
   "cell_type": "code",
   "execution_count": 79,
   "id": "2634be8a",
   "metadata": {},
   "outputs": [
    {
     "name": "stdout",
     "output_type": "stream",
     "text": [
      "Enter your Indian phone no: +919657828551\n",
      "user input is correct\n"
     ]
    }
   ],
   "source": [
    "phone_number = input(\"Enter your Indian phone no: \")\n",
    "\n",
    "if phone_number.startswith(\"+91\") and phone_number[1:].isdigit() and len(phone_number)==13:\n",
    "  print(f\"user input is correct\")\n",
    "else:\n",
    "  print(\"invalid input\")"
   ]
  },
  {
   "cell_type": "code",
   "execution_count": 80,
   "id": "4be5ae4e",
   "metadata": {},
   "outputs": [
    {
     "data": {
      "text/plain": [
       "True"
      ]
     },
     "execution_count": 80,
     "metadata": {},
     "output_type": "execute_result"
    }
   ],
   "source": [
    "PAN_NUMBERS = \"KIOPNHGU32L\"\n",
    "PAN_NUMBERS.isalnum() # Check for alpha numeric case"
   ]
  },
  {
   "cell_type": "code",
   "execution_count": 81,
   "id": "3a04f4f8",
   "metadata": {},
   "outputs": [
    {
     "data": {
      "text/plain": [
       "True"
      ]
     },
     "execution_count": 81,
     "metadata": {},
     "output_type": "execute_result"
    }
   ],
   "source": [
    "PAN_NUMBERS = \"789789789\"\n",
    "PAN_NUMBERS.isalnum() "
   ]
  },
  {
   "cell_type": "code",
   "execution_count": 82,
   "id": "8cf282c0",
   "metadata": {},
   "outputs": [
    {
     "data": {
      "text/plain": [
       "True"
      ]
     },
     "execution_count": 82,
     "metadata": {},
     "output_type": "execute_result"
    }
   ],
   "source": [
    "PAN_NUMBERS = \"Kirti\"\n",
    "PAN_NUMBERS.isalnum() "
   ]
  },
  {
   "cell_type": "code",
   "execution_count": 83,
   "id": "5958f094",
   "metadata": {},
   "outputs": [
    {
     "data": {
      "text/plain": [
       "False"
      ]
     },
     "execution_count": 83,
     "metadata": {},
     "output_type": "execute_result"
    }
   ],
   "source": [
    "PAN_NUMBERS = \"KIRTI**WAGH\"\n",
    "PAN_NUMBERS.isalnum()"
   ]
  },
  {
   "cell_type": "code",
   "execution_count": null,
   "id": "4280a9c3",
   "metadata": {},
   "outputs": [],
   "source": []
  }
 ],
 "metadata": {
  "kernelspec": {
   "display_name": "Python 3 (ipykernel)",
   "language": "python",
   "name": "python3"
  },
  "language_info": {
   "codemirror_mode": {
    "name": "ipython",
    "version": 3
   },
   "file_extension": ".py",
   "mimetype": "text/x-python",
   "name": "python",
   "nbconvert_exporter": "python",
   "pygments_lexer": "ipython3",
   "version": "3.9.7"
  }
 },
 "nbformat": 4,
 "nbformat_minor": 5
}
