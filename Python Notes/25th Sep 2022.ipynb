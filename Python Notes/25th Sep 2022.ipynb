{
 "cells": [
  {
   "cell_type": "markdown",
   "metadata": {
    "id": "DVmVcM1LIXDE"
   },
   "source": [
    "# AGENDA\n",
    "1. Variable Case senstivity\n",
    "2. Reserved words in Python\n",
    "3. Multi assignment of variables\n",
    "4. User input\n",
    "5. type casting | type conversion \n",
    "6. Memory block \n",
    "7. Operators\n",
    "  - Logical\n",
    "  - Equality\n",
    "  - Comparision\n",
    "  - Arthimatic\n",
    "  - Bitwise \n",
    "  - Operators for sets and dictionary \n",
    "\n",
    "8. String methods"
   ]
  },
  {
   "cell_type": "markdown",
   "metadata": {
    "id": "oU8UKhoMJjWG"
   },
   "source": [
    "## Variable Case senstivity"
   ]
  },
  {
   "cell_type": "code",
   "execution_count": 3,
   "metadata": {
    "id": "V-s72nEMIEy0"
   },
   "outputs": [],
   "source": [
    "TEN = 10\n",
    "ten = 20\n",
    "# TEN and ten both are different in terms of lowercase and uppercase letter"
   ]
  },
  {
   "cell_type": "code",
   "execution_count": 4,
   "metadata": {
    "colab": {
     "base_uri": "https://localhost:8080/",
     "height": 165
    },
    "id": "55zCoGQ8J_61",
    "outputId": "c3de6492-7426-4ead-90d6-fd3a073575db"
   },
   "outputs": [
    {
     "ename": "NameError",
     "evalue": "name 'Ten' is not defined",
     "output_type": "error",
     "traceback": [
      "\u001b[1;31m---------------------------------------------------------------------------\u001b[0m",
      "\u001b[1;31mNameError\u001b[0m                                 Traceback (most recent call last)",
      "\u001b[1;32m~\\AppData\\Local\\Temp/ipykernel_21756/2448699138.py\u001b[0m in \u001b[0;36m<module>\u001b[1;34m\u001b[0m\n\u001b[1;32m----> 1\u001b[1;33m \u001b[0mprint\u001b[0m\u001b[1;33m(\u001b[0m\u001b[0mTen\u001b[0m\u001b[1;33m)\u001b[0m\u001b[1;33m\u001b[0m\u001b[1;33m\u001b[0m\u001b[0m\n\u001b[0m",
      "\u001b[1;31mNameError\u001b[0m: name 'Ten' is not defined"
     ]
    }
   ],
   "source": [
    "print(Ten)"
   ]
  },
  {
   "cell_type": "code",
   "execution_count": 5,
   "metadata": {
    "colab": {
     "base_uri": "https://localhost:8080/"
    },
    "id": "BrRNG6X9KFr1",
    "outputId": "4d2eea08-87be-4d9f-ba5c-78e07239f0e2"
   },
   "outputs": [
    {
     "data": {
      "text/plain": [
       "10"
      ]
     },
     "execution_count": 5,
     "metadata": {},
     "output_type": "execute_result"
    }
   ],
   "source": [
    "TEN"
   ]
  },
  {
   "cell_type": "markdown",
   "metadata": {
    "id": "OHkkQ9qEKSTM"
   },
   "source": [
    "### Reserved words in Python\n"
   ]
  },
  {
   "cell_type": "markdown",
   "metadata": {
    "id": "W-LmC-qkKyfU"
   },
   "source": [
    "1. We should not use reserved words as variable names\n",
    "2. Also python doesn't restrict the user to use reserved keywords as variable names"
   ]
  },
  {
   "cell_type": "code",
   "execution_count": 6,
   "metadata": {
    "colab": {
     "base_uri": "https://localhost:8080/"
    },
    "id": "mE4sxcykKJJ0",
    "outputId": "f28b0f58-022f-4922-c60f-c7317cfce30e"
   },
   "outputs": [
    {
     "name": "stdout",
     "output_type": "stream",
     "text": [
      "Hi there\n"
     ]
    }
   ],
   "source": [
    "print(\"Hi there\")"
   ]
  },
  {
   "cell_type": "code",
   "execution_count": 7,
   "metadata": {
    "colab": {
     "base_uri": "https://localhost:8080/"
    },
    "id": "kaDwRuH1KXal",
    "outputId": "738055a3-09f9-4d5e-e0f5-ebbe79fc6750"
   },
   "outputs": [
    {
     "data": {
      "text/plain": [
       "str"
      ]
     },
     "execution_count": 7,
     "metadata": {},
     "output_type": "execute_result"
    }
   ],
   "source": [
    "print = \"Hi there\" # as a variable\n",
    "type(print)"
   ]
  },
  {
   "cell_type": "code",
   "execution_count": 8,
   "metadata": {
    "colab": {
     "base_uri": "https://localhost:8080/",
     "height": 165
    },
    "id": "6SUrJmKMLZMz",
    "outputId": "56a8ca0a-77d3-429e-b44f-0a0e0f1a3b65"
   },
   "outputs": [
    {
     "ename": "TypeError",
     "evalue": "'str' object is not callable",
     "output_type": "error",
     "traceback": [
      "\u001b[1;31m---------------------------------------------------------------------------\u001b[0m",
      "\u001b[1;31mTypeError\u001b[0m                                 Traceback (most recent call last)",
      "\u001b[1;32m~\\AppData\\Local\\Temp/ipykernel_21756/1408371229.py\u001b[0m in \u001b[0;36m<module>\u001b[1;34m\u001b[0m\n\u001b[1;32m----> 1\u001b[1;33m \u001b[0mprint\u001b[0m\u001b[1;33m(\u001b[0m\u001b[1;34m\"Hi there\"\u001b[0m\u001b[1;33m)\u001b[0m\u001b[1;33m\u001b[0m\u001b[1;33m\u001b[0m\u001b[0m\n\u001b[0m",
      "\u001b[1;31mTypeError\u001b[0m: 'str' object is not callable"
     ]
    }
   ],
   "source": [
    "print(\"Hi there\")"
   ]
  },
  {
   "cell_type": "code",
   "execution_count": 9,
   "metadata": {
    "colab": {
     "base_uri": "https://localhost:8080/"
    },
    "id": "FQLa3XMhLcr8",
    "outputId": "cc6666f8-8ecb-46fd-cd72-30c61f52e4ba"
   },
   "outputs": [
    {
     "data": {
      "text/plain": [
       "int"
      ]
     },
     "execution_count": 9,
     "metadata": {},
     "output_type": "execute_result"
    }
   ],
   "source": [
    "print = 12 # as a variable\n",
    "type(print)"
   ]
  },
  {
   "cell_type": "code",
   "execution_count": 10,
   "metadata": {
    "colab": {
     "base_uri": "https://localhost:8080/",
     "height": 165
    },
    "id": "Fj01DKUCLf3s",
    "outputId": "8a95b725-5e8c-4a6b-9403-c6172d6a0ae4"
   },
   "outputs": [
    {
     "ename": "TypeError",
     "evalue": "'int' object is not callable",
     "output_type": "error",
     "traceback": [
      "\u001b[1;31m---------------------------------------------------------------------------\u001b[0m",
      "\u001b[1;31mTypeError\u001b[0m                                 Traceback (most recent call last)",
      "\u001b[1;32m~\\AppData\\Local\\Temp/ipykernel_21756/1408371229.py\u001b[0m in \u001b[0;36m<module>\u001b[1;34m\u001b[0m\n\u001b[1;32m----> 1\u001b[1;33m \u001b[0mprint\u001b[0m\u001b[1;33m(\u001b[0m\u001b[1;34m\"Hi there\"\u001b[0m\u001b[1;33m)\u001b[0m\u001b[1;33m\u001b[0m\u001b[1;33m\u001b[0m\u001b[0m\n\u001b[0m",
      "\u001b[1;31mTypeError\u001b[0m: 'int' object is not callable"
     ]
    }
   ],
   "source": [
    "print(\"Hi there\")"
   ]
  },
  {
   "cell_type": "code",
   "execution_count": 11,
   "metadata": {
    "id": "dtl8lOLPLK0D"
   },
   "outputs": [],
   "source": [
    "del print # delete the variable print"
   ]
  },
  {
   "cell_type": "code",
   "execution_count": 12,
   "metadata": {
    "colab": {
     "base_uri": "https://localhost:8080/"
    },
    "id": "F8WshhVnKbD0",
    "outputId": "9b06ee1d-3201-43b6-f9b9-e8f5155f0eca"
   },
   "outputs": [
    {
     "name": "stdout",
     "output_type": "stream",
     "text": [
      "Hi there\n"
     ]
    }
   ],
   "source": [
    "print(\"Hi there\")"
   ]
  },
  {
   "cell_type": "code",
   "execution_count": 13,
   "metadata": {
    "id": "TmGpebqqVAp1"
   },
   "outputs": [],
   "source": [
    "print = 10"
   ]
  },
  {
   "cell_type": "code",
   "execution_count": 14,
   "metadata": {
    "colab": {
     "base_uri": "https://localhost:8080/"
    },
    "id": "2rHp0U9WVWOD",
    "outputId": "340212a1-a7f9-413d-a4da-170ef4733939"
   },
   "outputs": [
    {
     "data": {
      "text/plain": [
       "int"
      ]
     },
     "execution_count": 14,
     "metadata": {},
     "output_type": "execute_result"
    }
   ],
   "source": [
    "type(print)"
   ]
  },
  {
   "cell_type": "code",
   "execution_count": 15,
   "metadata": {
    "id": "TDOL4SggVo51"
   },
   "outputs": [],
   "source": [
    "del print"
   ]
  },
  {
   "cell_type": "code",
   "execution_count": 16,
   "metadata": {
    "colab": {
     "base_uri": "https://localhost:8080/"
    },
    "id": "AvQUbpdqVZUk",
    "outputId": "581ad2ff-a2c7-484a-f010-f5ad63815850"
   },
   "outputs": [
    {
     "name": "stdout",
     "output_type": "stream",
     "text": [
      "kirti\n"
     ]
    }
   ],
   "source": [
    "print(\"kirti\")"
   ]
  },
  {
   "cell_type": "markdown",
   "metadata": {
    "id": "yw9KNg31MJ9C"
   },
   "source": [
    "## Multi assignment of variables"
   ]
  },
  {
   "cell_type": "code",
   "execution_count": 17,
   "metadata": {
    "id": "PdZLlxA4LV5C"
   },
   "outputs": [],
   "source": [
    "a, b, c, yes = 10, 20.2, \"kirti\", True"
   ]
  },
  {
   "cell_type": "code",
   "execution_count": 18,
   "metadata": {
    "colab": {
     "base_uri": "https://localhost:8080/"
    },
    "id": "gQUhFpf9MhqC",
    "outputId": "021c709a-a5dd-4346-e7a2-d629fdff361f"
   },
   "outputs": [
    {
     "data": {
      "text/plain": [
       "int"
      ]
     },
     "execution_count": 18,
     "metadata": {},
     "output_type": "execute_result"
    }
   ],
   "source": [
    "type(a)"
   ]
  },
  {
   "cell_type": "code",
   "execution_count": 19,
   "metadata": {
    "colab": {
     "base_uri": "https://localhost:8080/"
    },
    "id": "TDZfkMKKMmS8",
    "outputId": "412381b3-91ef-4469-d3b1-94ed303a3130"
   },
   "outputs": [
    {
     "data": {
      "text/plain": [
       "float"
      ]
     },
     "execution_count": 19,
     "metadata": {},
     "output_type": "execute_result"
    }
   ],
   "source": [
    "type(b)"
   ]
  },
  {
   "cell_type": "code",
   "execution_count": 20,
   "metadata": {
    "colab": {
     "base_uri": "https://localhost:8080/"
    },
    "id": "nu2bLsRdMqyq",
    "outputId": "192f95ae-66c6-4169-8984-8175a85e3506"
   },
   "outputs": [
    {
     "data": {
      "text/plain": [
       "str"
      ]
     },
     "execution_count": 20,
     "metadata": {},
     "output_type": "execute_result"
    }
   ],
   "source": [
    "type(c)"
   ]
  },
  {
   "cell_type": "code",
   "execution_count": 21,
   "metadata": {
    "colab": {
     "base_uri": "https://localhost:8080/"
    },
    "id": "Ith7tnrQMsiy",
    "outputId": "139179cf-78d7-4c48-abb2-bf8cc78dc8d3"
   },
   "outputs": [
    {
     "data": {
      "text/plain": [
       "bool"
      ]
     },
     "execution_count": 21,
     "metadata": {},
     "output_type": "execute_result"
    }
   ],
   "source": [
    "type(yes)"
   ]
  },
  {
   "cell_type": "code",
   "execution_count": 22,
   "metadata": {
    "colab": {
     "base_uri": "https://localhost:8080/"
    },
    "id": "swVHYegYM8HC",
    "outputId": "605632b7-7960-481e-c3d4-db2acc4bde3d"
   },
   "outputs": [
    {
     "name": "stdout",
     "output_type": "stream",
     "text": [
      "<class 'int'>\n",
      "<class 'float'>\n",
      "<class 'str'>\n",
      "<class 'bool'>\n"
     ]
    }
   ],
   "source": [
    "print(type(a))\n",
    "print(type(b))\n",
    "print(type(c))\n",
    "print(type(yes))"
   ]
  },
  {
   "cell_type": "code",
   "execution_count": 23,
   "metadata": {
    "id": "D3-CBUsTOBcJ"
   },
   "outputs": [],
   "source": [
    "a, A, c, C = 10, 20.2, \"Sunny\", True"
   ]
  },
  {
   "cell_type": "code",
   "execution_count": 24,
   "metadata": {
    "colab": {
     "base_uri": "https://localhost:8080/"
    },
    "id": "ASXLkbvSOKpZ",
    "outputId": "24097307-493e-471c-ef68-396a00164e4e"
   },
   "outputs": [
    {
     "name": "stdout",
     "output_type": "stream",
     "text": [
      "10 20.2 Sunny True\n"
     ]
    }
   ],
   "source": [
    "print(a, A, c, C)"
   ]
  },
  {
   "cell_type": "code",
   "execution_count": 25,
   "metadata": {
    "id": "0cpw9w9WOMzx"
   },
   "outputs": [],
   "source": [
    "a=b=c=10"
   ]
  },
  {
   "cell_type": "code",
   "execution_count": 26,
   "metadata": {
    "colab": {
     "base_uri": "https://localhost:8080/"
    },
    "id": "U6GXf22IOUu6",
    "outputId": "42afee9d-a3d5-4106-f390-4fb9a0e327ff"
   },
   "outputs": [
    {
     "data": {
      "text/plain": [
       "(10, 10, 10)"
      ]
     },
     "execution_count": 26,
     "metadata": {},
     "output_type": "execute_result"
    }
   ],
   "source": [
    "a,b,c"
   ]
  },
  {
   "cell_type": "code",
   "execution_count": 27,
   "metadata": {
    "id": "YpszyuKHV2qC"
   },
   "outputs": [],
   "source": [
    "firstName, middleName, sirName = \"Kirti\", \"Popat\", \"Wagh\""
   ]
  },
  {
   "cell_type": "code",
   "execution_count": 28,
   "metadata": {
    "colab": {
     "base_uri": "https://localhost:8080/"
    },
    "id": "yPHAO7AWWIJU",
    "outputId": "0fd6956f-b419-4438-eb4c-68df6a8cde59"
   },
   "outputs": [
    {
     "name": "stdout",
     "output_type": "stream",
     "text": [
      "Kirti.Wagh@gmail.com\n"
     ]
    }
   ],
   "source": [
    "print(f\"{firstName}.{sirName}@gmail.com\")"
   ]
  },
  {
   "cell_type": "code",
   "execution_count": 29,
   "metadata": {
    "id": "bUvSc-2VWb7I"
   },
   "outputs": [],
   "source": [
    "name, place, year_of_birth, weight = \"kirti\", \"Maharashtra\", \"2001\", 50.0"
   ]
  },
  {
   "cell_type": "code",
   "execution_count": 30,
   "metadata": {
    "colab": {
     "base_uri": "https://localhost:8080/"
    },
    "id": "Ov2_WdBSWp0k",
    "outputId": "29afcc2d-5d49-4e5e-ca8c-69e413f19944"
   },
   "outputs": [
    {
     "name": "stdout",
     "output_type": "stream",
     "text": [
      "\n",
      "My name is: kirti\n",
      "I live at: Maharashtra\n",
      "I was born in: 2001\n",
      "My weight is: 50.0 in Kgs\n",
      "\n"
     ]
    }
   ],
   "source": [
    "print(f\"\"\"\n",
    "My name is: {name}\n",
    "I live at: {place}\n",
    "I was born in: {year_of_birth}\n",
    "My weight is: {weight} in Kgs\n",
    "\"\"\")"
   ]
  },
  {
   "cell_type": "code",
   "execution_count": 31,
   "metadata": {
    "colab": {
     "base_uri": "https://localhost:8080/"
    },
    "id": "MbI0CvFuOWQJ",
    "outputId": "420001db-42dd-4449-ccc1-774249f38821"
   },
   "outputs": [
    {
     "name": "stdout",
     "output_type": "stream",
     "text": [
      "Enter your Name: kirti\n",
      "You have entered: kirti\n"
     ]
    }
   ],
   "source": [
    "name = input(\"Enter your Name: \")\n",
    "\n",
    "print(f\"You have entered: {name}\")"
   ]
  },
  {
   "cell_type": "code",
   "execution_count": 32,
   "metadata": {
    "colab": {
     "base_uri": "https://localhost:8080/"
    },
    "id": "dOghfO2nPI2m",
    "outputId": "440db703-47bc-4bb2-e200-d7c2395269a8"
   },
   "outputs": [
    {
     "name": "stdout",
     "output_type": "stream",
     "text": [
      "Enter value of A: 2\n",
      "Enter value of B: 3\n",
      "Sum of A and B is: 23\n"
     ]
    }
   ],
   "source": [
    "A = input(\"Enter value of A: \")\n",
    "B = input(\"Enter value of B: \")\n",
    "\n",
    "print(f\"Sum of A and B is: {A+B}\")"
   ]
  },
  {
   "cell_type": "code",
   "execution_count": 33,
   "metadata": {
    "colab": {
     "base_uri": "https://localhost:8080/"
    },
    "id": "hHjGDwzGQB4n",
    "outputId": "78c1ac06-ddc0-4ba8-b33d-6b02f74a228e"
   },
   "outputs": [
    {
     "name": "stdout",
     "output_type": "stream",
     "text": [
      "Sum of A and B is: {A+B}\n"
     ]
    }
   ],
   "source": [
    "print(\"Sum of A and B is: {A+B}\")"
   ]
  },
  {
   "cell_type": "code",
   "execution_count": 34,
   "metadata": {
    "colab": {
     "base_uri": "https://localhost:8080/"
    },
    "id": "tzylmWEtPhux",
    "outputId": "9557e7e5-9d28-4f33-9616-5c4d59421135"
   },
   "outputs": [
    {
     "name": "stdout",
     "output_type": "stream",
     "text": [
      "Enter value of A: 25\n",
      "Enter value of B: 2\n",
      "<class 'str'> <class 'str'>\n"
     ]
    }
   ],
   "source": [
    "A = input(\"Enter value of A: \")\n",
    "B = input(\"Enter value of B: \")\n",
    "\n",
    "print(type(A), type(B))"
   ]
  },
  {
   "cell_type": "code",
   "execution_count": 35,
   "metadata": {
    "id": "WYYEPAmCaGWW"
   },
   "outputs": [
    {
     "name": "stdout",
     "output_type": "stream",
     "text": [
      "Name: Kirti\n",
      "place: Ahmednagar\n",
      "year_of_birth: 2001\n"
     ]
    }
   ],
   "source": [
    "name = input(\"Name: \")\n",
    "place = input(\"place: \")\n",
    "year_of_birth = input(\"year_of_birth: \")\n",
    "\n"
   ]
  },
  {
   "cell_type": "code",
   "execution_count": 36,
   "metadata": {
    "colab": {
     "base_uri": "https://localhost:8080/"
    },
    "id": "Zq9JV_i8aQlR",
    "outputId": "86ea1781-31b6-47b1-9852-cad2328759da"
   },
   "outputs": [
    {
     "name": "stdout",
     "output_type": "stream",
     "text": [
      "\n",
      "My name is: Kirti\n",
      "I live at: Ahmednagar\n",
      "I was born in: 2001\n",
      "\n"
     ]
    }
   ],
   "source": [
    "print(f\"\"\"\n",
    "My name is: {name}\n",
    "I live at: {place}\n",
    "I was born in: {year_of_birth}\n",
    "\"\"\")"
   ]
  },
  {
   "cell_type": "markdown",
   "metadata": {
    "id": "dQzI-ZL5RMpY"
   },
   "source": [
    "## Type conversion\n",
    "\n",
    "We can convert the data type of one variable into another if it is allowed\n"
   ]
  },
  {
   "cell_type": "code",
   "execution_count": 37,
   "metadata": {
    "colab": {
     "base_uri": "https://localhost:8080/"
    },
    "id": "zc3OYDDOQUb_",
    "outputId": "137d83d1-c45f-4854-ddf7-a0a614a7fce7"
   },
   "outputs": [
    {
     "name": "stdout",
     "output_type": "stream",
     "text": [
      "Enter value of A: 2\n",
      "Enter value of B: 4\n",
      "Sum of A and B is: 6.0\n"
     ]
    }
   ],
   "source": [
    "A = float(input(\"Enter value of A: \"))\n",
    "B = float(input(\"Enter value of B: \"))\n",
    "\n",
    "print(f\"Sum of A and B is: {A+B}\")"
   ]
  },
  {
   "cell_type": "code",
   "execution_count": 39,
   "metadata": {
    "colab": {
     "base_uri": "https://localhost:8080/"
    },
    "id": "kPe7Wv2LQiZQ",
    "outputId": "66f17121-daff-44d0-f9f1-da6e559054d9"
   },
   "outputs": [
    {
     "name": "stdout",
     "output_type": "stream",
     "text": [
      "Enter value of A: 52\n",
      "Enter value of B: 5\n",
      "Sum of A and B is: 57.0\n"
     ]
    }
   ],
   "source": [
    "A = float(input(\"Enter value of A: \"))\n",
    "B = int(input(\"Enter value of B: \"))\n",
    "\n",
    "print(f\"Sum of A and B is: {A+B}\")"
   ]
  },
  {
   "cell_type": "code",
   "execution_count": 40,
   "metadata": {
    "colab": {
     "base_uri": "https://localhost:8080/",
     "height": 252
    },
    "id": "yTF1cl6YQ6Nf",
    "outputId": "9f4eabae-4d29-4194-b018-127ab9e3eefb"
   },
   "outputs": [
    {
     "name": "stdout",
     "output_type": "stream",
     "text": [
      "Enter value of A: 2\n",
      "Enter value of B: 2\n",
      "Sum of A and B is: 4.0\n"
     ]
    }
   ],
   "source": [
    "A = float(input(\"Enter value of A: \"))\n",
    "B = int(input(\"Enter value of B: \")) # 10.2 is float but converting to int\n",
    "\n",
    "print(f\"Sum of A and B is: {A+B}\")"
   ]
  },
  {
   "cell_type": "code",
   "execution_count": 41,
   "metadata": {
    "colab": {
     "base_uri": "https://localhost:8080/"
    },
    "id": "C1apIF5nRHp9",
    "outputId": "d38b9e48-ba47-4eb3-97ab-a58285e0dc08"
   },
   "outputs": [
    {
     "name": "stdout",
     "output_type": "stream",
     "text": [
      "data type before: <class 'str'>, value of A: 50\n",
      "data type after: <class 'int'>, value of A: 50\n"
     ]
    }
   ],
   "source": [
    "# String to integer\n",
    "A = \"50\"\n",
    "print(f\"data type before: {type(A)}, value of A: {A}\")\n",
    "A = int(A)\n",
    "print(f\"data type after: {type(A)}, value of A: {A}\")"
   ]
  },
  {
   "cell_type": "code",
   "execution_count": 42,
   "metadata": {
    "colab": {
     "base_uri": "https://localhost:8080/",
     "height": 235
    },
    "id": "ByDvYxnMRcVG",
    "outputId": "4eceb9b6-6f90-441c-be2a-d51f05a1f656"
   },
   "outputs": [
    {
     "name": "stdout",
     "output_type": "stream",
     "text": [
      "data type before: <class 'str'>, value of A: 50.22\n"
     ]
    },
    {
     "ename": "ValueError",
     "evalue": "invalid literal for int() with base 10: '50.22'",
     "output_type": "error",
     "traceback": [
      "\u001b[1;31m---------------------------------------------------------------------------\u001b[0m",
      "\u001b[1;31mValueError\u001b[0m                                Traceback (most recent call last)",
      "\u001b[1;32m~\\AppData\\Local\\Temp/ipykernel_21756/4037603641.py\u001b[0m in \u001b[0;36m<module>\u001b[1;34m\u001b[0m\n\u001b[0;32m      2\u001b[0m \u001b[0mA\u001b[0m \u001b[1;33m=\u001b[0m \u001b[1;34m\"50.22\"\u001b[0m \u001b[1;31m# entering float\u001b[0m\u001b[1;33m\u001b[0m\u001b[1;33m\u001b[0m\u001b[0m\n\u001b[0;32m      3\u001b[0m \u001b[0mprint\u001b[0m\u001b[1;33m(\u001b[0m\u001b[1;34mf\"data type before: {type(A)}, value of A: {A}\"\u001b[0m\u001b[1;33m)\u001b[0m\u001b[1;33m\u001b[0m\u001b[1;33m\u001b[0m\u001b[0m\n\u001b[1;32m----> 4\u001b[1;33m \u001b[0mA\u001b[0m \u001b[1;33m=\u001b[0m \u001b[0mint\u001b[0m\u001b[1;33m(\u001b[0m\u001b[0mA\u001b[0m\u001b[1;33m)\u001b[0m \u001b[1;31m# trying to convert into integer\u001b[0m\u001b[1;33m\u001b[0m\u001b[1;33m\u001b[0m\u001b[0m\n\u001b[0m\u001b[0;32m      5\u001b[0m \u001b[0mprint\u001b[0m\u001b[1;33m(\u001b[0m\u001b[1;34mf\"data type after: {type(A)}, value of A: {A}\"\u001b[0m\u001b[1;33m)\u001b[0m\u001b[1;33m\u001b[0m\u001b[1;33m\u001b[0m\u001b[0m\n",
      "\u001b[1;31mValueError\u001b[0m: invalid literal for int() with base 10: '50.22'"
     ]
    }
   ],
   "source": [
    "# String to integer\n",
    "A = \"50.22\" # entering float\n",
    "print(f\"data type before: {type(A)}, value of A: {A}\")\n",
    "A = int(A) # trying to convert into integer\n",
    "print(f\"data type after: {type(A)}, value of A: {A}\")"
   ]
  },
  {
   "cell_type": "code",
   "execution_count": 43,
   "metadata": {
    "colab": {
     "base_uri": "https://localhost:8080/"
    },
    "id": "AjJCOzPDRzkO",
    "outputId": "02f991f0-349e-4b71-9081-df2c5363ab56"
   },
   "outputs": [
    {
     "name": "stdout",
     "output_type": "stream",
     "text": [
      "data type before: <class 'float'>, value of A: 50.22\n",
      "data type after: <class 'int'>, value of A: 50\n"
     ]
    }
   ],
   "source": [
    "# float to integer\n",
    "A = 50.22\n",
    "print(f\"data type before: {type(A)}, value of A: {A}\")\n",
    "A = int(A)\n",
    "print(f\"data type after: {type(A)}, value of A: {A}\")"
   ]
  },
  {
   "cell_type": "code",
   "execution_count": 44,
   "metadata": {
    "colab": {
     "base_uri": "https://localhost:8080/"
    },
    "id": "gBkQ44q9SPTM",
    "outputId": "50cfb5f5-59c8-4563-f967-617e2b140aef"
   },
   "outputs": [
    {
     "name": "stdout",
     "output_type": "stream",
     "text": [
      "data type before: <class 'int'>, value of A: 50\n",
      "data type after: <class 'float'>, value of A: 50.0\n"
     ]
    }
   ],
   "source": [
    "# integer to float\n",
    "A = 50\n",
    "print(f\"data type before: {type(A)}, value of A: {A}\")\n",
    "A = float(A)\n",
    "print(f\"data type after: {type(A)}, value of A: {A}\")"
   ]
  },
  {
   "cell_type": "code",
   "execution_count": 45,
   "metadata": {
    "colab": {
     "base_uri": "https://localhost:8080/"
    },
    "id": "96BXUnWNTKU4",
    "outputId": "b106b993-5923-4c96-da7e-808a55989037"
   },
   "outputs": [
    {
     "name": "stdout",
     "output_type": "stream",
     "text": [
      "data type before: <class 'int'>, value of A: 10\n",
      "data type after: <class 'bool'>, value of A: True\n"
     ]
    }
   ],
   "source": [
    "# integer to boolean\n",
    "A = 10\n",
    "print(f\"data type before: {type(A)}, value of A: {A}\")\n",
    "A = bool(A)\n",
    "print(f\"data type after: {type(A)}, value of A: {A}\")"
   ]
  },
  {
   "cell_type": "markdown",
   "metadata": {
    "id": "3VIia2DHdtWW"
   },
   "source": [
    "* True in binary - 1\n",
    "* False in binary - 0"
   ]
  },
  {
   "cell_type": "code",
   "execution_count": 46,
   "metadata": {
    "colab": {
     "base_uri": "https://localhost:8080/"
    },
    "id": "4gw2DntcTZFs",
    "outputId": "3c1750e6-6fb1-469c-cd96-7d9d3ce8db5b"
   },
   "outputs": [
    {
     "name": "stdout",
     "output_type": "stream",
     "text": [
      "data type before: <class 'int'>, value of A: 0\n",
      "data type after: <class 'bool'>, value of A: False\n"
     ]
    }
   ],
   "source": [
    "# integer to boolean\n",
    "A = 0\n",
    "print(f\"data type before: {type(A)}, value of A: {A}\")\n",
    "A = bool(A)\n",
    "print(f\"data type after: {type(A)}, value of A: {A}\")"
   ]
  },
  {
   "cell_type": "code",
   "execution_count": 47,
   "metadata": {
    "colab": {
     "base_uri": "https://localhost:8080/"
    },
    "id": "6b-tRTdcd_El",
    "outputId": "8e29bb45-6a0c-47a5-aaf8-34aabdcc15dc"
   },
   "outputs": [
    {
     "name": "stdout",
     "output_type": "stream",
     "text": [
      "data type before: <class 'int'>, value of A: 1\n",
      "data type after: <class 'bool'>, value of A: True\n"
     ]
    }
   ],
   "source": [
    "# integer to boolean\n",
    "A = 1\n",
    "print(f\"data type before: {type(A)}, value of A: {A}\")\n",
    "A = bool(A)\n",
    "print(f\"data type after: {type(A)}, value of A: {A}\")"
   ]
  },
  {
   "cell_type": "markdown",
   "metadata": {
    "id": "SZjpDsr9eDhL"
   },
   "source": [
    "> NOTE: Converting any non zero number and string values into boolean will give True as an answer\n",
    "\n",
    "> NOTE: Empty string \"\" will give False as an answer after converting from string to boolean"
   ]
  },
  {
   "cell_type": "code",
   "execution_count": 48,
   "metadata": {
    "colab": {
     "base_uri": "https://localhost:8080/"
    },
    "id": "MsoaPr7ZTjF0",
    "outputId": "4d2cbfd5-9a53-4179-aef2-0ca28e5d155c"
   },
   "outputs": [
    {
     "name": "stdout",
     "output_type": "stream",
     "text": [
      "data type before: <class 'int'>, value of A: -5\n",
      "data type after: <class 'bool'>, value of A: True\n"
     ]
    }
   ],
   "source": [
    "# integer to boolean\n",
    "A = -5\n",
    "print(f\"data type before: {type(A)}, value of A: {A}\")\n",
    "A = bool(A)\n",
    "print(f\"data type after: {type(A)}, value of A: {A}\")"
   ]
  },
  {
   "cell_type": "code",
   "execution_count": 49,
   "metadata": {
    "colab": {
     "base_uri": "https://localhost:8080/"
    },
    "id": "NHOsKHaBTsME",
    "outputId": "0880b494-1651-4664-dff9-e3d1220616aa"
   },
   "outputs": [
    {
     "name": "stdout",
     "output_type": "stream",
     "text": [
      "data type before: <class 'str'>, value of A: Sunny\n",
      "data type after: <class 'bool'>, value of A: True\n"
     ]
    }
   ],
   "source": [
    "# string to boolean\n",
    "A = \"Sunny\"\n",
    "print(f\"data type before: {type(A)}, value of A: {A}\")\n",
    "A = bool(A)\n",
    "print(f\"data type after: {type(A)}, value of A: {A}\")"
   ]
  },
  {
   "cell_type": "code",
   "execution_count": 50,
   "metadata": {
    "colab": {
     "base_uri": "https://localhost:8080/"
    },
    "id": "g_edyuK3T4Lk",
    "outputId": "7435585b-cd09-479e-e1ea-42e9c30cf7ba"
   },
   "outputs": [
    {
     "name": "stdout",
     "output_type": "stream",
     "text": [
      "data type before: <class 'str'>, value of A: True\n",
      "data type after: <class 'bool'>, value of A: True\n"
     ]
    }
   ],
   "source": [
    "# string to boolean\n",
    "A = \"True\"\n",
    "print(f\"data type before: {type(A)}, value of A: {A}\")\n",
    "A = bool(A)\n",
    "print(f\"data type after: {type(A)}, value of A: {A}\")"
   ]
  },
  {
   "cell_type": "code",
   "execution_count": 51,
   "metadata": {
    "colab": {
     "base_uri": "https://localhost:8080/"
    },
    "id": "-SyPV5NQT7Sb",
    "outputId": "f9c62107-788f-4121-90db-1652c58d314c"
   },
   "outputs": [
    {
     "name": "stdout",
     "output_type": "stream",
     "text": [
      "data type before: <class 'str'>, value of A: False\n",
      "data type after: <class 'bool'>, value of A: True\n"
     ]
    }
   ],
   "source": [
    "# string to boolean\n",
    "A = \"False\"\n",
    "print(f\"data type before: {type(A)}, value of A: {A}\")\n",
    "A = bool(A)\n",
    "print(f\"data type after: {type(A)}, value of A: {A}\")"
   ]
  },
  {
   "cell_type": "code",
   "execution_count": 52,
   "metadata": {
    "colab": {
     "base_uri": "https://localhost:8080/"
    },
    "id": "jzrNtmpzT-D9",
    "outputId": "6b3a953c-cdc6-45ea-921d-37233cf22512"
   },
   "outputs": [
    {
     "name": "stdout",
     "output_type": "stream",
     "text": [
      "data type before: <class 'str'>, value of A: \n",
      "data type after: <class 'bool'>, value of A: False\n"
     ]
    }
   ],
   "source": [
    "# empty string to boolean\n",
    "A = \"\"\n",
    "print(f\"data type before: {type(A)}, value of A: {A}\")\n",
    "A = bool(A)\n",
    "print(f\"data type after: {type(A)}, value of A: {A}\")"
   ]
  },
  {
   "cell_type": "code",
   "execution_count": 53,
   "metadata": {
    "colab": {
     "base_uri": "https://localhost:8080/"
    },
    "id": "Jm9kqqP0exZ1",
    "outputId": "6b284d68-c0ac-433b-d770-03d174b09bb1"
   },
   "outputs": [
    {
     "name": "stdout",
     "output_type": "stream",
     "text": [
      "data type before: <class 'str'>, value of A:  \n",
      "data type after: <class 'bool'>, value of A: True\n"
     ]
    }
   ],
   "source": [
    "# empty string to boolean\n",
    "A = \" \"\n",
    "print(f\"data type before: {type(A)}, value of A: {A}\")\n",
    "A = bool(A)\n",
    "print(f\"data type after: {type(A)}, value of A: {A}\")"
   ]
  },
  {
   "cell_type": "code",
   "execution_count": 54,
   "metadata": {
    "colab": {
     "base_uri": "https://localhost:8080/",
     "height": 235
    },
    "id": "PJshzz66UJN9",
    "outputId": "ad8d04c4-99c8-492b-c771-0b0702fa5020"
   },
   "outputs": [
    {
     "name": "stdout",
     "output_type": "stream",
     "text": [
      "data type before: <class 'str'>, value of A: \n"
     ]
    },
    {
     "ename": "ValueError",
     "evalue": "invalid literal for int() with base 10: ''",
     "output_type": "error",
     "traceback": [
      "\u001b[1;31m---------------------------------------------------------------------------\u001b[0m",
      "\u001b[1;31mValueError\u001b[0m                                Traceback (most recent call last)",
      "\u001b[1;32m~\\AppData\\Local\\Temp/ipykernel_21756/11330613.py\u001b[0m in \u001b[0;36m<module>\u001b[1;34m\u001b[0m\n\u001b[0;32m      2\u001b[0m \u001b[0mA\u001b[0m \u001b[1;33m=\u001b[0m \u001b[1;34m\"\"\u001b[0m\u001b[1;33m\u001b[0m\u001b[1;33m\u001b[0m\u001b[0m\n\u001b[0;32m      3\u001b[0m \u001b[0mprint\u001b[0m\u001b[1;33m(\u001b[0m\u001b[1;34mf\"data type before: {type(A)}, value of A: {A}\"\u001b[0m\u001b[1;33m)\u001b[0m\u001b[1;33m\u001b[0m\u001b[1;33m\u001b[0m\u001b[0m\n\u001b[1;32m----> 4\u001b[1;33m \u001b[0mA\u001b[0m \u001b[1;33m=\u001b[0m \u001b[0mint\u001b[0m\u001b[1;33m(\u001b[0m\u001b[0mA\u001b[0m\u001b[1;33m)\u001b[0m\u001b[1;33m\u001b[0m\u001b[1;33m\u001b[0m\u001b[0m\n\u001b[0m\u001b[0;32m      5\u001b[0m \u001b[0mprint\u001b[0m\u001b[1;33m(\u001b[0m\u001b[1;34mf\"data type after: {type(A)}, value of A: {A}\"\u001b[0m\u001b[1;33m)\u001b[0m\u001b[1;33m\u001b[0m\u001b[1;33m\u001b[0m\u001b[0m\n",
      "\u001b[1;31mValueError\u001b[0m: invalid literal for int() with base 10: ''"
     ]
    }
   ],
   "source": [
    "# empty string to int\n",
    "A = \"\"\n",
    "print(f\"data type before: {type(A)}, value of A: {A}\")\n",
    "A = int(A)\n",
    "print(f\"data type after: {type(A)}, value of A: {A}\")"
   ]
  },
  {
   "cell_type": "markdown",
   "metadata": {
    "id": "Yrovx8L4foKL"
   },
   "source": [
    "## Memory block"
   ]
  },
  {
   "cell_type": "code",
   "execution_count": 55,
   "metadata": {
    "id": "zovkAE5uUX7C"
   },
   "outputs": [],
   "source": [
    "a = 22\n",
    "b = 34\n",
    "c = 22"
   ]
  },
  {
   "cell_type": "code",
   "execution_count": 56,
   "metadata": {
    "colab": {
     "base_uri": "https://localhost:8080/"
    },
    "id": "iB_Yf-XwfskJ",
    "outputId": "05465d7c-5ac4-4b75-e30b-80f5ed92ae77"
   },
   "outputs": [
    {
     "data": {
      "text/plain": [
       "2926387489744"
      ]
     },
     "execution_count": 56,
     "metadata": {},
     "output_type": "execute_result"
    }
   ],
   "source": [
    "id(a) # memory address"
   ]
  },
  {
   "cell_type": "code",
   "execution_count": 57,
   "metadata": {
    "colab": {
     "base_uri": "https://localhost:8080/"
    },
    "id": "2QhbJnLbfvWp",
    "outputId": "7ccd6902-a652-4002-cf9d-b67aa5176d31"
   },
   "outputs": [
    {
     "data": {
      "text/plain": [
       "2926387490128"
      ]
     },
     "execution_count": 57,
     "metadata": {},
     "output_type": "execute_result"
    }
   ],
   "source": [
    "id(b)"
   ]
  },
  {
   "cell_type": "code",
   "execution_count": 58,
   "metadata": {
    "colab": {
     "base_uri": "https://localhost:8080/"
    },
    "id": "mLxiOUf_fyAa",
    "outputId": "23e65924-e2f0-40da-a631-8b5b6b2c58cb"
   },
   "outputs": [
    {
     "data": {
      "text/plain": [
       "2926387489744"
      ]
     },
     "execution_count": 58,
     "metadata": {},
     "output_type": "execute_result"
    }
   ],
   "source": [
    "id(c)"
   ]
  },
  {
   "cell_type": "code",
   "execution_count": 59,
   "metadata": {
    "id": "V_ebhqVQf02g"
   },
   "outputs": [],
   "source": [
    "c = 22 + b\n"
   ]
  },
  {
   "cell_type": "code",
   "execution_count": 60,
   "metadata": {
    "colab": {
     "base_uri": "https://localhost:8080/"
    },
    "id": "FRDxDQ7GgIfR",
    "outputId": "52a1fa91-fef6-440e-8b64-f7087c82f0ff"
   },
   "outputs": [
    {
     "data": {
      "text/plain": [
       "2926387679312"
      ]
     },
     "execution_count": 60,
     "metadata": {},
     "output_type": "execute_result"
    }
   ],
   "source": [
    "id(c)"
   ]
  },
  {
   "cell_type": "code",
   "execution_count": 61,
   "metadata": {
    "colab": {
     "base_uri": "https://localhost:8080/"
    },
    "id": "fNd2dcHmgJtQ",
    "outputId": "bcc9d3df-6d6d-40d9-c685-db726c3d735a"
   },
   "outputs": [
    {
     "data": {
      "text/plain": [
       "2926387489744"
      ]
     },
     "execution_count": 61,
     "metadata": {},
     "output_type": "execute_result"
    }
   ],
   "source": [
    "a = 22\n",
    "id(a)"
   ]
  },
  {
   "cell_type": "code",
   "execution_count": 62,
   "metadata": {
    "colab": {
     "base_uri": "https://localhost:8080/"
    },
    "id": "FWStSij2gSep",
    "outputId": "02c39a8c-978d-44ec-f85c-b66c10b1baaf"
   },
   "outputs": [
    {
     "data": {
      "text/plain": [
       "2926387680688"
      ]
     },
     "execution_count": 62,
     "metadata": {},
     "output_type": "execute_result"
    }
   ],
   "source": [
    "a = 99\n",
    "id(a)"
   ]
  },
  {
   "cell_type": "markdown",
   "metadata": {
    "id": "2JUt0VhygXaE"
   },
   "source": [
    "Memory is assigned to the value of variable passed not the variable name"
   ]
  },
  {
   "cell_type": "code",
   "execution_count": 63,
   "metadata": {
    "colab": {
     "base_uri": "https://localhost:8080/"
    },
    "id": "h2Oo_lIGgiZZ",
    "outputId": "78e7f2d9-5eca-40ed-9f27-79d4ec4f37ea"
   },
   "outputs": [
    {
     "name": "stdout",
     "output_type": "stream",
     "text": [
      "2926469460976 2926387490128 2926469460976\n"
     ]
    }
   ],
   "source": [
    "a = \"Sunny\"\n",
    "b = 34\n",
    "c = \"Sunny\"\n",
    "\n",
    "print(id(a), id(b), id(c))"
   ]
  },
  {
   "cell_type": "code",
   "execution_count": 64,
   "metadata": {
    "colab": {
     "base_uri": "https://localhost:8080/"
    },
    "id": "dudmdbuAg9kh",
    "outputId": "fe126c00-7a66-46e6-b8c6-7d1c1caa423a"
   },
   "outputs": [
    {
     "name": "stdout",
     "output_type": "stream",
     "text": [
      "2926393439664 2926387490128 2926393439664\n"
     ]
    }
   ],
   "source": [
    "a = \"S\"\n",
    "b = 34\n",
    "c = \"S\"\n",
    "\n",
    "print(id(a), id(b), id(c))"
   ]
  },
  {
   "cell_type": "code",
   "execution_count": 65,
   "metadata": {
    "colab": {
     "base_uri": "https://localhost:8080/"
    },
    "id": "JQKAen5UhROg",
    "outputId": "edefedde-ae27-4e99-ec1b-f66d2ffc84db"
   },
   "outputs": [
    {
     "name": "stdout",
     "output_type": "stream",
     "text": [
      "2926387489744 2926387490128 2926468476144\n"
     ]
    }
   ],
   "source": [
    "a = 22\n",
    "b = 34\n",
    "c = 22.0\n",
    "\n",
    "print(id(a), id(b), id(c))"
   ]
  },
  {
   "cell_type": "code",
   "execution_count": 66,
   "metadata": {
    "colab": {
     "base_uri": "https://localhost:8080/"
    },
    "id": "XwptODKahZkR",
    "outputId": "c9a09628-adbf-4699-de4c-867306daace4"
   },
   "outputs": [
    {
     "name": "stdout",
     "output_type": "stream",
     "text": [
      "Name: Kirti\n",
      "YOB: 2001\n",
      "21\n"
     ]
    }
   ],
   "source": [
    "name = input(\"Name: \")\n",
    "YOB = int(input(\"YOB: \")) # string\n",
    "\n",
    "age = 2022 - YOB\n",
    "print(age)\n"
   ]
  },
  {
   "cell_type": "code",
   "execution_count": 67,
   "metadata": {
    "colab": {
     "base_uri": "https://localhost:8080/"
    },
    "id": "38wz0T4UzzOi",
    "outputId": "14a0237f-139e-487d-8127-f2d9ffc6a996"
   },
   "outputs": [
    {
     "data": {
      "text/plain": [
       "35.88"
      ]
     },
     "execution_count": 67,
     "metadata": {},
     "output_type": "execute_result"
    }
   ],
   "source": [
    "round(25.88 + 10, 2)"
   ]
  },
  {
   "cell_type": "code",
   "execution_count": 68,
   "metadata": {
    "colab": {
     "base_uri": "https://localhost:8080/"
    },
    "id": "wo0wQmdk0LbP",
    "outputId": "a99c577d-c219-4d54-b851-e818ac97ed35"
   },
   "outputs": [
    {
     "data": {
      "text/plain": [
       "35.89"
      ]
     },
     "execution_count": 68,
     "metadata": {},
     "output_type": "execute_result"
    }
   ],
   "source": [
    "25.89 + 10"
   ]
  },
  {
   "cell_type": "code",
   "execution_count": null,
   "metadata": {
    "id": "RzQk1mvy1pSv"
   },
   "outputs": [],
   "source": []
  },
  {
   "cell_type": "code",
   "execution_count": null,
   "metadata": {},
   "outputs": [],
   "source": []
  }
 ],
 "metadata": {
  "colab": {
   "provenance": []
  },
  "kernelspec": {
   "display_name": "Python 3 (ipykernel)",
   "language": "python",
   "name": "python3"
  },
  "language_info": {
   "codemirror_mode": {
    "name": "ipython",
    "version": 3
   },
   "file_extension": ".py",
   "mimetype": "text/x-python",
   "name": "python",
   "nbconvert_exporter": "python",
   "pygments_lexer": "ipython3",
   "version": "3.9.7"
  }
 },
 "nbformat": 4,
 "nbformat_minor": 1
}
